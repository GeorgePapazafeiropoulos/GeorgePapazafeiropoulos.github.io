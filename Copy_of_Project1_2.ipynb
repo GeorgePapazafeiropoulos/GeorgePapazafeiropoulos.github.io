{
  "cells": [
    {
      "cell_type": "markdown",
      "metadata": {
        "id": "view-in-github",
        "colab_type": "text"
      },
      "source": [
        "<a href=\"https://colab.research.google.com/github/GeorgePapazafeiropoulos/GeorgePapazafeiropoulos.github.io/blob/D_Trials_1.0/Copy_of_Project1_2.ipynb\" target=\"_parent\"><img src=\"https://colab.research.google.com/assets/colab-badge.svg\" alt=\"Open In Colab\"/></a>"
      ]
    },
    {
      "cell_type": "code",
      "execution_count": null,
      "metadata": {
        "id": "r4ZUDp13R1vU"
      },
      "outputs": [],
      "source": [
        "# TensorFlow and tf.keras\n",
        "import tensorflow as tf\n",
        "from tensorflow import keras\n",
        "from keras.regularizers import l1, l2\n",
        "from keras.layers import Dense\n",
        "\n",
        "# Helper libraries\n",
        "import numpy as np\n",
        "import matplotlib.pyplot as plt\n",
        "import pandas as pd"
      ]
    },
    {
      "cell_type": "code",
      "execution_count": null,
      "metadata": {
        "id": "lH5scc1CSA8p",
        "colab": {
          "base_uri": "https://localhost:8080/"
        },
        "outputId": "79308697-04b3-4338-c527-942bb4f3c352"
      },
      "outputs": [
        {
          "output_type": "stream",
          "name": "stdout",
          "text": [
            "[[0.80729167]\n",
            " [0.7734375 ]\n",
            " [0.78385417]\n",
            " [0.64583333]\n",
            " [0.59895833]\n",
            " [0.53385417]\n",
            " [0.46614583]\n",
            " [0.359375  ]\n",
            " [0.35416667]\n",
            " [0.45052083]\n",
            " [0.44010417]\n",
            " [0.5078125 ]\n",
            " [0.20833333]\n",
            " [0.5       ]\n",
            " [0.48177083]\n",
            " [0.50520833]\n",
            " [0.49739583]\n",
            " [0.47395833]\n",
            " [0.41666667]\n",
            " [0.51822917]\n",
            " [0.4765625 ]\n",
            " [0.4296875 ]\n",
            " [0.5234375 ]\n",
            " [0.48177083]\n",
            " [0.37239583]\n",
            " [0.390625  ]\n",
            " [0.390625  ]\n",
            " [0.33333333]\n",
            " [0.453125  ]\n",
            " [0.4140625 ]\n",
            " [0.40885417]\n",
            " [0.39322917]\n",
            " [0.38802083]\n",
            " [0.58072917]\n",
            " [0.62239583]\n",
            " [0.53645833]\n",
            " [0.453125  ]\n",
            " [0.41145833]\n",
            " [0.44791667]\n",
            " [0.4140625 ]\n",
            " [0.4765625 ]\n",
            " [0.77864583]\n",
            " [0.90885417]\n",
            " [0.48177083]\n",
            " [0.47916667]\n",
            " [0.53645833]\n",
            " [0.49479167]\n",
            " [0.59895833]\n",
            " [0.55729167]\n",
            " [0.46354167]\n",
            " [0.51302083]\n",
            " [0.50520833]\n",
            " [0.52864583]\n",
            " [0.46354167]\n",
            " [0.33854167]\n",
            " [0.46875   ]\n",
            " [0.40364583]\n",
            " [0.43229167]\n",
            " [0.4375    ]\n",
            " [0.41666667]\n",
            " [0.34895833]\n",
            " [0.3984375 ]\n",
            " [0.390625  ]\n",
            " [0.36979167]\n",
            " [0.36458333]\n",
            " [0.5703125 ]\n",
            " [0.51302083]\n",
            " [0.4921875 ]\n",
            " [0.38541667]\n",
            " [0.54166667]\n",
            " [0.44270833]\n",
            " [0.53645833]\n",
            " [0.515625  ]\n",
            " [0.54947917]\n",
            " [0.42447917]\n",
            " [0.58072917]\n",
            " [0.49739583]\n",
            " [0.44010417]\n",
            " [0.3515625 ]\n",
            " [0.52604167]\n",
            " [0.49479167]\n",
            " [0.65885417]\n",
            " [1.        ]\n",
            " [0.71354167]\n",
            " [0.546875  ]\n",
            " [0.390625  ]\n",
            " [0.48697917]\n",
            " [0.4453125 ]\n",
            " [0.453125  ]\n",
            " [0.40104167]\n",
            " [0.50260417]\n",
            " [0.40885417]\n",
            " [0.34635417]\n",
            " [0.359375  ]\n",
            " [0.47916667]\n",
            " [0.51041667]\n",
            " [0.6328125 ]\n",
            " [0.46354167]\n",
            " [0.61979167]\n",
            " [0.44791667]\n",
            " [0.453125  ]\n",
            " [0.34375   ]\n",
            " [0.61197917]\n",
            " [0.59895833]\n",
            " [0.453125  ]\n",
            " [0.453125  ]\n",
            " [0.421875  ]\n",
            " [0.5546875 ]\n",
            " [0.37760417]\n",
            " [0.421875  ]\n",
            " [0.6171875 ]\n",
            " [0.50260417]\n",
            " [0.40885417]\n",
            " [0.46875   ]\n",
            " [0.34114583]\n",
            " [0.3203125 ]\n",
            " [0.765625  ]\n",
            " [0.81510417]\n",
            " [0.796875  ]]\n",
            "[[0.38909774]\n",
            " [0.35714286]\n",
            " [0.28571429]\n",
            " [0.27443609]\n",
            " [0.25      ]\n",
            " [0.28007519]\n",
            " [0.36466165]\n",
            " [0.29887218]\n",
            " [0.39661654]\n",
            " [0.32142857]\n",
            " [0.27631579]\n",
            " [0.28759398]\n",
            " [0.29511278]\n",
            " [0.33646617]\n",
            " [0.29887218]\n",
            " [0.28007519]\n",
            " [0.28947368]\n",
            " [0.94924812]\n",
            " [0.90225564]\n",
            " [1.        ]\n",
            " [0.71428571]\n",
            " [0.46616541]\n",
            " [0.52819549]\n",
            " [0.51315789]\n",
            " [0.42669173]\n",
            " [0.46428571]\n",
            " [0.46992481]\n",
            " [0.52443609]\n",
            " [0.43796992]\n",
            " [0.46240602]\n",
            " [0.29699248]\n",
            " [0.33458647]\n",
            " [0.34398496]\n",
            " [0.38345865]\n",
            " [0.38157895]\n",
            " [0.34962406]\n",
            " [0.32142857]\n",
            " [0.34962406]\n",
            " [0.28195489]\n",
            " [0.22556391]\n",
            " [0.2612782 ]\n",
            " [0.2537594 ]\n",
            " [0.22932331]\n",
            " [0.2537594 ]\n",
            " [0.26315789]\n",
            " [0.31766917]\n",
            " [0.32330827]\n",
            " [0.40977444]\n",
            " [0.37593985]\n",
            " [0.48120301]\n",
            " [0.43796992]\n",
            " [0.33082707]\n",
            " [0.48120301]\n",
            " [0.39473684]\n",
            " [0.45300752]\n",
            " [0.5093985 ]]\n"
          ]
        }
      ],
      "source": [
        "# Importing Train Data\n",
        "url = 'https://raw.githubusercontent.com/GeorgePapazafeiropoulos/GeorgePapazafeiropoulos.github.io/D_Trials_1.0/annOnline/DATA_TRAIN.csv'\n",
        "traindata = pd.read_csv(url, skiprows=None)\n",
        "traindata = traindata.values\n",
        "#print(traindata)\n",
        "\n",
        "# Importing Test Data\n",
        "url='https://raw.githubusercontent.com/GeorgePapazafeiropoulos/GeorgePapazafeiropoulos.github.io/D_Trials_1.0/annOnline/DATA_TEST.csv'\n",
        "testdata = pd.read_csv(url, skiprows=None)\n",
        "testdata=testdata.values\n",
        "#print(testdata)\n",
        "\n",
        "# Importing Train Output\n",
        "url='https://raw.githubusercontent.com/GeorgePapazafeiropoulos/GeorgePapazafeiropoulos.github.io/D_Trials_1.0/annOnline/OUTPUT_TRAIN.csv'\n",
        "trainoutput = pd.read_csv(url, skiprows=None)\n",
        "trainoutput=trainoutput.values\n",
        "trainoutput=trainoutput/np.max(trainoutput)\n",
        "print(trainoutput)\n",
        "\n",
        "# Importing Test Output\n",
        "url='https://raw.githubusercontent.com/GeorgePapazafeiropoulos/GeorgePapazafeiropoulos.github.io/D_Trials_1.0/annOnline/OUTPUT_TEST.csv'\n",
        "testoutput = pd.read_csv(url, skiprows=None)\n",
        "testoutput=testoutput.values\n",
        "testoutput=testoutput/np.max(testoutput)\n",
        "print(testoutput)"
      ]
    },
    {
      "cell_type": "code",
      "execution_count": null,
      "metadata": {
        "colab": {
          "base_uri": "https://localhost:8080/"
        },
        "id": "Itm2x1h43J-j",
        "outputId": "a66f7585-080e-48b5-d37b-2d8e84af8efd"
      },
      "outputs": [
        {
          "output_type": "execute_result",
          "data": {
            "text/plain": [
              "(119, 6)"
            ]
          },
          "metadata": {},
          "execution_count": 14
        }
      ],
      "source": [
        "#Shape of training data\n",
        "traindata.shape"
      ]
    },
    {
      "cell_type": "code",
      "execution_count": null,
      "metadata": {
        "colab": {
          "base_uri": "https://localhost:8080/"
        },
        "id": "kSbQfNsL3WX0",
        "outputId": "12059038-8b9d-492a-f92f-90591620a526"
      },
      "outputs": [
        {
          "output_type": "execute_result",
          "data": {
            "text/plain": [
              "(56, 6)"
            ]
          },
          "metadata": {},
          "execution_count": 15
        }
      ],
      "source": [
        "#Shape of test data\n",
        "testdata.shape"
      ]
    },
    {
      "cell_type": "code",
      "execution_count": null,
      "metadata": {
        "colab": {
          "base_uri": "https://localhost:8080/"
        },
        "id": "9Eyqe1cg3w5b",
        "outputId": "47b87c6a-7bf0-4662-edb0-546b2e91c2ca"
      },
      "outputs": [
        {
          "output_type": "execute_result",
          "data": {
            "text/plain": [
              "(119, 1)"
            ]
          },
          "metadata": {},
          "execution_count": 16
        }
      ],
      "source": [
        "#Shape of training output\n",
        "trainoutput.shape"
      ]
    },
    {
      "cell_type": "code",
      "execution_count": null,
      "metadata": {
        "colab": {
          "base_uri": "https://localhost:8080/"
        },
        "id": "b0Rbb0XSx2GE",
        "outputId": "1a0b82e7-7d60-4b31-fe79-8f2326147bb1"
      },
      "outputs": [
        {
          "output_type": "execute_result",
          "data": {
            "text/plain": [
              "(56, 1)"
            ]
          },
          "metadata": {},
          "execution_count": 17
        }
      ],
      "source": [
        "#Shape of test output\n",
        "testoutput.shape"
      ]
    },
    {
      "cell_type": "code",
      "execution_count": null,
      "metadata": {
        "id": "7coLWNmu38MD"
      },
      "outputs": [],
      "source": [
        "#Data Preprocessing\n",
        "traindata = traindata /1.0\n",
        "testdata = testdata /1.0\n",
        "\n",
        "#print(traindata)\n",
        "#print(testdata)"
      ]
    },
    {
      "cell_type": "code",
      "execution_count": null,
      "metadata": {
        "id": "pg9YK3PQ7Xyt"
      },
      "outputs": [],
      "source": [
        "#Building the model\n",
        "model = keras.Sequential([\n",
        "    keras.layers.Flatten(),  # input layer (1)\n",
        "    keras.layers.Dense(1024, activation='relu'),  # hidden layer (2)\n",
        "    keras.layers.Dense(1024, activation='relu'),  # hidden layer (2)\n",
        "    keras.layers.Dense(1024, activation='relu'),  # hidden layer (2)\n",
        "    keras.layers.Dense(1, activation='linear') # output layer (3)\n",
        "])\n"
      ]
    },
    {
      "cell_type": "code",
      "source": [
        "# Flatten the input data and get the output shape of the flatten() layer\n",
        "flatten_layer = model.layers[0]\n",
        "output_shape = flatten_layer(traindata).shape\n",
        "num_neurons = np.prod(output_shape)\n",
        "print(\"Number of neurons in the input layer:\", num_neurons)\n",
        "print(flatten_layer.summary())"
      ],
      "metadata": {
        "colab": {
          "base_uri": "https://localhost:8080/"
        },
        "id": "_VABcUTzuHvE",
        "outputId": "cc3ec5cc-8978-466e-a55f-7119727d290b"
      },
      "execution_count": null,
      "outputs": [
        {
          "output_type": "stream",
          "name": "stdout",
          "text": [
            "Number of neurons in the input layer: 714\n"
          ]
        }
      ]
    },
    {
      "cell_type": "code",
      "execution_count": null,
      "metadata": {
        "id": "uapx4iVn7v6s"
      },
      "outputs": [],
      "source": [
        "#Compiling the model\n",
        "model.compile(optimizer='adam',\n",
        "              loss='mean_squared_error',\n",
        "              metrics=['mean_absolute_error'])"
      ]
    },
    {
      "cell_type": "code",
      "execution_count": null,
      "metadata": {
        "colab": {
          "base_uri": "https://localhost:8080/"
        },
        "id": "6STBpkg878VQ",
        "outputId": "dd9ebe20-756c-4bd6-eb45-b547f07e74ee"
      },
      "outputs": [
        {
          "output_type": "stream",
          "name": "stdout",
          "text": [
            "Epoch 1/100\n",
            "3/3 [==============================] - 1s 148ms/step - loss: 7343.2651 - mean_absolute_error: 62.9105 - val_loss: 375.3273 - val_mean_absolute_error: 18.9368\n",
            "Epoch 2/100\n",
            "3/3 [==============================] - 0s 84ms/step - loss: 636.8076 - mean_absolute_error: 23.5504 - val_loss: 420.8652 - val_mean_absolute_error: 19.9452\n",
            "Epoch 3/100\n",
            "3/3 [==============================] - 0s 73ms/step - loss: 122.6987 - mean_absolute_error: 9.1851 - val_loss: 322.5983 - val_mean_absolute_error: 17.6266\n",
            "Epoch 4/100\n",
            "3/3 [==============================] - 0s 68ms/step - loss: 143.8096 - mean_absolute_error: 11.3572 - val_loss: 11.1526 - val_mean_absolute_error: 3.2086\n",
            "Epoch 5/100\n",
            "3/3 [==============================] - 0s 68ms/step - loss: 27.0060 - mean_absolute_error: 4.5592 - val_loss: 106.0981 - val_mean_absolute_error: 9.9665\n",
            "Epoch 6/100\n",
            "3/3 [==============================] - 0s 72ms/step - loss: 39.4419 - mean_absolute_error: 5.6960 - val_loss: 0.3713 - val_mean_absolute_error: 0.5185\n",
            "Epoch 7/100\n",
            "3/3 [==============================] - 0s 67ms/step - loss: 9.3439 - mean_absolute_error: 2.4378 - val_loss: 37.5481 - val_mean_absolute_error: 5.9812\n",
            "Epoch 8/100\n",
            "3/3 [==============================] - 0s 71ms/step - loss: 13.2052 - mean_absolute_error: 3.3652 - val_loss: 0.9098 - val_mean_absolute_error: 0.8013\n",
            "Epoch 9/100\n",
            "3/3 [==============================] - 0s 69ms/step - loss: 3.0986 - mean_absolute_error: 1.4305 - val_loss: 13.3763 - val_mean_absolute_error: 3.5324\n",
            "Epoch 10/100\n",
            "3/3 [==============================] - 0s 77ms/step - loss: 7.1186 - mean_absolute_error: 2.5344 - val_loss: 1.5481 - val_mean_absolute_error: 1.1041\n",
            "Epoch 11/100\n",
            "3/3 [==============================] - 0s 61ms/step - loss: 0.8618 - mean_absolute_error: 0.7876 - val_loss: 5.6429 - val_mean_absolute_error: 2.2345\n",
            "Epoch 12/100\n",
            "3/3 [==============================] - 0s 66ms/step - loss: 3.1369 - mean_absolute_error: 1.6168 - val_loss: 3.1576 - val_mean_absolute_error: 1.6505\n",
            "Epoch 13/100\n",
            "3/3 [==============================] - 0s 72ms/step - loss: 0.7531 - mean_absolute_error: 0.6486 - val_loss: 1.2453 - val_mean_absolute_error: 1.0478\n",
            "Epoch 14/100\n",
            "3/3 [==============================] - 0s 65ms/step - loss: 1.1007 - mean_absolute_error: 0.9957 - val_loss: 0.4197 - val_mean_absolute_error: 0.5734\n",
            "Epoch 15/100\n",
            "3/3 [==============================] - 0s 71ms/step - loss: 0.1723 - mean_absolute_error: 0.3561 - val_loss: 0.5573 - val_mean_absolute_error: 0.5885\n",
            "Epoch 16/100\n",
            "3/3 [==============================] - 0s 66ms/step - loss: 0.3188 - mean_absolute_error: 0.4433 - val_loss: 0.7602 - val_mean_absolute_error: 0.7206\n",
            "Epoch 17/100\n",
            "3/3 [==============================] - 0s 64ms/step - loss: 0.1639 - mean_absolute_error: 0.3075 - val_loss: 0.1498 - val_mean_absolute_error: 0.2954\n",
            "Epoch 18/100\n",
            "3/3 [==============================] - 0s 73ms/step - loss: 0.1505 - mean_absolute_error: 0.3335 - val_loss: 0.2857 - val_mean_absolute_error: 0.5076\n",
            "Epoch 19/100\n",
            "3/3 [==============================] - 0s 58ms/step - loss: 0.1446 - mean_absolute_error: 0.3413 - val_loss: 0.1624 - val_mean_absolute_error: 0.2826\n",
            "Epoch 20/100\n",
            "3/3 [==============================] - 0s 85ms/step - loss: 0.0876 - mean_absolute_error: 0.2127 - val_loss: 0.4351 - val_mean_absolute_error: 0.5071\n",
            "Epoch 21/100\n",
            "3/3 [==============================] - 0s 68ms/step - loss: 0.1206 - mean_absolute_error: 0.2641 - val_loss: 0.1530 - val_mean_absolute_error: 0.2831\n",
            "Epoch 22/100\n",
            "3/3 [==============================] - 0s 67ms/step - loss: 0.0538 - mean_absolute_error: 0.1864 - val_loss: 0.1154 - val_mean_absolute_error: 0.2834\n",
            "Epoch 23/100\n",
            "3/3 [==============================] - 0s 68ms/step - loss: 0.0727 - mean_absolute_error: 0.2252 - val_loss: 0.0928 - val_mean_absolute_error: 0.2343\n",
            "Epoch 24/100\n",
            "3/3 [==============================] - 0s 63ms/step - loss: 0.0420 - mean_absolute_error: 0.1587 - val_loss: 0.1785 - val_mean_absolute_error: 0.3284\n",
            "Epoch 25/100\n",
            "3/3 [==============================] - 0s 58ms/step - loss: 0.0480 - mean_absolute_error: 0.1664 - val_loss: 0.1128 - val_mean_absolute_error: 0.2659\n",
            "Epoch 26/100\n",
            "3/3 [==============================] - 0s 73ms/step - loss: 0.0355 - mean_absolute_error: 0.1415 - val_loss: 0.0643 - val_mean_absolute_error: 0.2137\n",
            "Epoch 27/100\n",
            "3/3 [==============================] - 0s 68ms/step - loss: 0.0404 - mean_absolute_error: 0.1604 - val_loss: 0.0711 - val_mean_absolute_error: 0.2149\n",
            "Epoch 28/100\n",
            "3/3 [==============================] - 0s 72ms/step - loss: 0.0310 - mean_absolute_error: 0.1258 - val_loss: 0.1235 - val_mean_absolute_error: 0.2810\n",
            "Epoch 29/100\n",
            "3/3 [==============================] - 0s 62ms/step - loss: 0.0348 - mean_absolute_error: 0.1349 - val_loss: 0.0903 - val_mean_absolute_error: 0.2405\n",
            "Epoch 30/100\n",
            "3/3 [==============================] - 0s 69ms/step - loss: 0.0261 - mean_absolute_error: 0.1157 - val_loss: 0.0619 - val_mean_absolute_error: 0.2020\n",
            "Epoch 31/100\n",
            "3/3 [==============================] - 0s 73ms/step - loss: 0.0311 - mean_absolute_error: 0.1296 - val_loss: 0.0613 - val_mean_absolute_error: 0.1990\n",
            "Epoch 32/100\n",
            "3/3 [==============================] - 0s 71ms/step - loss: 0.0265 - mean_absolute_error: 0.1179 - val_loss: 0.0922 - val_mean_absolute_error: 0.2414\n",
            "Epoch 33/100\n",
            "3/3 [==============================] - 0s 75ms/step - loss: 0.0308 - mean_absolute_error: 0.1261 - val_loss: 0.0921 - val_mean_absolute_error: 0.2403\n",
            "Epoch 34/100\n",
            "3/3 [==============================] - 0s 60ms/step - loss: 0.0248 - mean_absolute_error: 0.1147 - val_loss: 0.0624 - val_mean_absolute_error: 0.1971\n",
            "Epoch 35/100\n",
            "3/3 [==============================] - 0s 68ms/step - loss: 0.0283 - mean_absolute_error: 0.1216 - val_loss: 0.0618 - val_mean_absolute_error: 0.1955\n",
            "Epoch 36/100\n",
            "3/3 [==============================] - 0s 66ms/step - loss: 0.0259 - mean_absolute_error: 0.1189 - val_loss: 0.0902 - val_mean_absolute_error: 0.2355\n",
            "Epoch 37/100\n",
            "3/3 [==============================] - 0s 82ms/step - loss: 0.0263 - mean_absolute_error: 0.1165 - val_loss: 0.0768 - val_mean_absolute_error: 0.2169\n",
            "Epoch 38/100\n",
            "3/3 [==============================] - 0s 93ms/step - loss: 0.0243 - mean_absolute_error: 0.1118 - val_loss: 0.0691 - val_mean_absolute_error: 0.2058\n",
            "Epoch 39/100\n",
            "3/3 [==============================] - 0s 90ms/step - loss: 0.0253 - mean_absolute_error: 0.1132 - val_loss: 0.0752 - val_mean_absolute_error: 0.2143\n",
            "Epoch 40/100\n",
            "3/3 [==============================] - 0s 97ms/step - loss: 0.0243 - mean_absolute_error: 0.1101 - val_loss: 0.0694 - val_mean_absolute_error: 0.2059\n",
            "Epoch 41/100\n",
            "3/3 [==============================] - 0s 86ms/step - loss: 0.0243 - mean_absolute_error: 0.1096 - val_loss: 0.0627 - val_mean_absolute_error: 0.1939\n",
            "Epoch 42/100\n",
            "3/3 [==============================] - 0s 104ms/step - loss: 0.0273 - mean_absolute_error: 0.1132 - val_loss: 0.0837 - val_mean_absolute_error: 0.2251\n",
            "Epoch 43/100\n",
            "3/3 [==============================] - 0s 105ms/step - loss: 0.0254 - mean_absolute_error: 0.1109 - val_loss: 0.0624 - val_mean_absolute_error: 0.1925\n",
            "Epoch 44/100\n",
            "3/3 [==============================] - 0s 110ms/step - loss: 0.0244 - mean_absolute_error: 0.1093 - val_loss: 0.0782 - val_mean_absolute_error: 0.2164\n",
            "Epoch 45/100\n",
            "3/3 [==============================] - 0s 102ms/step - loss: 0.0234 - mean_absolute_error: 0.1068 - val_loss: 0.0719 - val_mean_absolute_error: 0.2066\n",
            "Epoch 46/100\n",
            "3/3 [==============================] - 0s 103ms/step - loss: 0.0226 - mean_absolute_error: 0.1052 - val_loss: 0.0728 - val_mean_absolute_error: 0.2073\n",
            "Epoch 47/100\n",
            "3/3 [==============================] - 0s 110ms/step - loss: 0.0225 - mean_absolute_error: 0.1047 - val_loss: 0.0701 - val_mean_absolute_error: 0.2028\n",
            "Epoch 48/100\n",
            "3/3 [==============================] - 0s 71ms/step - loss: 0.0224 - mean_absolute_error: 0.1054 - val_loss: 0.0742 - val_mean_absolute_error: 0.2089\n",
            "Epoch 49/100\n",
            "3/3 [==============================] - 0s 69ms/step - loss: 0.0223 - mean_absolute_error: 0.1041 - val_loss: 0.0737 - val_mean_absolute_error: 0.2075\n",
            "Epoch 50/100\n",
            "3/3 [==============================] - 0s 65ms/step - loss: 0.0227 - mean_absolute_error: 0.1052 - val_loss: 0.0689 - val_mean_absolute_error: 0.1994\n",
            "Epoch 51/100\n",
            "3/3 [==============================] - 0s 63ms/step - loss: 0.0224 - mean_absolute_error: 0.1049 - val_loss: 0.0782 - val_mean_absolute_error: 0.2139\n",
            "Epoch 52/100\n",
            "3/3 [==============================] - 0s 77ms/step - loss: 0.0235 - mean_absolute_error: 0.1068 - val_loss: 0.0697 - val_mean_absolute_error: 0.2001\n",
            "Epoch 53/100\n",
            "3/3 [==============================] - 0s 63ms/step - loss: 0.0224 - mean_absolute_error: 0.1030 - val_loss: 0.0836 - val_mean_absolute_error: 0.2213\n",
            "Epoch 54/100\n",
            "3/3 [==============================] - 0s 64ms/step - loss: 0.0226 - mean_absolute_error: 0.1053 - val_loss: 0.0738 - val_mean_absolute_error: 0.2068\n",
            "Epoch 55/100\n",
            "3/3 [==============================] - 0s 63ms/step - loss: 0.0236 - mean_absolute_error: 0.1068 - val_loss: 0.0607 - val_mean_absolute_error: 0.1879\n",
            "Epoch 56/100\n",
            "3/3 [==============================] - 0s 62ms/step - loss: 0.0223 - mean_absolute_error: 0.1057 - val_loss: 0.0864 - val_mean_absolute_error: 0.2251\n",
            "Epoch 57/100\n",
            "3/3 [==============================] - 0s 67ms/step - loss: 0.0244 - mean_absolute_error: 0.1134 - val_loss: 0.0903 - val_mean_absolute_error: 0.2311\n",
            "Epoch 58/100\n",
            "3/3 [==============================] - 0s 71ms/step - loss: 0.0245 - mean_absolute_error: 0.1104 - val_loss: 0.0591 - val_mean_absolute_error: 0.1865\n",
            "Epoch 59/100\n",
            "3/3 [==============================] - 0s 69ms/step - loss: 0.0229 - mean_absolute_error: 0.1077 - val_loss: 0.0789 - val_mean_absolute_error: 0.2132\n",
            "Epoch 60/100\n",
            "3/3 [==============================] - 0s 76ms/step - loss: 0.0237 - mean_absolute_error: 0.1101 - val_loss: 0.0894 - val_mean_absolute_error: 0.2293\n",
            "Epoch 61/100\n",
            "3/3 [==============================] - 0s 71ms/step - loss: 0.0220 - mean_absolute_error: 0.1051 - val_loss: 0.0637 - val_mean_absolute_error: 0.1898\n",
            "Epoch 62/100\n",
            "3/3 [==============================] - 0s 78ms/step - loss: 0.0225 - mean_absolute_error: 0.1059 - val_loss: 0.0720 - val_mean_absolute_error: 0.2014\n",
            "Epoch 63/100\n",
            "3/3 [==============================] - 0s 80ms/step - loss: 0.0227 - mean_absolute_error: 0.1017 - val_loss: 0.0914 - val_mean_absolute_error: 0.2330\n",
            "Epoch 64/100\n",
            "3/3 [==============================] - 0s 69ms/step - loss: 0.0231 - mean_absolute_error: 0.1028 - val_loss: 0.0637 - val_mean_absolute_error: 0.1890\n",
            "Epoch 65/100\n",
            "3/3 [==============================] - 0s 74ms/step - loss: 0.0223 - mean_absolute_error: 0.1048 - val_loss: 0.0778 - val_mean_absolute_error: 0.2101\n",
            "Epoch 66/100\n",
            "3/3 [==============================] - 0s 79ms/step - loss: 0.0212 - mean_absolute_error: 0.1030 - val_loss: 0.0829 - val_mean_absolute_error: 0.2186\n",
            "Epoch 67/100\n",
            "3/3 [==============================] - 0s 69ms/step - loss: 0.0210 - mean_absolute_error: 0.1021 - val_loss: 0.0690 - val_mean_absolute_error: 0.1956\n",
            "Epoch 68/100\n",
            "3/3 [==============================] - 0s 76ms/step - loss: 0.0212 - mean_absolute_error: 0.1014 - val_loss: 0.0658 - val_mean_absolute_error: 0.1912\n",
            "Epoch 69/100\n",
            "3/3 [==============================] - 0s 75ms/step - loss: 0.0217 - mean_absolute_error: 0.1002 - val_loss: 0.0795 - val_mean_absolute_error: 0.2137\n",
            "Epoch 70/100\n",
            "3/3 [==============================] - 0s 64ms/step - loss: 0.0208 - mean_absolute_error: 0.0999 - val_loss: 0.0701 - val_mean_absolute_error: 0.1979\n",
            "Epoch 71/100\n",
            "3/3 [==============================] - 0s 69ms/step - loss: 0.0209 - mean_absolute_error: 0.0995 - val_loss: 0.0701 - val_mean_absolute_error: 0.1979\n",
            "Epoch 72/100\n",
            "3/3 [==============================] - 0s 69ms/step - loss: 0.0207 - mean_absolute_error: 0.0987 - val_loss: 0.0698 - val_mean_absolute_error: 0.1972\n",
            "Epoch 73/100\n",
            "3/3 [==============================] - 0s 79ms/step - loss: 0.0207 - mean_absolute_error: 0.0995 - val_loss: 0.0772 - val_mean_absolute_error: 0.2100\n",
            "Epoch 74/100\n",
            "3/3 [==============================] - 0s 67ms/step - loss: 0.0210 - mean_absolute_error: 0.0996 - val_loss: 0.0682 - val_mean_absolute_error: 0.1944\n",
            "Epoch 75/100\n",
            "3/3 [==============================] - 0s 76ms/step - loss: 0.0205 - mean_absolute_error: 0.0990 - val_loss: 0.0717 - val_mean_absolute_error: 0.2005\n",
            "Epoch 76/100\n",
            "3/3 [==============================] - 0s 73ms/step - loss: 0.0203 - mean_absolute_error: 0.0989 - val_loss: 0.0753 - val_mean_absolute_error: 0.2061\n",
            "Epoch 77/100\n",
            "3/3 [==============================] - 0s 70ms/step - loss: 0.0205 - mean_absolute_error: 0.0992 - val_loss: 0.0709 - val_mean_absolute_error: 0.1984\n",
            "Epoch 78/100\n",
            "3/3 [==============================] - 0s 80ms/step - loss: 0.0209 - mean_absolute_error: 0.1008 - val_loss: 0.0748 - val_mean_absolute_error: 0.2055\n",
            "Epoch 79/100\n",
            "3/3 [==============================] - 0s 68ms/step - loss: 0.0202 - mean_absolute_error: 0.0977 - val_loss: 0.0671 - val_mean_absolute_error: 0.1925\n",
            "Epoch 80/100\n",
            "3/3 [==============================] - 0s 77ms/step - loss: 0.0213 - mean_absolute_error: 0.1015 - val_loss: 0.0732 - val_mean_absolute_error: 0.2028\n",
            "Epoch 81/100\n",
            "3/3 [==============================] - 0s 71ms/step - loss: 0.0200 - mean_absolute_error: 0.0998 - val_loss: 0.0847 - val_mean_absolute_error: 0.2228\n",
            "Epoch 82/100\n",
            "3/3 [==============================] - 0s 65ms/step - loss: 0.0209 - mean_absolute_error: 0.1036 - val_loss: 0.0681 - val_mean_absolute_error: 0.1949\n",
            "Epoch 83/100\n",
            "3/3 [==============================] - 0s 89ms/step - loss: 0.0215 - mean_absolute_error: 0.1036 - val_loss: 0.0642 - val_mean_absolute_error: 0.1893\n",
            "Epoch 84/100\n",
            "3/3 [==============================] - 0s 67ms/step - loss: 0.0206 - mean_absolute_error: 0.0994 - val_loss: 0.0880 - val_mean_absolute_error: 0.2296\n",
            "Epoch 85/100\n",
            "3/3 [==============================] - 0s 63ms/step - loss: 0.0212 - mean_absolute_error: 0.1038 - val_loss: 0.0726 - val_mean_absolute_error: 0.2015\n",
            "Epoch 86/100\n",
            "3/3 [==============================] - 0s 59ms/step - loss: 0.0201 - mean_absolute_error: 0.0995 - val_loss: 0.0638 - val_mean_absolute_error: 0.1882\n",
            "Epoch 87/100\n",
            "3/3 [==============================] - 0s 70ms/step - loss: 0.0206 - mean_absolute_error: 0.0995 - val_loss: 0.0791 - val_mean_absolute_error: 0.2126\n",
            "Epoch 88/100\n",
            "3/3 [==============================] - 0s 85ms/step - loss: 0.0199 - mean_absolute_error: 0.0981 - val_loss: 0.0678 - val_mean_absolute_error: 0.1940\n",
            "Epoch 89/100\n",
            "3/3 [==============================] - 0s 72ms/step - loss: 0.0208 - mean_absolute_error: 0.1011 - val_loss: 0.0690 - val_mean_absolute_error: 0.1955\n",
            "Epoch 90/100\n",
            "3/3 [==============================] - 0s 64ms/step - loss: 0.0203 - mean_absolute_error: 0.1010 - val_loss: 0.0825 - val_mean_absolute_error: 0.2197\n",
            "Epoch 91/100\n",
            "3/3 [==============================] - 0s 75ms/step - loss: 0.0199 - mean_absolute_error: 0.0980 - val_loss: 0.0636 - val_mean_absolute_error: 0.1879\n",
            "Epoch 92/100\n",
            "3/3 [==============================] - 0s 76ms/step - loss: 0.0203 - mean_absolute_error: 0.0993 - val_loss: 0.0722 - val_mean_absolute_error: 0.2006\n",
            "Epoch 93/100\n",
            "3/3 [==============================] - 0s 75ms/step - loss: 0.0194 - mean_absolute_error: 0.0968 - val_loss: 0.0819 - val_mean_absolute_error: 0.2188\n",
            "Epoch 94/100\n",
            "3/3 [==============================] - 0s 69ms/step - loss: 0.0202 - mean_absolute_error: 0.1017 - val_loss: 0.0705 - val_mean_absolute_error: 0.1983\n",
            "Epoch 95/100\n",
            "3/3 [==============================] - 0s 64ms/step - loss: 0.0204 - mean_absolute_error: 0.1002 - val_loss: 0.0660 - val_mean_absolute_error: 0.1917\n",
            "Epoch 96/100\n",
            "3/3 [==============================] - 0s 57ms/step - loss: 0.0227 - mean_absolute_error: 0.1078 - val_loss: 0.0812 - val_mean_absolute_error: 0.2183\n",
            "Epoch 97/100\n",
            "3/3 [==============================] - 0s 93ms/step - loss: 0.0189 - mean_absolute_error: 0.0969 - val_loss: 0.0583 - val_mean_absolute_error: 0.1854\n",
            "Epoch 98/100\n",
            "3/3 [==============================] - 0s 100ms/step - loss: 0.0207 - mean_absolute_error: 0.1031 - val_loss: 0.0740 - val_mean_absolute_error: 0.2039\n",
            "Epoch 99/100\n",
            "3/3 [==============================] - 0s 106ms/step - loss: 0.0221 - mean_absolute_error: 0.1056 - val_loss: 0.0788 - val_mean_absolute_error: 0.2124\n",
            "Epoch 100/100\n",
            "3/3 [==============================] - 0s 109ms/step - loss: 0.0215 - mean_absolute_error: 0.1041 - val_loss: 0.0585 - val_mean_absolute_error: 0.1851\n"
          ]
        },
        {
          "output_type": "execute_result",
          "data": {
            "text/plain": [
              "<keras.callbacks.History at 0x7dda25fd99f0>"
            ]
          },
          "metadata": {},
          "execution_count": 22
        }
      ],
      "source": [
        "#Training the model\n",
        "model.fit(traindata, trainoutput, epochs=100, validation_split=0.2)  # we pass the data, labels and epochs"
      ]
    },
    {
      "cell_type": "code",
      "execution_count": null,
      "metadata": {
        "colab": {
          "base_uri": "https://localhost:8080/"
        },
        "id": "8eAjL4iIzDTy",
        "outputId": "c0ed8549-7bc5-42d6-a961-5f5dfd5e6926"
      },
      "outputs": [
        {
          "output_type": "stream",
          "name": "stdout",
          "text": [
            "4/4 [==============================] - 0s 13ms/step - loss: 0.0288 - mean_absolute_error: 0.1211\n",
            "Test loss: 0.02879353053867817\n",
            "Test accuracy: 0.12107951939105988\n"
          ]
        }
      ],
      "source": [
        "test_loss, test_acc = model.evaluate(traindata,  trainoutput, verbose=1)\n",
        "\n",
        "print('Test loss:', test_loss)\n",
        "print('Test accuracy:', test_acc)"
      ]
    },
    {
      "cell_type": "code",
      "execution_count": null,
      "metadata": {
        "colab": {
          "base_uri": "https://localhost:8080/"
        },
        "id": "Pt_DkH349XlQ",
        "outputId": "d1c45810-5f5b-4831-d82d-7120daa784a4"
      },
      "outputs": [
        {
          "output_type": "stream",
          "name": "stdout",
          "text": [
            "2/2 [==============================] - 0s 14ms/step\n"
          ]
        }
      ],
      "source": [
        "predictions = model.predict(testdata)\n",
        "#print(testdata)\n",
        "#print(testdata.iloc[-1]) #In case that testdata is not numpy.ndarray object but dataframe object (which is the direct output of the pd.read_csv above)"
      ]
    },
    {
      "cell_type": "code",
      "execution_count": null,
      "metadata": {
        "id": "drhbG7MsX4Oh"
      },
      "outputs": [],
      "source": [
        "#print(predictions)\n"
      ]
    },
    {
      "cell_type": "code",
      "execution_count": null,
      "metadata": {
        "id": "JaQ5bO1tX8CF"
      },
      "outputs": [],
      "source": [
        "#print(testoutput)"
      ]
    },
    {
      "cell_type": "code",
      "source": [
        "# Plot both vectors on the same plot\n",
        "plt.plot(testoutput, label='testoutput')\n",
        "plt.plot(predictions, label='predictions')\n",
        "\n",
        "# Customize the plot (optional)\n",
        "plt.xlabel('Observation')\n",
        "plt.ylabel('Value')\n",
        "plt.title('Plot of Test output and prediction output')\n",
        "plt.legend()\n",
        "\n",
        "# Show the plot\n",
        "plt.show()"
      ],
      "metadata": {
        "colab": {
          "base_uri": "https://localhost:8080/",
          "height": 472
        },
        "id": "dFUlx56MYmQy",
        "outputId": "03aa458a-e7a4-49b0-a039-473f8da265ae"
      },
      "execution_count": null,
      "outputs": [
        {
          "output_type": "display_data",
          "data": {
            "text/plain": [
              "<Figure size 640x480 with 1 Axes>"
            ],
            "image/png": "[encoded data removed]"
          },
          "metadata": {}
        }
      ]
    }
  ],
  "metadata": {
    "colab": {
      "provenance": [],
      "include_colab_link": true
    },
    "kernelspec": {
      "display_name": "Python 3",
      "name": "python3"
    },
    "language_info": {
      "name": "python"
    }
  },
  "nbformat": 4,
  "nbformat_minor": 0
}