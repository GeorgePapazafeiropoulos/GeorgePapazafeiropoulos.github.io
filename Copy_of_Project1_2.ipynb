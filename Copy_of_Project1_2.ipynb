{
  "cells": [
    {
      "cell_type": "markdown",
      "metadata": {
        "id": "view-in-github",
        "colab_type": "text"
      },
      "source": [
        "<a href=\"https://colab.research.google.com/github/GeorgePapazafeiropoulos/GeorgePapazafeiropoulos.github.io/blob/D_Trials_1.0/Copy_of_Project1_2.ipynb\" target=\"_parent\"><img src=\"https://colab.research.google.com/assets/colab-badge.svg\" alt=\"Open In Colab\"/></a>"
      ]
    },
    {
      "cell_type": "code",
      "execution_count": 10,
      "metadata": {
        "id": "r4ZUDp13R1vU"
      },
      "outputs": [],
      "source": [
        "# TensorFlow and tf.keras\n",
        "import tensorflow as tf\n",
        "from tensorflow import keras\n",
        "from keras.regularizers import l1, l2\n",
        "from keras.layers import Dense\n",
        "\n",
        "# Helper libraries\n",
        "import numpy as np\n",
        "import matplotlib.pyplot as plt\n",
        "import pandas as pd"
      ]
    },
    {
      "cell_type": "code",
      "execution_count": 11,
      "metadata": {
        "id": "lH5scc1CSA8p",
        "colab": {
          "base_uri": "https://localhost:8080/"
        },
        "outputId": "a0d785d1-192e-4c93-bc93-6bcfe75a5b6f"
      },
      "outputs": [
        {
          "output_type": "stream",
          "name": "stdout",
          "text": [
            "[[0.80729167]\n",
            " [0.7734375 ]\n",
            " [0.78385417]\n",
            " [0.64583333]\n",
            " [0.59895833]\n",
            " [0.53385417]\n",
            " [0.46614583]\n",
            " [0.359375  ]\n",
            " [0.35416667]\n",
            " [0.45052083]\n",
            " [0.44010417]\n",
            " [0.5078125 ]\n",
            " [0.20833333]\n",
            " [0.5       ]\n",
            " [0.48177083]\n",
            " [0.50520833]\n",
            " [0.49739583]\n",
            " [0.47395833]\n",
            " [0.41666667]\n",
            " [0.51822917]\n",
            " [0.4765625 ]\n",
            " [0.4296875 ]\n",
            " [0.5234375 ]\n",
            " [0.48177083]\n",
            " [0.37239583]\n",
            " [0.390625  ]\n",
            " [0.390625  ]\n",
            " [0.33333333]\n",
            " [0.453125  ]\n",
            " [0.4140625 ]\n",
            " [0.40885417]\n",
            " [0.39322917]\n",
            " [0.38802083]\n",
            " [0.58072917]\n",
            " [0.62239583]\n",
            " [0.53645833]\n",
            " [0.453125  ]\n",
            " [0.41145833]\n",
            " [0.44791667]\n",
            " [0.4140625 ]\n",
            " [0.4765625 ]\n",
            " [0.77864583]\n",
            " [0.90885417]\n",
            " [0.48177083]\n",
            " [0.47916667]\n",
            " [0.53645833]\n",
            " [0.49479167]\n",
            " [0.59895833]\n",
            " [0.55729167]\n",
            " [0.46354167]\n",
            " [0.51302083]\n",
            " [0.50520833]\n",
            " [0.52864583]\n",
            " [0.46354167]\n",
            " [0.33854167]\n",
            " [0.46875   ]\n",
            " [0.40364583]\n",
            " [0.43229167]\n",
            " [0.4375    ]\n",
            " [0.41666667]\n",
            " [0.34895833]\n",
            " [0.3984375 ]\n",
            " [0.390625  ]\n",
            " [0.36979167]\n",
            " [0.36458333]\n",
            " [0.5703125 ]\n",
            " [0.51302083]\n",
            " [0.4921875 ]\n",
            " [0.38541667]\n",
            " [0.54166667]\n",
            " [0.44270833]\n",
            " [0.53645833]\n",
            " [0.515625  ]\n",
            " [0.54947917]\n",
            " [0.42447917]\n",
            " [0.58072917]\n",
            " [0.49739583]\n",
            " [0.44010417]\n",
            " [0.3515625 ]\n",
            " [0.52604167]\n",
            " [0.49479167]\n",
            " [0.65885417]\n",
            " [1.        ]\n",
            " [0.71354167]\n",
            " [0.546875  ]\n",
            " [0.390625  ]\n",
            " [0.48697917]\n",
            " [0.4453125 ]\n",
            " [0.453125  ]\n",
            " [0.40104167]\n",
            " [0.50260417]\n",
            " [0.40885417]\n",
            " [0.34635417]\n",
            " [0.359375  ]\n",
            " [0.47916667]\n",
            " [0.51041667]\n",
            " [0.6328125 ]\n",
            " [0.46354167]\n",
            " [0.61979167]\n",
            " [0.44791667]\n",
            " [0.453125  ]\n",
            " [0.34375   ]\n",
            " [0.61197917]\n",
            " [0.59895833]\n",
            " [0.453125  ]\n",
            " [0.453125  ]\n",
            " [0.421875  ]\n",
            " [0.5546875 ]\n",
            " [0.37760417]\n",
            " [0.421875  ]\n",
            " [0.6171875 ]\n",
            " [0.50260417]\n",
            " [0.40885417]\n",
            " [0.46875   ]\n",
            " [0.34114583]\n",
            " [0.3203125 ]\n",
            " [0.765625  ]\n",
            " [0.81510417]\n",
            " [0.796875  ]]\n",
            "[[0.38909774]\n",
            " [0.35714286]\n",
            " [0.28571429]\n",
            " [0.27443609]\n",
            " [0.25      ]\n",
            " [0.28007519]\n",
            " [0.36466165]\n",
            " [0.29887218]\n",
            " [0.39661654]\n",
            " [0.32142857]\n",
            " [0.27631579]\n",
            " [0.28759398]\n",
            " [0.29511278]\n",
            " [0.33646617]\n",
            " [0.29887218]\n",
            " [0.28007519]\n",
            " [0.28947368]\n",
            " [0.94924812]\n",
            " [0.90225564]\n",
            " [1.        ]\n",
            " [0.71428571]\n",
            " [0.46616541]\n",
            " [0.52819549]\n",
            " [0.51315789]\n",
            " [0.42669173]\n",
            " [0.46428571]\n",
            " [0.46992481]\n",
            " [0.52443609]\n",
            " [0.43796992]\n",
            " [0.46240602]\n",
            " [0.29699248]\n",
            " [0.33458647]\n",
            " [0.34398496]\n",
            " [0.38345865]\n",
            " [0.38157895]\n",
            " [0.34962406]\n",
            " [0.32142857]\n",
            " [0.34962406]\n",
            " [0.28195489]\n",
            " [0.22556391]\n",
            " [0.2612782 ]\n",
            " [0.2537594 ]\n",
            " [0.22932331]\n",
            " [0.2537594 ]\n",
            " [0.26315789]\n",
            " [0.31766917]\n",
            " [0.32330827]\n",
            " [0.40977444]\n",
            " [0.37593985]\n",
            " [0.48120301]\n",
            " [0.43796992]\n",
            " [0.33082707]\n",
            " [0.48120301]\n",
            " [0.39473684]\n",
            " [0.45300752]\n",
            " [0.5093985 ]]\n"
          ]
        }
      ],
      "source": [
        "# Importing Train Data\n",
        "url = 'https://raw.githubusercontent.com/GeorgePapazafeiropoulos/GeorgePapazafeiropoulos.github.io/D_Trials_1.0/annOnline/DATA_TRAIN.csv'\n",
        "traindata = pd.read_csv(url, skiprows=None)\n",
        "traindata = traindata.values\n",
        "#print(traindata)\n",
        "\n",
        "# Importing Test Data\n",
        "url='https://raw.githubusercontent.com/GeorgePapazafeiropoulos/GeorgePapazafeiropoulos.github.io/D_Trials_1.0/annOnline/DATA_TEST.csv'\n",
        "testdata = pd.read_csv(url, skiprows=None)\n",
        "testdata=testdata.values\n",
        "#print(testdata)\n",
        "\n",
        "# Importing Train Output\n",
        "url='https://raw.githubusercontent.com/GeorgePapazafeiropoulos/GeorgePapazafeiropoulos.github.io/D_Trials_1.0/annOnline/OUTPUT_TRAIN.csv'\n",
        "trainoutput = pd.read_csv(url, skiprows=None)\n",
        "trainoutput=trainoutput.values\n",
        "trainoutput=trainoutput/np.max(trainoutput)\n",
        "print(trainoutput)\n",
        "\n",
        "# Importing Test Output\n",
        "url='https://raw.githubusercontent.com/GeorgePapazafeiropoulos/GeorgePapazafeiropoulos.github.io/D_Trials_1.0/annOnline/OUTPUT_TEST.csv'\n",
        "testoutput = pd.read_csv(url, skiprows=None)\n",
        "testoutput=testoutput.values\n",
        "testoutput=testoutput/np.max(testoutput)\n",
        "print(testoutput)"
      ]
    },
    {
      "cell_type": "code",
      "execution_count": 12,
      "metadata": {
        "colab": {
          "base_uri": "https://localhost:8080/"
        },
        "id": "Itm2x1h43J-j",
        "outputId": "189af0a1-c22d-4601-dada-44562800f343"
      },
      "outputs": [
        {
          "output_type": "execute_result",
          "data": {
            "text/plain": [
              "(119, 6)"
            ]
          },
          "metadata": {},
          "execution_count": 12
        }
      ],
      "source": [
        "#Shape of training data\n",
        "traindata.shape"
      ]
    },
    {
      "cell_type": "code",
      "execution_count": 13,
      "metadata": {
        "colab": {
          "base_uri": "https://localhost:8080/"
        },
        "id": "kSbQfNsL3WX0",
        "outputId": "72123b0a-af9a-429a-c3d9-acb84bda0855"
      },
      "outputs": [
        {
          "output_type": "execute_result",
          "data": {
            "text/plain": [
              "(56, 6)"
            ]
          },
          "metadata": {},
          "execution_count": 13
        }
      ],
      "source": [
        "#Shape of test data\n",
        "testdata.shape"
      ]
    },
    {
      "cell_type": "code",
      "execution_count": 14,
      "metadata": {
        "colab": {
          "base_uri": "https://localhost:8080/"
        },
        "id": "9Eyqe1cg3w5b",
        "outputId": "e2aa3d0e-7301-45d4-fcbb-cac2d0bff9ef"
      },
      "outputs": [
        {
          "output_type": "execute_result",
          "data": {
            "text/plain": [
              "(119, 1)"
            ]
          },
          "metadata": {},
          "execution_count": 14
        }
      ],
      "source": [
        "#Shape of training output\n",
        "trainoutput.shape"
      ]
    },
    {
      "cell_type": "code",
      "execution_count": 15,
      "metadata": {
        "colab": {
          "base_uri": "https://localhost:8080/"
        },
        "id": "b0Rbb0XSx2GE",
        "outputId": "979b8ed1-a6b8-4e43-f189-244175bb9f78"
      },
      "outputs": [
        {
          "output_type": "execute_result",
          "data": {
            "text/plain": [
              "(56, 1)"
            ]
          },
          "metadata": {},
          "execution_count": 15
        }
      ],
      "source": [
        "#Shape of test output\n",
        "testoutput.shape"
      ]
    },
    {
      "cell_type": "code",
      "execution_count": 16,
      "metadata": {
        "id": "7coLWNmu38MD"
      },
      "outputs": [],
      "source": [
        "#Data Preprocessing\n",
        "traindata = traindata /1.0\n",
        "testdata = testdata /1.0\n",
        "\n",
        "#print(traindata)\n",
        "#print(testdata)"
      ]
    },
    {
      "cell_type": "code",
      "execution_count": 17,
      "metadata": {
        "id": "pg9YK3PQ7Xyt"
      },
      "outputs": [],
      "source": [
        "#Building the model\n",
        "model = keras.Sequential([\n",
        "    keras.layers.Flatten(),  # input layer (1)\n",
        "    keras.layers.Dense(1024, activation='relu'),  # hidden layer (2)\n",
        "    keras.layers.Dense(1024, activation='relu'),  # hidden layer (2)\n",
        "    keras.layers.Dense(1024, activation='relu'),  # hidden layer (2)\n",
        "    keras.layers.Dense(1, activation='linear') # output layer (3)\n",
        "])\n"
      ]
    },
    {
      "cell_type": "code",
      "source": [
        "# Flatten the input data and get the output shape of the flatten() layer\n",
        "flatten_layer = model.layers[0]\n",
        "output_shape = flatten_layer(traindata).shape\n",
        "num_neurons = np.prod(output_shape)\n",
        "print(\"Number of neurons in the input layer:\", num_neurons)\n"
      ],
      "metadata": {
        "colab": {
          "base_uri": "https://localhost:8080/"
        },
        "id": "_VABcUTzuHvE",
        "outputId": "29dc9154-c61c-4e76-b973-9c204eee3f1f"
      },
      "execution_count": 18,
      "outputs": [
        {
          "output_type": "stream",
          "name": "stdout",
          "text": [
            "Number of neurons in the input layer: 714\n"
          ]
        }
      ]
    },
    {
      "cell_type": "code",
      "execution_count": 19,
      "metadata": {
        "id": "uapx4iVn7v6s"
      },
      "outputs": [],
      "source": [
        "#Compiling the model\n",
        "model.compile(optimizer='adam',\n",
        "              loss='mean_squared_error',\n",
        "              metrics=['mean_absolute_error'])"
      ]
    },
    {
      "cell_type": "code",
      "execution_count": 20,
      "metadata": {
        "colab": {
          "base_uri": "https://localhost:8080/"
        },
        "id": "6STBpkg878VQ",
        "outputId": "e6715a09-8e05-43db-e892-76aa4eff4ab7"
      },
      "outputs": [
        {
          "output_type": "stream",
          "name": "stdout",
          "text": [
            "Epoch 1/100\n",
            "3/3 [==============================] - 1s 131ms/step - loss: 10462.8223 - mean_absolute_error: 73.2143 - val_loss: 248.5257 - val_mean_absolute_error: 15.1981\n",
            "Epoch 2/100\n",
            "3/3 [==============================] - 0s 46ms/step - loss: 525.4001 - mean_absolute_error: 21.1238 - val_loss: 252.0196 - val_mean_absolute_error: 15.4259\n",
            "Epoch 3/100\n",
            "3/3 [==============================] - 0s 47ms/step - loss: 78.5133 - mean_absolute_error: 7.3573 - val_loss: 268.9990 - val_mean_absolute_error: 16.0520\n",
            "Epoch 4/100\n",
            "3/3 [==============================] - 0s 46ms/step - loss: 89.9467 - mean_absolute_error: 7.9869 - val_loss: 39.1751 - val_mean_absolute_error: 5.9786\n",
            "Epoch 5/100\n",
            "3/3 [==============================] - 0s 44ms/step - loss: 48.1799 - mean_absolute_error: 6.5651 - val_loss: 39.3183 - val_mean_absolute_error: 5.9806\n",
            "Epoch 6/100\n",
            "3/3 [==============================] - 0s 48ms/step - loss: 11.3127 - mean_absolute_error: 2.7634 - val_loss: 49.6675 - val_mean_absolute_error: 6.9610\n",
            "Epoch 7/100\n",
            "3/3 [==============================] - 0s 54ms/step - loss: 24.0226 - mean_absolute_error: 4.7613 - val_loss: 0.9906 - val_mean_absolute_error: 0.8686\n",
            "Epoch 8/100\n",
            "3/3 [==============================] - 0s 43ms/step - loss: 7.5371 - mean_absolute_error: 2.2897 - val_loss: 32.2970 - val_mean_absolute_error: 5.4050\n",
            "Epoch 9/100\n",
            "3/3 [==============================] - 0s 50ms/step - loss: 9.8726 - mean_absolute_error: 2.5781 - val_loss: 3.7545 - val_mean_absolute_error: 1.9240\n",
            "Epoch 10/100\n",
            "3/3 [==============================] - 0s 43ms/step - loss: 7.1903 - mean_absolute_error: 2.5409 - val_loss: 9.3186 - val_mean_absolute_error: 3.0392\n",
            "Epoch 11/100\n",
            "3/3 [==============================] - 0s 44ms/step - loss: 2.4920 - mean_absolute_error: 1.3580 - val_loss: 8.6233 - val_mean_absolute_error: 2.7033\n",
            "Epoch 12/100\n",
            "3/3 [==============================] - 0s 42ms/step - loss: 4.5013 - mean_absolute_error: 1.9102 - val_loss: 0.7747 - val_mean_absolute_error: 0.7117\n",
            "Epoch 13/100\n",
            "3/3 [==============================] - 0s 46ms/step - loss: 1.2964 - mean_absolute_error: 0.9957 - val_loss: 5.3201 - val_mean_absolute_error: 2.2995\n",
            "Epoch 14/100\n",
            "3/3 [==============================] - 0s 43ms/step - loss: 1.6837 - mean_absolute_error: 1.0977 - val_loss: 3.4762 - val_mean_absolute_error: 1.6816\n",
            "Epoch 15/100\n",
            "3/3 [==============================] - 0s 52ms/step - loss: 1.2550 - mean_absolute_error: 0.9210 - val_loss: 0.2174 - val_mean_absolute_error: 0.3795\n",
            "Epoch 16/100\n",
            "3/3 [==============================] - 0s 43ms/step - loss: 0.5321 - mean_absolute_error: 0.6492 - val_loss: 0.5130 - val_mean_absolute_error: 0.6437\n",
            "Epoch 17/100\n",
            "3/3 [==============================] - 0s 47ms/step - loss: 0.1903 - mean_absolute_error: 0.3577 - val_loss: 1.3789 - val_mean_absolute_error: 0.9861\n",
            "Epoch 18/100\n",
            "3/3 [==============================] - 0s 53ms/step - loss: 0.5074 - mean_absolute_error: 0.5839 - val_loss: 0.1749 - val_mean_absolute_error: 0.3723\n",
            "Epoch 19/100\n",
            "3/3 [==============================] - 0s 54ms/step - loss: 0.3046 - mean_absolute_error: 0.4802 - val_loss: 0.4218 - val_mean_absolute_error: 0.5865\n",
            "Epoch 20/100\n",
            "3/3 [==============================] - 0s 44ms/step - loss: 0.1508 - mean_absolute_error: 0.3204 - val_loss: 0.7806 - val_mean_absolute_error: 0.7479\n",
            "Epoch 21/100\n",
            "3/3 [==============================] - 0s 42ms/step - loss: 0.3129 - mean_absolute_error: 0.4379 - val_loss: 0.1118 - val_mean_absolute_error: 0.2878\n",
            "Epoch 22/100\n",
            "3/3 [==============================] - 0s 47ms/step - loss: 0.2035 - mean_absolute_error: 0.3913 - val_loss: 0.2465 - val_mean_absolute_error: 0.4468\n",
            "Epoch 23/100\n",
            "3/3 [==============================] - 0s 54ms/step - loss: 0.1321 - mean_absolute_error: 0.2886 - val_loss: 0.4980 - val_mean_absolute_error: 0.6110\n",
            "Epoch 24/100\n",
            "3/3 [==============================] - 0s 49ms/step - loss: 0.1577 - mean_absolute_error: 0.2972 - val_loss: 0.0760 - val_mean_absolute_error: 0.2157\n",
            "Epoch 25/100\n",
            "3/3 [==============================] - 0s 47ms/step - loss: 0.1061 - mean_absolute_error: 0.2856 - val_loss: 0.0890 - val_mean_absolute_error: 0.2427\n",
            "Epoch 26/100\n",
            "3/3 [==============================] - 0s 57ms/step - loss: 0.0636 - mean_absolute_error: 0.2013 - val_loss: 0.2301 - val_mean_absolute_error: 0.4084\n",
            "Epoch 27/100\n",
            "3/3 [==============================] - 0s 46ms/step - loss: 0.0762 - mean_absolute_error: 0.1874 - val_loss: 0.0636 - val_mean_absolute_error: 0.1966\n",
            "Epoch 28/100\n",
            "3/3 [==============================] - 0s 49ms/step - loss: 0.0754 - mean_absolute_error: 0.2340 - val_loss: 0.0603 - val_mean_absolute_error: 0.1893\n",
            "Epoch 29/100\n",
            "3/3 [==============================] - 0s 66ms/step - loss: 0.0556 - mean_absolute_error: 0.1681 - val_loss: 0.1743 - val_mean_absolute_error: 0.3509\n",
            "Epoch 30/100\n",
            "3/3 [==============================] - 0s 66ms/step - loss: 0.0427 - mean_absolute_error: 0.1588 - val_loss: 0.0548 - val_mean_absolute_error: 0.1928\n",
            "Epoch 31/100\n",
            "3/3 [==============================] - 0s 64ms/step - loss: 0.0452 - mean_absolute_error: 0.1704 - val_loss: 0.0965 - val_mean_absolute_error: 0.2549\n",
            "Epoch 32/100\n",
            "3/3 [==============================] - 0s 69ms/step - loss: 0.0418 - mean_absolute_error: 0.1377 - val_loss: 0.1016 - val_mean_absolute_error: 0.2624\n",
            "Epoch 33/100\n",
            "3/3 [==============================] - 0s 68ms/step - loss: 0.0388 - mean_absolute_error: 0.1466 - val_loss: 0.0469 - val_mean_absolute_error: 0.1732\n",
            "Epoch 34/100\n",
            "3/3 [==============================] - 0s 69ms/step - loss: 0.0371 - mean_absolute_error: 0.1403 - val_loss: 0.1103 - val_mean_absolute_error: 0.2765\n",
            "Epoch 35/100\n",
            "3/3 [==============================] - 0s 70ms/step - loss: 0.0392 - mean_absolute_error: 0.1347 - val_loss: 0.0491 - val_mean_absolute_error: 0.1801\n",
            "Epoch 36/100\n",
            "3/3 [==============================] - 0s 63ms/step - loss: 0.0477 - mean_absolute_error: 0.1709 - val_loss: 0.0476 - val_mean_absolute_error: 0.1774\n",
            "Epoch 37/100\n",
            "3/3 [==============================] - 0s 67ms/step - loss: 0.0384 - mean_absolute_error: 0.1383 - val_loss: 0.1092 - val_mean_absolute_error: 0.2807\n",
            "Epoch 38/100\n",
            "3/3 [==============================] - 0s 75ms/step - loss: 0.0313 - mean_absolute_error: 0.1258 - val_loss: 0.0419 - val_mean_absolute_error: 0.1616\n",
            "Epoch 39/100\n",
            "3/3 [==============================] - 0s 67ms/step - loss: 0.0328 - mean_absolute_error: 0.1349 - val_loss: 0.0823 - val_mean_absolute_error: 0.2425\n",
            "Epoch 40/100\n",
            "3/3 [==============================] - 0s 70ms/step - loss: 0.0344 - mean_absolute_error: 0.1284 - val_loss: 0.0601 - val_mean_absolute_error: 0.2079\n",
            "Epoch 41/100\n",
            "3/3 [==============================] - 0s 76ms/step - loss: 0.0305 - mean_absolute_error: 0.1286 - val_loss: 0.0463 - val_mean_absolute_error: 0.1778\n",
            "Epoch 42/100\n",
            "3/3 [==============================] - 0s 70ms/step - loss: 0.0335 - mean_absolute_error: 0.1302 - val_loss: 0.0979 - val_mean_absolute_error: 0.2643\n",
            "Epoch 43/100\n",
            "3/3 [==============================] - 0s 66ms/step - loss: 0.0300 - mean_absolute_error: 0.1202 - val_loss: 0.0426 - val_mean_absolute_error: 0.1632\n",
            "Epoch 44/100\n",
            "3/3 [==============================] - 0s 45ms/step - loss: 0.0291 - mean_absolute_error: 0.1218 - val_loss: 0.0969 - val_mean_absolute_error: 0.2628\n",
            "Epoch 45/100\n",
            "3/3 [==============================] - 0s 48ms/step - loss: 0.0318 - mean_absolute_error: 0.1231 - val_loss: 0.0528 - val_mean_absolute_error: 0.1939\n",
            "Epoch 46/100\n",
            "3/3 [==============================] - 0s 44ms/step - loss: 0.0334 - mean_absolute_error: 0.1363 - val_loss: 0.0517 - val_mean_absolute_error: 0.1920\n",
            "Epoch 47/100\n",
            "3/3 [==============================] - 0s 47ms/step - loss: 0.0315 - mean_absolute_error: 0.1239 - val_loss: 0.0970 - val_mean_absolute_error: 0.2636\n",
            "Epoch 48/100\n",
            "3/3 [==============================] - 0s 44ms/step - loss: 0.0267 - mean_absolute_error: 0.1125 - val_loss: 0.0418 - val_mean_absolute_error: 0.1587\n",
            "Epoch 49/100\n",
            "3/3 [==============================] - 0s 47ms/step - loss: 0.0296 - mean_absolute_error: 0.1234 - val_loss: 0.1023 - val_mean_absolute_error: 0.2736\n",
            "Epoch 50/100\n",
            "3/3 [==============================] - 0s 44ms/step - loss: 0.0286 - mean_absolute_error: 0.1165 - val_loss: 0.0527 - val_mean_absolute_error: 0.1941\n",
            "Epoch 51/100\n",
            "3/3 [==============================] - 0s 45ms/step - loss: 0.0260 - mean_absolute_error: 0.1122 - val_loss: 0.0674 - val_mean_absolute_error: 0.2201\n",
            "Epoch 52/100\n",
            "3/3 [==============================] - 0s 43ms/step - loss: 0.0243 - mean_absolute_error: 0.1076 - val_loss: 0.0655 - val_mean_absolute_error: 0.2174\n",
            "Epoch 53/100\n",
            "3/3 [==============================] - 0s 43ms/step - loss: 0.0266 - mean_absolute_error: 0.1125 - val_loss: 0.0577 - val_mean_absolute_error: 0.2038\n",
            "Epoch 54/100\n",
            "3/3 [==============================] - 0s 44ms/step - loss: 0.0252 - mean_absolute_error: 0.1136 - val_loss: 0.0584 - val_mean_absolute_error: 0.2049\n",
            "Epoch 55/100\n",
            "3/3 [==============================] - 0s 44ms/step - loss: 0.0267 - mean_absolute_error: 0.1120 - val_loss: 0.0687 - val_mean_absolute_error: 0.2215\n",
            "Epoch 56/100\n",
            "3/3 [==============================] - 0s 45ms/step - loss: 0.0238 - mean_absolute_error: 0.1080 - val_loss: 0.0546 - val_mean_absolute_error: 0.1964\n",
            "Epoch 57/100\n",
            "3/3 [==============================] - 0s 45ms/step - loss: 0.0226 - mean_absolute_error: 0.1032 - val_loss: 0.0888 - val_mean_absolute_error: 0.2497\n",
            "Epoch 58/100\n",
            "3/3 [==============================] - 0s 46ms/step - loss: 0.0238 - mean_absolute_error: 0.1069 - val_loss: 0.0536 - val_mean_absolute_error: 0.1936\n",
            "Epoch 59/100\n",
            "3/3 [==============================] - 0s 43ms/step - loss: 0.0237 - mean_absolute_error: 0.1076 - val_loss: 0.0624 - val_mean_absolute_error: 0.2105\n",
            "Epoch 60/100\n",
            "3/3 [==============================] - 0s 47ms/step - loss: 0.0224 - mean_absolute_error: 0.1033 - val_loss: 0.0662 - val_mean_absolute_error: 0.2165\n",
            "Epoch 61/100\n",
            "3/3 [==============================] - 0s 43ms/step - loss: 0.0239 - mean_absolute_error: 0.1071 - val_loss: 0.0533 - val_mean_absolute_error: 0.1921\n",
            "Epoch 62/100\n",
            "3/3 [==============================] - 0s 46ms/step - loss: 0.0229 - mean_absolute_error: 0.1062 - val_loss: 0.0786 - val_mean_absolute_error: 0.2333\n",
            "Epoch 63/100\n",
            "3/3 [==============================] - 0s 45ms/step - loss: 0.0244 - mean_absolute_error: 0.1090 - val_loss: 0.0567 - val_mean_absolute_error: 0.1992\n",
            "Epoch 64/100\n",
            "3/3 [==============================] - 0s 45ms/step - loss: 0.0236 - mean_absolute_error: 0.1078 - val_loss: 0.0667 - val_mean_absolute_error: 0.2165\n",
            "Epoch 65/100\n",
            "3/3 [==============================] - 0s 45ms/step - loss: 0.0222 - mean_absolute_error: 0.1024 - val_loss: 0.0715 - val_mean_absolute_error: 0.2235\n",
            "Epoch 66/100\n",
            "3/3 [==============================] - 0s 46ms/step - loss: 0.0225 - mean_absolute_error: 0.1047 - val_loss: 0.0649 - val_mean_absolute_error: 0.2132\n",
            "Epoch 67/100\n",
            "3/3 [==============================] - 0s 45ms/step - loss: 0.0214 - mean_absolute_error: 0.1020 - val_loss: 0.0802 - val_mean_absolute_error: 0.2348\n",
            "Epoch 68/100\n",
            "3/3 [==============================] - 0s 47ms/step - loss: 0.0240 - mean_absolute_error: 0.1093 - val_loss: 0.0601 - val_mean_absolute_error: 0.2042\n",
            "Epoch 69/100\n",
            "3/3 [==============================] - 0s 45ms/step - loss: 0.0207 - mean_absolute_error: 0.1009 - val_loss: 0.0838 - val_mean_absolute_error: 0.2390\n",
            "Epoch 70/100\n",
            "3/3 [==============================] - 0s 45ms/step - loss: 0.0220 - mean_absolute_error: 0.1034 - val_loss: 0.0573 - val_mean_absolute_error: 0.1978\n",
            "Epoch 71/100\n",
            "3/3 [==============================] - 0s 51ms/step - loss: 0.0218 - mean_absolute_error: 0.1030 - val_loss: 0.0654 - val_mean_absolute_error: 0.2126\n",
            "Epoch 72/100\n",
            "3/3 [==============================] - 0s 50ms/step - loss: 0.0210 - mean_absolute_error: 0.1026 - val_loss: 0.0688 - val_mean_absolute_error: 0.2179\n",
            "Epoch 73/100\n",
            "3/3 [==============================] - 0s 49ms/step - loss: 0.0228 - mean_absolute_error: 0.1074 - val_loss: 0.0573 - val_mean_absolute_error: 0.1978\n",
            "Epoch 74/100\n",
            "3/3 [==============================] - 0s 48ms/step - loss: 0.0223 - mean_absolute_error: 0.1037 - val_loss: 0.0661 - val_mean_absolute_error: 0.2140\n",
            "Epoch 75/100\n",
            "3/3 [==============================] - 0s 50ms/step - loss: 0.0207 - mean_absolute_error: 0.0995 - val_loss: 0.0708 - val_mean_absolute_error: 0.2211\n",
            "Epoch 76/100\n",
            "3/3 [==============================] - 0s 49ms/step - loss: 0.0208 - mean_absolute_error: 0.1010 - val_loss: 0.0588 - val_mean_absolute_error: 0.2012\n",
            "Epoch 77/100\n",
            "3/3 [==============================] - 0s 55ms/step - loss: 0.0236 - mean_absolute_error: 0.1092 - val_loss: 0.0562 - val_mean_absolute_error: 0.1957\n",
            "Epoch 78/100\n",
            "3/3 [==============================] - 0s 47ms/step - loss: 0.0216 - mean_absolute_error: 0.1031 - val_loss: 0.0702 - val_mean_absolute_error: 0.2196\n",
            "Epoch 79/100\n",
            "3/3 [==============================] - 0s 57ms/step - loss: 0.0210 - mean_absolute_error: 0.1037 - val_loss: 0.0645 - val_mean_absolute_error: 0.2106\n",
            "Epoch 80/100\n",
            "3/3 [==============================] - 0s 48ms/step - loss: 0.0209 - mean_absolute_error: 0.1010 - val_loss: 0.0634 - val_mean_absolute_error: 0.2087\n",
            "Epoch 81/100\n",
            "3/3 [==============================] - 0s 45ms/step - loss: 0.0216 - mean_absolute_error: 0.1052 - val_loss: 0.0626 - val_mean_absolute_error: 0.2070\n",
            "Epoch 82/100\n",
            "3/3 [==============================] - 0s 47ms/step - loss: 0.0225 - mean_absolute_error: 0.1059 - val_loss: 0.0725 - val_mean_absolute_error: 0.2229\n",
            "Epoch 83/100\n",
            "3/3 [==============================] - 0s 48ms/step - loss: 0.0210 - mean_absolute_error: 0.1039 - val_loss: 0.0573 - val_mean_absolute_error: 0.1968\n",
            "Epoch 84/100\n",
            "3/3 [==============================] - 0s 51ms/step - loss: 0.0234 - mean_absolute_error: 0.1072 - val_loss: 0.0937 - val_mean_absolute_error: 0.2552\n",
            "Epoch 85/100\n",
            "3/3 [==============================] - 0s 49ms/step - loss: 0.0229 - mean_absolute_error: 0.1094 - val_loss: 0.0544 - val_mean_absolute_error: 0.1911\n",
            "Epoch 86/100\n",
            "3/3 [==============================] - 0s 48ms/step - loss: 0.0201 - mean_absolute_error: 0.0982 - val_loss: 0.0707 - val_mean_absolute_error: 0.2202\n",
            "Epoch 87/100\n",
            "3/3 [==============================] - 0s 44ms/step - loss: 0.0217 - mean_absolute_error: 0.1062 - val_loss: 0.0511 - val_mean_absolute_error: 0.1833\n",
            "Epoch 88/100\n",
            "3/3 [==============================] - 0s 50ms/step - loss: 0.0209 - mean_absolute_error: 0.1009 - val_loss: 0.0831 - val_mean_absolute_error: 0.2379\n",
            "Epoch 89/100\n",
            "3/3 [==============================] - 0s 45ms/step - loss: 0.0287 - mean_absolute_error: 0.1280 - val_loss: 0.0459 - val_mean_absolute_error: 0.1613\n",
            "Epoch 90/100\n",
            "3/3 [==============================] - 0s 48ms/step - loss: 0.0334 - mean_absolute_error: 0.1352 - val_loss: 0.0927 - val_mean_absolute_error: 0.2535\n",
            "Epoch 91/100\n",
            "3/3 [==============================] - 0s 44ms/step - loss: 0.0258 - mean_absolute_error: 0.1218 - val_loss: 0.0474 - val_mean_absolute_error: 0.1669\n",
            "Epoch 92/100\n",
            "3/3 [==============================] - 0s 46ms/step - loss: 0.0277 - mean_absolute_error: 0.1236 - val_loss: 0.1076 - val_mean_absolute_error: 0.2795\n",
            "Epoch 93/100\n",
            "3/3 [==============================] - 0s 49ms/step - loss: 0.0323 - mean_absolute_error: 0.1417 - val_loss: 0.0460 - val_mean_absolute_error: 0.1628\n",
            "Epoch 94/100\n",
            "3/3 [==============================] - 0s 48ms/step - loss: 0.0335 - mean_absolute_error: 0.1353 - val_loss: 0.1101 - val_mean_absolute_error: 0.2844\n",
            "Epoch 95/100\n",
            "3/3 [==============================] - 0s 42ms/step - loss: 0.0255 - mean_absolute_error: 0.1199 - val_loss: 0.0470 - val_mean_absolute_error: 0.1686\n",
            "Epoch 96/100\n",
            "3/3 [==============================] - 0s 45ms/step - loss: 0.0224 - mean_absolute_error: 0.1050 - val_loss: 0.0714 - val_mean_absolute_error: 0.2208\n",
            "Epoch 97/100\n",
            "3/3 [==============================] - 0s 45ms/step - loss: 0.0236 - mean_absolute_error: 0.1089 - val_loss: 0.0483 - val_mean_absolute_error: 0.1715\n",
            "Epoch 98/100\n",
            "3/3 [==============================] - 0s 44ms/step - loss: 0.0222 - mean_absolute_error: 0.1105 - val_loss: 0.1023 - val_mean_absolute_error: 0.2713\n",
            "Epoch 99/100\n",
            "3/3 [==============================] - 0s 49ms/step - loss: 0.0215 - mean_absolute_error: 0.1092 - val_loss: 0.0470 - val_mean_absolute_error: 0.1605\n",
            "Epoch 100/100\n",
            "3/3 [==============================] - 0s 46ms/step - loss: 0.0282 - mean_absolute_error: 0.1276 - val_loss: 0.0751 - val_mean_absolute_error: 0.2251\n"
          ]
        },
        {
          "output_type": "execute_result",
          "data": {
            "text/plain": [
              "<keras.callbacks.History at 0x7e8600fc54b0>"
            ]
          },
          "metadata": {},
          "execution_count": 20
        }
      ],
      "source": [
        "#Training the model\n",
        "model.fit(traindata, trainoutput, epochs=100, validation_split=0.2)  # we pass the data, labels and epochs"
      ]
    },
    {
      "cell_type": "code",
      "execution_count": 21,
      "metadata": {
        "colab": {
          "base_uri": "https://localhost:8080/"
        },
        "id": "8eAjL4iIzDTy",
        "outputId": "7471c0b1-193a-48af-a08d-499be7aae26d"
      },
      "outputs": [
        {
          "output_type": "stream",
          "name": "stdout",
          "text": [
            "4/4 [==============================] - 0s 6ms/step - loss: 0.0306 - mean_absolute_error: 0.1254\n",
            "Test loss: 0.03057955950498581\n",
            "Test accuracy: 0.12537169456481934\n"
          ]
        }
      ],
      "source": [
        "test_loss, test_acc = model.evaluate(traindata,  trainoutput, verbose=1)\n",
        "\n",
        "print('Test loss:', test_loss)\n",
        "print('Test accuracy:', test_acc)"
      ]
    },
    {
      "cell_type": "code",
      "execution_count": 22,
      "metadata": {
        "colab": {
          "base_uri": "https://localhost:8080/"
        },
        "id": "Pt_DkH349XlQ",
        "outputId": "fb9f820a-704f-4330-e630-a5e1c6ce300b"
      },
      "outputs": [
        {
          "output_type": "stream",
          "name": "stdout",
          "text": [
            "2/2 [==============================] - 0s 9ms/step\n"
          ]
        }
      ],
      "source": [
        "predictions = model.predict(testdata)\n",
        "#print(testdata)\n",
        "#print(testdata.iloc[-1]) #In case that testdata is not numpy.ndarray object but dataframe object (which is the direct output of the pd.read_csv above)"
      ]
    },
    {
      "cell_type": "code",
      "execution_count": 23,
      "metadata": {
        "id": "drhbG7MsX4Oh"
      },
      "outputs": [],
      "source": [
        "#print(predictions)\n"
      ]
    },
    {
      "cell_type": "code",
      "execution_count": 24,
      "metadata": {
        "id": "JaQ5bO1tX8CF"
      },
      "outputs": [],
      "source": [
        "#print(testoutput)"
      ]
    },
    {
      "cell_type": "code",
      "source": [
        "# Plot both vectors on the same plot\n",
        "plt.plot(testoutput, label='testoutput')\n",
        "plt.plot(predictions, label='predictions')\n",
        "\n",
        "# Customize the plot (optional)\n",
        "plt.xlabel('Observation')\n",
        "plt.ylabel('Value')\n",
        "plt.title('Plot of Test output and prediction output')\n",
        "plt.legend()\n",
        "\n",
        "# Show the plot\n",
        "plt.show()"
      ],
      "metadata": {
        "colab": {
          "base_uri": "https://localhost:8080/",
          "height": 472
        },
        "id": "dFUlx56MYmQy",
        "outputId": "efc1f2e2-5af7-4fad-cac6-e977f141db22"
      },
      "execution_count": 25,
      "outputs": [
        {
          "output_type": "display_data",
          "data": {
            "text/plain": [
              "<Figure size 640x480 with 1 Axes>"
            ],
            "image/png": "[encoded data removed]"
          },
          "metadata": {}
        }
      ]
    }
  ],
  "metadata": {
    "colab": {
      "provenance": [],
      "include_colab_link": true
    },
    "kernelspec": {
      "display_name": "Python 3",
      "name": "python3"
    },
    "language_info": {
      "name": "python"
    }
  },
  "nbformat": 4,
  "nbformat_minor": 0
}