{
  "cells": [
    {
      "cell_type": "markdown",
      "metadata": {
        "id": "view-in-github",
        "colab_type": "text"
      },
      "source": [
        "<a href=\"https://colab.research.google.com/github/GeorgePapazafeiropoulos/GeorgePapazafeiropoulos.github.io/blob/D_Trials_1.0/Copy_of_Project1_2.ipynb\" target=\"_parent\"><img src=\"https://colab.research.google.com/assets/colab-badge.svg\" alt=\"Open In Colab\"/></a>"
      ]
    },
    {
      "cell_type": "code",
      "execution_count": 26,
      "metadata": {
        "id": "r4ZUDp13R1vU"
      },
      "outputs": [],
      "source": [
        "# TensorFlow and tf.keras\n",
        "import tensorflow as tf\n",
        "from tensorflow import keras\n",
        "from keras.regularizers import l1, l2\n",
        "from keras.layers import Dense\n",
        "\n",
        "# Helper libraries\n",
        "import numpy as np\n",
        "import matplotlib.pyplot as plt\n",
        "import pandas as pd"
      ]
    },
    {
      "cell_type": "code",
      "execution_count": 27,
      "metadata": {
        "id": "lH5scc1CSA8p",
        "colab": {
          "base_uri": "https://localhost:8080/"
        },
        "outputId": "096d0016-7f88-4e95-9aa4-3c986dcf3f09"
      },
      "outputs": [
        {
          "output_type": "stream",
          "name": "stdout",
          "text": [
            "[[0.80729167]\n",
            " [0.7734375 ]\n",
            " [0.78385417]\n",
            " [0.64583333]\n",
            " [0.59895833]\n",
            " [0.53385417]\n",
            " [0.46614583]\n",
            " [0.359375  ]\n",
            " [0.35416667]\n",
            " [0.45052083]\n",
            " [0.44010417]\n",
            " [0.5078125 ]\n",
            " [0.20833333]\n",
            " [0.5       ]\n",
            " [0.48177083]\n",
            " [0.50520833]\n",
            " [0.49739583]\n",
            " [0.47395833]\n",
            " [0.41666667]\n",
            " [0.51822917]\n",
            " [0.4765625 ]\n",
            " [0.4296875 ]\n",
            " [0.5234375 ]\n",
            " [0.48177083]\n",
            " [0.37239583]\n",
            " [0.390625  ]\n",
            " [0.390625  ]\n",
            " [0.33333333]\n",
            " [0.453125  ]\n",
            " [0.4140625 ]\n",
            " [0.40885417]\n",
            " [0.39322917]\n",
            " [0.38802083]\n",
            " [0.58072917]\n",
            " [0.62239583]\n",
            " [0.53645833]\n",
            " [0.453125  ]\n",
            " [0.41145833]\n",
            " [0.44791667]\n",
            " [0.4140625 ]\n",
            " [0.4765625 ]\n",
            " [0.77864583]\n",
            " [0.90885417]\n",
            " [0.48177083]\n",
            " [0.47916667]\n",
            " [0.53645833]\n",
            " [0.49479167]\n",
            " [0.59895833]\n",
            " [0.55729167]\n",
            " [0.46354167]\n",
            " [0.51302083]\n",
            " [0.50520833]\n",
            " [0.52864583]\n",
            " [0.46354167]\n",
            " [0.33854167]\n",
            " [0.46875   ]\n",
            " [0.40364583]\n",
            " [0.43229167]\n",
            " [0.4375    ]\n",
            " [0.41666667]\n",
            " [0.34895833]\n",
            " [0.3984375 ]\n",
            " [0.390625  ]\n",
            " [0.36979167]\n",
            " [0.36458333]\n",
            " [0.5703125 ]\n",
            " [0.51302083]\n",
            " [0.4921875 ]\n",
            " [0.38541667]\n",
            " [0.54166667]\n",
            " [0.44270833]\n",
            " [0.53645833]\n",
            " [0.515625  ]\n",
            " [0.54947917]\n",
            " [0.42447917]\n",
            " [0.58072917]\n",
            " [0.49739583]\n",
            " [0.44010417]\n",
            " [0.3515625 ]\n",
            " [0.52604167]\n",
            " [0.49479167]\n",
            " [0.65885417]\n",
            " [1.        ]\n",
            " [0.71354167]\n",
            " [0.546875  ]\n",
            " [0.390625  ]\n",
            " [0.48697917]\n",
            " [0.4453125 ]\n",
            " [0.453125  ]\n",
            " [0.40104167]\n",
            " [0.50260417]\n",
            " [0.40885417]\n",
            " [0.34635417]\n",
            " [0.359375  ]\n",
            " [0.47916667]\n",
            " [0.51041667]\n",
            " [0.6328125 ]\n",
            " [0.46354167]\n",
            " [0.61979167]\n",
            " [0.44791667]\n",
            " [0.453125  ]\n",
            " [0.34375   ]\n",
            " [0.61197917]\n",
            " [0.59895833]\n",
            " [0.453125  ]\n",
            " [0.453125  ]\n",
            " [0.421875  ]\n",
            " [0.5546875 ]\n",
            " [0.37760417]\n",
            " [0.421875  ]\n",
            " [0.6171875 ]\n",
            " [0.50260417]\n",
            " [0.40885417]\n",
            " [0.46875   ]\n",
            " [0.34114583]\n",
            " [0.3203125 ]\n",
            " [0.765625  ]\n",
            " [0.81510417]\n",
            " [0.796875  ]]\n",
            "[[0.38909774]\n",
            " [0.35714286]\n",
            " [0.28571429]\n",
            " [0.27443609]\n",
            " [0.25      ]\n",
            " [0.28007519]\n",
            " [0.36466165]\n",
            " [0.29887218]\n",
            " [0.39661654]\n",
            " [0.32142857]\n",
            " [0.27631579]\n",
            " [0.28759398]\n",
            " [0.29511278]\n",
            " [0.33646617]\n",
            " [0.29887218]\n",
            " [0.28007519]\n",
            " [0.28947368]\n",
            " [0.94924812]\n",
            " [0.90225564]\n",
            " [1.        ]\n",
            " [0.71428571]\n",
            " [0.46616541]\n",
            " [0.52819549]\n",
            " [0.51315789]\n",
            " [0.42669173]\n",
            " [0.46428571]\n",
            " [0.46992481]\n",
            " [0.52443609]\n",
            " [0.43796992]\n",
            " [0.46240602]\n",
            " [0.29699248]\n",
            " [0.33458647]\n",
            " [0.34398496]\n",
            " [0.38345865]\n",
            " [0.38157895]\n",
            " [0.34962406]\n",
            " [0.32142857]\n",
            " [0.34962406]\n",
            " [0.28195489]\n",
            " [0.22556391]\n",
            " [0.2612782 ]\n",
            " [0.2537594 ]\n",
            " [0.22932331]\n",
            " [0.2537594 ]\n",
            " [0.26315789]\n",
            " [0.31766917]\n",
            " [0.32330827]\n",
            " [0.40977444]\n",
            " [0.37593985]\n",
            " [0.48120301]\n",
            " [0.43796992]\n",
            " [0.33082707]\n",
            " [0.48120301]\n",
            " [0.39473684]\n",
            " [0.45300752]\n",
            " [0.5093985 ]]\n"
          ]
        }
      ],
      "source": [
        "# Importing Train Data\n",
        "url = 'https://raw.githubusercontent.com/GeorgePapazafeiropoulos/GeorgePapazafeiropoulos.github.io/D_Trials_1.0/annOnline/DATA_TRAIN.csv'\n",
        "traindata = pd.read_csv(url, skiprows=None)\n",
        "traindata = traindata.values\n",
        "#print(traindata)\n",
        "\n",
        "# Importing Test Data\n",
        "url='https://raw.githubusercontent.com/GeorgePapazafeiropoulos/GeorgePapazafeiropoulos.github.io/D_Trials_1.0/annOnline/DATA_TEST.csv'\n",
        "testdata = pd.read_csv(url, skiprows=None)\n",
        "testdata=testdata.values\n",
        "#print(testdata)\n",
        "\n",
        "# Importing Train Output\n",
        "url='https://raw.githubusercontent.com/GeorgePapazafeiropoulos/GeorgePapazafeiropoulos.github.io/D_Trials_1.0/annOnline/OUTPUT_TRAIN.csv'\n",
        "trainoutput = pd.read_csv(url, skiprows=None)\n",
        "trainoutput=trainoutput.values\n",
        "trainoutput=trainoutput/np.max(trainoutput)\n",
        "print(trainoutput)\n",
        "\n",
        "# Importing Test Output\n",
        "url='https://raw.githubusercontent.com/GeorgePapazafeiropoulos/GeorgePapazafeiropoulos.github.io/D_Trials_1.0/annOnline/OUTPUT_TEST.csv'\n",
        "testoutput = pd.read_csv(url, skiprows=None)\n",
        "testoutput=testoutput.values\n",
        "testoutput=testoutput/np.max(testoutput)\n",
        "print(testoutput)"
      ]
    },
    {
      "cell_type": "code",
      "execution_count": 28,
      "metadata": {
        "colab": {
          "base_uri": "https://localhost:8080/"
        },
        "id": "Itm2x1h43J-j",
        "outputId": "1df1bd3a-dce0-4955-a95e-3ebac81d3549"
      },
      "outputs": [
        {
          "output_type": "execute_result",
          "data": {
            "text/plain": [
              "(119, 6)"
            ]
          },
          "metadata": {},
          "execution_count": 28
        }
      ],
      "source": [
        "#Shape of training data\n",
        "traindata.shape"
      ]
    },
    {
      "cell_type": "code",
      "execution_count": 29,
      "metadata": {
        "colab": {
          "base_uri": "https://localhost:8080/"
        },
        "id": "kSbQfNsL3WX0",
        "outputId": "6852df7e-5f1a-4398-efaf-551901064346"
      },
      "outputs": [
        {
          "output_type": "execute_result",
          "data": {
            "text/plain": [
              "(56, 6)"
            ]
          },
          "metadata": {},
          "execution_count": 29
        }
      ],
      "source": [
        "#Shape of test data\n",
        "testdata.shape"
      ]
    },
    {
      "cell_type": "code",
      "execution_count": 30,
      "metadata": {
        "colab": {
          "base_uri": "https://localhost:8080/"
        },
        "id": "9Eyqe1cg3w5b",
        "outputId": "896c988b-d4b2-41af-ad43-3ee74df80b98"
      },
      "outputs": [
        {
          "output_type": "execute_result",
          "data": {
            "text/plain": [
              "(119, 1)"
            ]
          },
          "metadata": {},
          "execution_count": 30
        }
      ],
      "source": [
        "#Shape of training output\n",
        "trainoutput.shape"
      ]
    },
    {
      "cell_type": "code",
      "execution_count": 31,
      "metadata": {
        "colab": {
          "base_uri": "https://localhost:8080/"
        },
        "id": "b0Rbb0XSx2GE",
        "outputId": "bc33efae-cf80-4ef4-eaec-110f3014ee35"
      },
      "outputs": [
        {
          "output_type": "execute_result",
          "data": {
            "text/plain": [
              "(56, 1)"
            ]
          },
          "metadata": {},
          "execution_count": 31
        }
      ],
      "source": [
        "#Shape of test output\n",
        "testoutput.shape"
      ]
    },
    {
      "cell_type": "code",
      "execution_count": 32,
      "metadata": {
        "id": "7coLWNmu38MD"
      },
      "outputs": [],
      "source": [
        "#Data Preprocessing\n",
        "traindata = traindata /1.0\n",
        "testdata = testdata /1.0\n",
        "\n",
        "#print(traindata)\n",
        "#print(testdata)"
      ]
    },
    {
      "cell_type": "code",
      "execution_count": 33,
      "metadata": {
        "id": "pg9YK3PQ7Xyt"
      },
      "outputs": [],
      "source": [
        "#Building the model\n",
        "model = keras.Sequential([\n",
        "    keras.layers.Flatten(),  # input layer (1)\n",
        "    keras.layers.Dense(1024, activation='relu'),  # hidden layer (2)\n",
        "    keras.layers.Dense(1024, activation='relu'),  # hidden layer (2)\n",
        "    keras.layers.Dense(1024, activation='relu'),  # hidden layer (2)\n",
        "    keras.layers.Dense(1, activation='linear') # output layer (3)\n",
        "])\n"
      ]
    },
    {
      "cell_type": "code",
      "source": [
        "# Flatten the input data and get the output shape of the flatten() layer\n",
        "flatten_layer = model.layers[0]\n",
        "output_shape = flatten_layer(traindata).shape\n",
        "num_neurons = np.prod(output_shape)\n",
        "print(\"Number of neurons in the input layer:\", num_neurons)\n"
      ],
      "metadata": {
        "colab": {
          "base_uri": "https://localhost:8080/"
        },
        "id": "_VABcUTzuHvE",
        "outputId": "612c7ae8-6f3b-4e61-fb0b-8c8356c24db7"
      },
      "execution_count": 34,
      "outputs": [
        {
          "output_type": "stream",
          "name": "stdout",
          "text": [
            "Number of neurons in the input layer: 714\n"
          ]
        }
      ]
    },
    {
      "cell_type": "code",
      "execution_count": 35,
      "metadata": {
        "id": "uapx4iVn7v6s"
      },
      "outputs": [],
      "source": [
        "#Compiling the model\n",
        "model.compile(optimizer='adam',\n",
        "              loss='mean_squared_error',\n",
        "              metrics=['mean_absolute_error'])"
      ]
    },
    {
      "cell_type": "code",
      "execution_count": 36,
      "metadata": {
        "colab": {
          "base_uri": "https://localhost:8080/"
        },
        "id": "6STBpkg878VQ",
        "outputId": "a8840d57-208b-4910-dd78-205d2f404e59"
      },
      "outputs": [
        {
          "output_type": "stream",
          "name": "stdout",
          "text": [
            "Epoch 1/100\n",
            "3/3 [==============================] - 1s 113ms/step - loss: 4448.7139 - mean_absolute_error: 39.4784 - val_loss: 4706.2246 - val_mean_absolute_error: 67.6305\n",
            "Epoch 2/100\n",
            "3/3 [==============================] - 0s 45ms/step - loss: 1608.5936 - mean_absolute_error: 37.0012 - val_loss: 2.2137 - val_mean_absolute_error: 1.2979\n",
            "Epoch 3/100\n",
            "3/3 [==============================] - 0s 51ms/step - loss: 231.6785 - mean_absolute_error: 12.1239 - val_loss: 465.6383 - val_mean_absolute_error: 21.1032\n",
            "Epoch 4/100\n",
            "3/3 [==============================] - 0s 45ms/step - loss: 124.3950 - mean_absolute_error: 8.6284 - val_loss: 96.2905 - val_mean_absolute_error: 9.6101\n",
            "Epoch 5/100\n",
            "3/3 [==============================] - 0s 52ms/step - loss: 90.2235 - mean_absolute_error: 9.0570 - val_loss: 95.3687 - val_mean_absolute_error: 9.5363\n",
            "Epoch 6/100\n",
            "3/3 [==============================] - 0s 45ms/step - loss: 21.1292 - mean_absolute_error: 3.5252 - val_loss: 18.6890 - val_mean_absolute_error: 4.2552\n",
            "Epoch 7/100\n",
            "3/3 [==============================] - 0s 48ms/step - loss: 23.3048 - mean_absolute_error: 4.6342 - val_loss: 31.9242 - val_mean_absolute_error: 5.5813\n",
            "Epoch 8/100\n",
            "3/3 [==============================] - 0s 44ms/step - loss: 8.4229 - mean_absolute_error: 2.3543 - val_loss: 11.8447 - val_mean_absolute_error: 3.2299\n",
            "Epoch 9/100\n",
            "3/3 [==============================] - 0s 49ms/step - loss: 8.8308 - mean_absolute_error: 2.8133 - val_loss: 10.3771 - val_mean_absolute_error: 3.0130\n",
            "Epoch 10/100\n",
            "3/3 [==============================] - 0s 44ms/step - loss: 2.0782 - mean_absolute_error: 1.1414 - val_loss: 2.3334 - val_mean_absolute_error: 1.5113\n",
            "Epoch 11/100\n",
            "3/3 [==============================] - 0s 71ms/step - loss: 3.3283 - mean_absolute_error: 1.7536 - val_loss: 5.0110 - val_mean_absolute_error: 2.2287\n",
            "Epoch 12/100\n",
            "3/3 [==============================] - 0s 79ms/step - loss: 1.8002 - mean_absolute_error: 1.1986 - val_loss: 0.5905 - val_mean_absolute_error: 0.6640\n",
            "Epoch 13/100\n",
            "3/3 [==============================] - 0s 78ms/step - loss: 1.1401 - mean_absolute_error: 0.8420 - val_loss: 4.2451 - val_mean_absolute_error: 1.8947\n",
            "Epoch 14/100\n",
            "3/3 [==============================] - 0s 75ms/step - loss: 1.3732 - mean_absolute_error: 0.9891 - val_loss: 0.2197 - val_mean_absolute_error: 0.3741\n",
            "Epoch 15/100\n",
            "3/3 [==============================] - 0s 71ms/step - loss: 0.4051 - mean_absolute_error: 0.5448 - val_loss: 1.2966 - val_mean_absolute_error: 1.1142\n",
            "Epoch 16/100\n",
            "3/3 [==============================] - 0s 71ms/step - loss: 0.6237 - mean_absolute_error: 0.7321 - val_loss: 0.2541 - val_mean_absolute_error: 0.3977\n",
            "Epoch 17/100\n",
            "3/3 [==============================] - 0s 65ms/step - loss: 0.2916 - mean_absolute_error: 0.4042 - val_loss: 1.0531 - val_mean_absolute_error: 0.9071\n",
            "Epoch 18/100\n",
            "3/3 [==============================] - 0s 83ms/step - loss: 0.2405 - mean_absolute_error: 0.3516 - val_loss: 0.1592 - val_mean_absolute_error: 0.2911\n",
            "Epoch 19/100\n",
            "3/3 [==============================] - 0s 65ms/step - loss: 0.1709 - mean_absolute_error: 0.3705 - val_loss: 0.1722 - val_mean_absolute_error: 0.3389\n",
            "Epoch 20/100\n",
            "3/3 [==============================] - 0s 68ms/step - loss: 0.1280 - mean_absolute_error: 0.2518 - val_loss: 0.1361 - val_mean_absolute_error: 0.2955\n",
            "Epoch 21/100\n",
            "3/3 [==============================] - 0s 80ms/step - loss: 0.0846 - mean_absolute_error: 0.2536 - val_loss: 0.1092 - val_mean_absolute_error: 0.2729\n",
            "Epoch 22/100\n",
            "3/3 [==============================] - 0s 74ms/step - loss: 0.0493 - mean_absolute_error: 0.1611 - val_loss: 0.1733 - val_mean_absolute_error: 0.3598\n",
            "Epoch 23/100\n",
            "3/3 [==============================] - 0s 76ms/step - loss: 0.0488 - mean_absolute_error: 0.1613 - val_loss: 0.0615 - val_mean_absolute_error: 0.1910\n",
            "Epoch 24/100\n",
            "3/3 [==============================] - 0s 67ms/step - loss: 0.0423 - mean_absolute_error: 0.1621 - val_loss: 0.1313 - val_mean_absolute_error: 0.3100\n",
            "Epoch 25/100\n",
            "3/3 [==============================] - 0s 51ms/step - loss: 0.0451 - mean_absolute_error: 0.1454 - val_loss: 0.0601 - val_mean_absolute_error: 0.2044\n",
            "Epoch 26/100\n",
            "3/3 [==============================] - 0s 45ms/step - loss: 0.0367 - mean_absolute_error: 0.1496 - val_loss: 0.0698 - val_mean_absolute_error: 0.2236\n",
            "Epoch 27/100\n",
            "3/3 [==============================] - 0s 60ms/step - loss: 0.0327 - mean_absolute_error: 0.1398 - val_loss: 0.0892 - val_mean_absolute_error: 0.2520\n",
            "Epoch 28/100\n",
            "3/3 [==============================] - 0s 44ms/step - loss: 0.0322 - mean_absolute_error: 0.1356 - val_loss: 0.0625 - val_mean_absolute_error: 0.2121\n",
            "Epoch 29/100\n",
            "3/3 [==============================] - 0s 46ms/step - loss: 0.0312 - mean_absolute_error: 0.1392 - val_loss: 0.0612 - val_mean_absolute_error: 0.2097\n",
            "Epoch 30/100\n",
            "3/3 [==============================] - 0s 45ms/step - loss: 0.0286 - mean_absolute_error: 0.1295 - val_loss: 0.0846 - val_mean_absolute_error: 0.2477\n",
            "Epoch 31/100\n",
            "3/3 [==============================] - 0s 45ms/step - loss: 0.0294 - mean_absolute_error: 0.1305 - val_loss: 0.0512 - val_mean_absolute_error: 0.1837\n",
            "Epoch 32/100\n",
            "3/3 [==============================] - 0s 54ms/step - loss: 0.0279 - mean_absolute_error: 0.1271 - val_loss: 0.0822 - val_mean_absolute_error: 0.2422\n",
            "Epoch 33/100\n",
            "3/3 [==============================] - 0s 45ms/step - loss: 0.0270 - mean_absolute_error: 0.1189 - val_loss: 0.0659 - val_mean_absolute_error: 0.2108\n",
            "Epoch 34/100\n",
            "3/3 [==============================] - 0s 48ms/step - loss: 0.0279 - mean_absolute_error: 0.1286 - val_loss: 0.0649 - val_mean_absolute_error: 0.2077\n",
            "Epoch 35/100\n",
            "3/3 [==============================] - 0s 44ms/step - loss: 0.0278 - mean_absolute_error: 0.1197 - val_loss: 0.0755 - val_mean_absolute_error: 0.2287\n",
            "Epoch 36/100\n",
            "3/3 [==============================] - 0s 54ms/step - loss: 0.0246 - mean_absolute_error: 0.1175 - val_loss: 0.0610 - val_mean_absolute_error: 0.2000\n",
            "Epoch 37/100\n",
            "3/3 [==============================] - 0s 45ms/step - loss: 0.0245 - mean_absolute_error: 0.1175 - val_loss: 0.0834 - val_mean_absolute_error: 0.2416\n",
            "Epoch 38/100\n",
            "3/3 [==============================] - 0s 43ms/step - loss: 0.0274 - mean_absolute_error: 0.1186 - val_loss: 0.0584 - val_mean_absolute_error: 0.1957\n",
            "Epoch 39/100\n",
            "3/3 [==============================] - 0s 44ms/step - loss: 0.0262 - mean_absolute_error: 0.1249 - val_loss: 0.0763 - val_mean_absolute_error: 0.2278\n",
            "Epoch 40/100\n",
            "3/3 [==============================] - 0s 51ms/step - loss: 0.0234 - mean_absolute_error: 0.1116 - val_loss: 0.0806 - val_mean_absolute_error: 0.2347\n",
            "Epoch 41/100\n",
            "3/3 [==============================] - 0s 50ms/step - loss: 0.0233 - mean_absolute_error: 0.1101 - val_loss: 0.0603 - val_mean_absolute_error: 0.1998\n",
            "Epoch 42/100\n",
            "3/3 [==============================] - 0s 48ms/step - loss: 0.0238 - mean_absolute_error: 0.1178 - val_loss: 0.0909 - val_mean_absolute_error: 0.2554\n",
            "Epoch 43/100\n",
            "3/3 [==============================] - 0s 45ms/step - loss: 0.0242 - mean_absolute_error: 0.1118 - val_loss: 0.0539 - val_mean_absolute_error: 0.1858\n",
            "Epoch 44/100\n",
            "3/3 [==============================] - 0s 48ms/step - loss: 0.0226 - mean_absolute_error: 0.1094 - val_loss: 0.0867 - val_mean_absolute_error: 0.2476\n",
            "Epoch 45/100\n",
            "3/3 [==============================] - 0s 45ms/step - loss: 0.0234 - mean_absolute_error: 0.1116 - val_loss: 0.0580 - val_mean_absolute_error: 0.1929\n",
            "Epoch 46/100\n",
            "3/3 [==============================] - 0s 44ms/step - loss: 0.0217 - mean_absolute_error: 0.1092 - val_loss: 0.0763 - val_mean_absolute_error: 0.2277\n",
            "Epoch 47/100\n",
            "3/3 [==============================] - 0s 45ms/step - loss: 0.0218 - mean_absolute_error: 0.1082 - val_loss: 0.0657 - val_mean_absolute_error: 0.2077\n",
            "Epoch 48/100\n",
            "3/3 [==============================] - 0s 50ms/step - loss: 0.0221 - mean_absolute_error: 0.1082 - val_loss: 0.0605 - val_mean_absolute_error: 0.1973\n",
            "Epoch 49/100\n",
            "3/3 [==============================] - 0s 45ms/step - loss: 0.0221 - mean_absolute_error: 0.1119 - val_loss: 0.0651 - val_mean_absolute_error: 0.2063\n",
            "Epoch 50/100\n",
            "3/3 [==============================] - 0s 48ms/step - loss: 0.0214 - mean_absolute_error: 0.1075 - val_loss: 0.0646 - val_mean_absolute_error: 0.2046\n",
            "Epoch 51/100\n",
            "3/3 [==============================] - 0s 45ms/step - loss: 0.0202 - mean_absolute_error: 0.1022 - val_loss: 0.0676 - val_mean_absolute_error: 0.2109\n",
            "Epoch 52/100\n",
            "3/3 [==============================] - 0s 47ms/step - loss: 0.0207 - mean_absolute_error: 0.1042 - val_loss: 0.0704 - val_mean_absolute_error: 0.2171\n",
            "Epoch 53/100\n",
            "3/3 [==============================] - 0s 50ms/step - loss: 0.0205 - mean_absolute_error: 0.1042 - val_loss: 0.0704 - val_mean_absolute_error: 0.2169\n",
            "Epoch 54/100\n",
            "3/3 [==============================] - 0s 44ms/step - loss: 0.0202 - mean_absolute_error: 0.1040 - val_loss: 0.0640 - val_mean_absolute_error: 0.2034\n",
            "Epoch 55/100\n",
            "3/3 [==============================] - 0s 47ms/step - loss: 0.0197 - mean_absolute_error: 0.1028 - val_loss: 0.0681 - val_mean_absolute_error: 0.2124\n",
            "Epoch 56/100\n",
            "3/3 [==============================] - 0s 48ms/step - loss: 0.0195 - mean_absolute_error: 0.1027 - val_loss: 0.0548 - val_mean_absolute_error: 0.1853\n",
            "Epoch 57/100\n",
            "3/3 [==============================] - 0s 50ms/step - loss: 0.0201 - mean_absolute_error: 0.1016 - val_loss: 0.0662 - val_mean_absolute_error: 0.2073\n",
            "Epoch 58/100\n",
            "3/3 [==============================] - 0s 46ms/step - loss: 0.0192 - mean_absolute_error: 0.0979 - val_loss: 0.0634 - val_mean_absolute_error: 0.2019\n",
            "Epoch 59/100\n",
            "3/3 [==============================] - 0s 49ms/step - loss: 0.0196 - mean_absolute_error: 0.1007 - val_loss: 0.0554 - val_mean_absolute_error: 0.1860\n",
            "Epoch 60/100\n",
            "3/3 [==============================] - 0s 52ms/step - loss: 0.0211 - mean_absolute_error: 0.1081 - val_loss: 0.0897 - val_mean_absolute_error: 0.2580\n",
            "Epoch 61/100\n",
            "3/3 [==============================] - 0s 45ms/step - loss: 0.0220 - mean_absolute_error: 0.1127 - val_loss: 0.0478 - val_mean_absolute_error: 0.1723\n",
            "Epoch 62/100\n",
            "3/3 [==============================] - 0s 46ms/step - loss: 0.0209 - mean_absolute_error: 0.1110 - val_loss: 0.1073 - val_mean_absolute_error: 0.2893\n",
            "Epoch 63/100\n",
            "3/3 [==============================] - 0s 51ms/step - loss: 0.0300 - mean_absolute_error: 0.1320 - val_loss: 0.0442 - val_mean_absolute_error: 0.1617\n",
            "Epoch 64/100\n",
            "3/3 [==============================] - 0s 49ms/step - loss: 0.0279 - mean_absolute_error: 0.1326 - val_loss: 0.1152 - val_mean_absolute_error: 0.3014\n",
            "Epoch 65/100\n",
            "3/3 [==============================] - 0s 46ms/step - loss: 0.0254 - mean_absolute_error: 0.1207 - val_loss: 0.0479 - val_mean_absolute_error: 0.1706\n",
            "Epoch 66/100\n",
            "3/3 [==============================] - 0s 48ms/step - loss: 0.0239 - mean_absolute_error: 0.1149 - val_loss: 0.0720 - val_mean_absolute_error: 0.2184\n",
            "Epoch 67/100\n",
            "3/3 [==============================] - 0s 45ms/step - loss: 0.0175 - mean_absolute_error: 0.0944 - val_loss: 0.0505 - val_mean_absolute_error: 0.1755\n",
            "Epoch 68/100\n",
            "3/3 [==============================] - 0s 45ms/step - loss: 0.0208 - mean_absolute_error: 0.1062 - val_loss: 0.0825 - val_mean_absolute_error: 0.2423\n",
            "Epoch 69/100\n",
            "3/3 [==============================] - 0s 44ms/step - loss: 0.0278 - mean_absolute_error: 0.1221 - val_loss: 0.0510 - val_mean_absolute_error: 0.1790\n",
            "Epoch 70/100\n",
            "3/3 [==============================] - 0s 47ms/step - loss: 0.0241 - mean_absolute_error: 0.1130 - val_loss: 0.0660 - val_mean_absolute_error: 0.2101\n",
            "Epoch 71/100\n",
            "3/3 [==============================] - 0s 47ms/step - loss: 0.0268 - mean_absolute_error: 0.1280 - val_loss: 0.0509 - val_mean_absolute_error: 0.1800\n",
            "Epoch 72/100\n",
            "3/3 [==============================] - 0s 46ms/step - loss: 0.0312 - mean_absolute_error: 0.1382 - val_loss: 0.0537 - val_mean_absolute_error: 0.1847\n",
            "Epoch 73/100\n",
            "3/3 [==============================] - 0s 46ms/step - loss: 0.0262 - mean_absolute_error: 0.1234 - val_loss: 0.0583 - val_mean_absolute_error: 0.1944\n",
            "Epoch 74/100\n",
            "3/3 [==============================] - 0s 47ms/step - loss: 0.0380 - mean_absolute_error: 0.1482 - val_loss: 0.0454 - val_mean_absolute_error: 0.1708\n",
            "Epoch 75/100\n",
            "3/3 [==============================] - 0s 47ms/step - loss: 0.0441 - mean_absolute_error: 0.1769 - val_loss: 0.0682 - val_mean_absolute_error: 0.2150\n",
            "Epoch 76/100\n",
            "3/3 [==============================] - 0s 43ms/step - loss: 0.0269 - mean_absolute_error: 0.1279 - val_loss: 0.0745 - val_mean_absolute_error: 0.2302\n",
            "Epoch 77/100\n",
            "3/3 [==============================] - 0s 45ms/step - loss: 0.0300 - mean_absolute_error: 0.1382 - val_loss: 0.0466 - val_mean_absolute_error: 0.1683\n",
            "Epoch 78/100\n",
            "3/3 [==============================] - 0s 50ms/step - loss: 0.0291 - mean_absolute_error: 0.1279 - val_loss: 0.0625 - val_mean_absolute_error: 0.2043\n",
            "Epoch 79/100\n",
            "3/3 [==============================] - 0s 46ms/step - loss: 0.0305 - mean_absolute_error: 0.1361 - val_loss: 0.0531 - val_mean_absolute_error: 0.1835\n",
            "Epoch 80/100\n",
            "3/3 [==============================] - 0s 47ms/step - loss: 0.0288 - mean_absolute_error: 0.1175 - val_loss: 0.0673 - val_mean_absolute_error: 0.2121\n",
            "Epoch 81/100\n",
            "3/3 [==============================] - 0s 46ms/step - loss: 0.0296 - mean_absolute_error: 0.1330 - val_loss: 0.0464 - val_mean_absolute_error: 0.1580\n",
            "Epoch 82/100\n",
            "3/3 [==============================] - 0s 46ms/step - loss: 0.0256 - mean_absolute_error: 0.1116 - val_loss: 0.0924 - val_mean_absolute_error: 0.2675\n",
            "Epoch 83/100\n",
            "3/3 [==============================] - 0s 45ms/step - loss: 0.0256 - mean_absolute_error: 0.1252 - val_loss: 0.0436 - val_mean_absolute_error: 0.1540\n",
            "Epoch 84/100\n",
            "3/3 [==============================] - 0s 47ms/step - loss: 0.0194 - mean_absolute_error: 0.1015 - val_loss: 0.0960 - val_mean_absolute_error: 0.2728\n",
            "Epoch 85/100\n",
            "3/3 [==============================] - 0s 46ms/step - loss: 0.0200 - mean_absolute_error: 0.1052 - val_loss: 0.0432 - val_mean_absolute_error: 0.1596\n",
            "Epoch 86/100\n",
            "3/3 [==============================] - 0s 51ms/step - loss: 0.0261 - mean_absolute_error: 0.1195 - val_loss: 0.0746 - val_mean_absolute_error: 0.2282\n",
            "Epoch 87/100\n",
            "3/3 [==============================] - 0s 50ms/step - loss: 0.0189 - mean_absolute_error: 0.0978 - val_loss: 0.0480 - val_mean_absolute_error: 0.1709\n",
            "Epoch 88/100\n",
            "3/3 [==============================] - 0s 47ms/step - loss: 0.0197 - mean_absolute_error: 0.1018 - val_loss: 0.0731 - val_mean_absolute_error: 0.2245\n",
            "Epoch 89/100\n",
            "3/3 [==============================] - 0s 51ms/step - loss: 0.0199 - mean_absolute_error: 0.1023 - val_loss: 0.0526 - val_mean_absolute_error: 0.1806\n",
            "Epoch 90/100\n",
            "3/3 [==============================] - 0s 49ms/step - loss: 0.0169 - mean_absolute_error: 0.0950 - val_loss: 0.0744 - val_mean_absolute_error: 0.2287\n",
            "Epoch 91/100\n",
            "3/3 [==============================] - 0s 46ms/step - loss: 0.0171 - mean_absolute_error: 0.0935 - val_loss: 0.0493 - val_mean_absolute_error: 0.1718\n",
            "Epoch 92/100\n",
            "3/3 [==============================] - 0s 47ms/step - loss: 0.0185 - mean_absolute_error: 0.0996 - val_loss: 0.0574 - val_mean_absolute_error: 0.1921\n",
            "Epoch 93/100\n",
            "3/3 [==============================] - 0s 53ms/step - loss: 0.0180 - mean_absolute_error: 0.0953 - val_loss: 0.0531 - val_mean_absolute_error: 0.1826\n",
            "Epoch 94/100\n",
            "3/3 [==============================] - 0s 49ms/step - loss: 0.0172 - mean_absolute_error: 0.0980 - val_loss: 0.0643 - val_mean_absolute_error: 0.2062\n",
            "Epoch 95/100\n",
            "3/3 [==============================] - 0s 46ms/step - loss: 0.0172 - mean_absolute_error: 0.0936 - val_loss: 0.0533 - val_mean_absolute_error: 0.1815\n",
            "Epoch 96/100\n",
            "3/3 [==============================] - 0s 48ms/step - loss: 0.0158 - mean_absolute_error: 0.0893 - val_loss: 0.0682 - val_mean_absolute_error: 0.2153\n",
            "Epoch 97/100\n",
            "3/3 [==============================] - 0s 49ms/step - loss: 0.0177 - mean_absolute_error: 0.0945 - val_loss: 0.0481 - val_mean_absolute_error: 0.1681\n",
            "Epoch 98/100\n",
            "3/3 [==============================] - 0s 46ms/step - loss: 0.0181 - mean_absolute_error: 0.0965 - val_loss: 0.0597 - val_mean_absolute_error: 0.1956\n",
            "Epoch 99/100\n",
            "3/3 [==============================] - 0s 77ms/step - loss: 0.0168 - mean_absolute_error: 0.0945 - val_loss: 0.0567 - val_mean_absolute_error: 0.1901\n",
            "Epoch 100/100\n",
            "3/3 [==============================] - 0s 68ms/step - loss: 0.0156 - mean_absolute_error: 0.0903 - val_loss: 0.0597 - val_mean_absolute_error: 0.1960\n"
          ]
        },
        {
          "output_type": "execute_result",
          "data": {
            "text/plain": [
              "<keras.callbacks.History at 0x7e8601937f70>"
            ]
          },
          "metadata": {},
          "execution_count": 36
        }
      ],
      "source": [
        "#Training the model\n",
        "model.fit(traindata, trainoutput, epochs=100, validation_split=0.2)  # we pass the data, labels and epochs"
      ]
    },
    {
      "cell_type": "code",
      "execution_count": 37,
      "metadata": {
        "colab": {
          "base_uri": "https://localhost:8080/"
        },
        "id": "8eAjL4iIzDTy",
        "outputId": "7bc60eb9-e7e3-4aeb-efd6-313ecbe30b05"
      },
      "outputs": [
        {
          "output_type": "stream",
          "name": "stdout",
          "text": [
            "2/2 [==============================] - 0s 10ms/step - loss: 0.0264 - mean_absolute_error: 0.1157\n",
            "Test loss: 0.026426883414387703\n",
            "Test accuracy: 0.11568871885538101\n"
          ]
        }
      ],
      "source": [
        "test_loss, test_acc = model.evaluate(testdata,  testoutput, verbose=1)\n",
        "\n",
        "print('Test loss:', test_loss)\n",
        "print('Test accuracy:', test_acc)"
      ]
    },
    {
      "cell_type": "code",
      "execution_count": 38,
      "metadata": {
        "colab": {
          "base_uri": "https://localhost:8080/"
        },
        "id": "Pt_DkH349XlQ",
        "outputId": "bb2a180f-4669-4944-a13f-a24452f8a531"
      },
      "outputs": [
        {
          "output_type": "stream",
          "name": "stdout",
          "text": [
            "2/2 [==============================] - 0s 9ms/step\n"
          ]
        }
      ],
      "source": [
        "predictions = model.predict(testdata)\n",
        "#print(testdata)\n",
        "#print(testdata.iloc[-1]) #In case that testdata is not numpy.ndarray object but dataframe object (which is the direct output of the pd.read_csv above)"
      ]
    },
    {
      "cell_type": "code",
      "execution_count": 39,
      "metadata": {
        "id": "drhbG7MsX4Oh"
      },
      "outputs": [],
      "source": [
        "#print(predictions)\n"
      ]
    },
    {
      "cell_type": "code",
      "execution_count": 40,
      "metadata": {
        "id": "JaQ5bO1tX8CF"
      },
      "outputs": [],
      "source": [
        "#print(testoutput)"
      ]
    },
    {
      "cell_type": "code",
      "source": [
        "# Plot both vectors on the same plot\n",
        "plt.plot(testoutput, label='testoutput')\n",
        "plt.plot(predictions, label='predictions')\n",
        "\n",
        "# Customize the plot (optional)\n",
        "plt.xlabel('Observation')\n",
        "plt.ylabel('Value')\n",
        "plt.title('Plot of Test output and prediction output')\n",
        "plt.legend()\n",
        "\n",
        "# Show the plot\n",
        "plt.show()"
      ],
      "metadata": {
        "colab": {
          "base_uri": "https://localhost:8080/",
          "height": 472
        },
        "id": "dFUlx56MYmQy",
        "outputId": "ea5d3cd7-1e97-4582-9e9b-1cffda03e8c7"
      },
      "execution_count": 41,
      "outputs": [
        {
          "output_type": "display_data",
          "data": {
            "text/plain": [
              "<Figure size 640x480 with 1 Axes>"
            ],
            "image/png": "[encoded data removed]"
          },
          "metadata": {}
        }
      ]
    }
  ],
  "metadata": {
    "colab": {
      "provenance": [],
      "include_colab_link": true
    },
    "kernelspec": {
      "display_name": "Python 3",
      "name": "python3"
    },
    "language_info": {
      "name": "python"
    }
  },
  "nbformat": 4,
  "nbformat_minor": 0
}