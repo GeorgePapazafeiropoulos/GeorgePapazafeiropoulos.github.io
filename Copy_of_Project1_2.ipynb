{
  "cells": [
    {
      "cell_type": "markdown",
      "metadata": {
        "id": "view-in-github",
        "colab_type": "text"
      },
      "source": [
        "<a href=\"https://colab.research.google.com/github/GeorgePapazafeiropoulos/GeorgePapazafeiropoulos.github.io/blob/D_Trials_1.0/Copy_of_Project1_2.ipynb\" target=\"_parent\"><img src=\"https://colab.research.google.com/assets/colab-badge.svg\" alt=\"Open In Colab\"/></a>"
      ]
    },
    {
      "cell_type": "code",
      "execution_count": 1,
      "metadata": {
        "id": "r4ZUDp13R1vU"
      },
      "outputs": [],
      "source": [
        "# TensorFlow and tf.keras\n",
        "import tensorflow as tf\n",
        "from tensorflow import keras\n",
        "from keras.regularizers import l1, l2\n",
        "from keras.layers import Dense\n",
        "\n",
        "# Helper libraries\n",
        "import numpy as np\n",
        "import matplotlib.pyplot as plt\n",
        "import pandas as pd"
      ]
    },
    {
      "cell_type": "code",
      "execution_count": 2,
      "metadata": {
        "id": "lH5scc1CSA8p",
        "colab": {
          "base_uri": "https://localhost:8080/"
        },
        "outputId": "b7d60ec5-a61f-4766-a5a3-3166491668a0"
      },
      "outputs": [
        {
          "output_type": "stream",
          "name": "stdout",
          "text": [
            "[[0.80729167]\n",
            " [0.7734375 ]\n",
            " [0.78385417]\n",
            " [0.64583333]\n",
            " [0.59895833]\n",
            " [0.53385417]\n",
            " [0.46614583]\n",
            " [0.359375  ]\n",
            " [0.35416667]\n",
            " [0.45052083]\n",
            " [0.44010417]\n",
            " [0.5078125 ]\n",
            " [0.20833333]\n",
            " [0.5       ]\n",
            " [0.48177083]\n",
            " [0.50520833]\n",
            " [0.49739583]\n",
            " [0.47395833]\n",
            " [0.41666667]\n",
            " [0.51822917]\n",
            " [0.4765625 ]\n",
            " [0.4296875 ]\n",
            " [0.5234375 ]\n",
            " [0.48177083]\n",
            " [0.37239583]\n",
            " [0.390625  ]\n",
            " [0.390625  ]\n",
            " [0.33333333]\n",
            " [0.453125  ]\n",
            " [0.4140625 ]\n",
            " [0.40885417]\n",
            " [0.39322917]\n",
            " [0.38802083]\n",
            " [0.58072917]\n",
            " [0.62239583]\n",
            " [0.53645833]\n",
            " [0.453125  ]\n",
            " [0.41145833]\n",
            " [0.44791667]\n",
            " [0.4140625 ]\n",
            " [0.4765625 ]\n",
            " [0.77864583]\n",
            " [0.90885417]\n",
            " [0.48177083]\n",
            " [0.47916667]\n",
            " [0.53645833]\n",
            " [0.49479167]\n",
            " [0.59895833]\n",
            " [0.55729167]\n",
            " [0.46354167]\n",
            " [0.51302083]\n",
            " [0.50520833]\n",
            " [0.52864583]\n",
            " [0.46354167]\n",
            " [0.33854167]\n",
            " [0.46875   ]\n",
            " [0.40364583]\n",
            " [0.43229167]\n",
            " [0.4375    ]\n",
            " [0.41666667]\n",
            " [0.34895833]\n",
            " [0.3984375 ]\n",
            " [0.390625  ]\n",
            " [0.36979167]\n",
            " [0.36458333]\n",
            " [0.5703125 ]\n",
            " [0.51302083]\n",
            " [0.4921875 ]\n",
            " [0.38541667]\n",
            " [0.54166667]\n",
            " [0.44270833]\n",
            " [0.53645833]\n",
            " [0.515625  ]\n",
            " [0.54947917]\n",
            " [0.42447917]\n",
            " [0.58072917]\n",
            " [0.49739583]\n",
            " [0.44010417]\n",
            " [0.3515625 ]\n",
            " [0.52604167]\n",
            " [0.49479167]\n",
            " [0.65885417]\n",
            " [1.        ]\n",
            " [0.71354167]\n",
            " [0.546875  ]\n",
            " [0.390625  ]\n",
            " [0.48697917]\n",
            " [0.4453125 ]\n",
            " [0.453125  ]\n",
            " [0.40104167]\n",
            " [0.50260417]\n",
            " [0.40885417]\n",
            " [0.34635417]\n",
            " [0.359375  ]\n",
            " [0.47916667]\n",
            " [0.51041667]\n",
            " [0.6328125 ]\n",
            " [0.46354167]\n",
            " [0.61979167]\n",
            " [0.44791667]\n",
            " [0.453125  ]\n",
            " [0.34375   ]\n",
            " [0.61197917]\n",
            " [0.59895833]\n",
            " [0.453125  ]\n",
            " [0.453125  ]\n",
            " [0.421875  ]\n",
            " [0.5546875 ]\n",
            " [0.37760417]\n",
            " [0.421875  ]\n",
            " [0.6171875 ]\n",
            " [0.50260417]\n",
            " [0.40885417]\n",
            " [0.46875   ]\n",
            " [0.34114583]\n",
            " [0.3203125 ]\n",
            " [0.765625  ]\n",
            " [0.81510417]\n",
            " [0.796875  ]]\n",
            "[[0.38909774]\n",
            " [0.35714286]\n",
            " [0.28571429]\n",
            " [0.27443609]\n",
            " [0.25      ]\n",
            " [0.28007519]\n",
            " [0.36466165]\n",
            " [0.29887218]\n",
            " [0.39661654]\n",
            " [0.32142857]\n",
            " [0.27631579]\n",
            " [0.28759398]\n",
            " [0.29511278]\n",
            " [0.33646617]\n",
            " [0.29887218]\n",
            " [0.28007519]\n",
            " [0.28947368]\n",
            " [0.94924812]\n",
            " [0.90225564]\n",
            " [1.        ]\n",
            " [0.71428571]\n",
            " [0.46616541]\n",
            " [0.52819549]\n",
            " [0.51315789]\n",
            " [0.42669173]\n",
            " [0.46428571]\n",
            " [0.46992481]\n",
            " [0.52443609]\n",
            " [0.43796992]\n",
            " [0.46240602]\n",
            " [0.29699248]\n",
            " [0.33458647]\n",
            " [0.34398496]\n",
            " [0.38345865]\n",
            " [0.38157895]\n",
            " [0.34962406]\n",
            " [0.32142857]\n",
            " [0.34962406]\n",
            " [0.28195489]\n",
            " [0.22556391]\n",
            " [0.2612782 ]\n",
            " [0.2537594 ]\n",
            " [0.22932331]\n",
            " [0.2537594 ]\n",
            " [0.26315789]\n",
            " [0.31766917]\n",
            " [0.32330827]\n",
            " [0.40977444]\n",
            " [0.37593985]\n",
            " [0.48120301]\n",
            " [0.43796992]\n",
            " [0.33082707]\n",
            " [0.48120301]\n",
            " [0.39473684]\n",
            " [0.45300752]\n",
            " [0.5093985 ]]\n"
          ]
        }
      ],
      "source": [
        "# Importing Train Data\n",
        "url = 'https://raw.githubusercontent.com/GeorgePapazafeiropoulos/GeorgePapazafeiropoulos.github.io/D_Trials_1.0/annOnline/DATA_TRAIN.csv'\n",
        "traindata = pd.read_csv(url, skiprows=None)\n",
        "traindata = traindata.values\n",
        "#print(traindata)\n",
        "\n",
        "# Importing Test Data\n",
        "url='https://raw.githubusercontent.com/GeorgePapazafeiropoulos/GeorgePapazafeiropoulos.github.io/D_Trials_1.0/annOnline/DATA_TEST.csv'\n",
        "testdata = pd.read_csv(url, skiprows=None)\n",
        "testdata=testdata.values\n",
        "#print(testdata)\n",
        "\n",
        "# Importing Train Output\n",
        "url='https://raw.githubusercontent.com/GeorgePapazafeiropoulos/GeorgePapazafeiropoulos.github.io/D_Trials_1.0/annOnline/OUTPUT_TRAIN.csv'\n",
        "trainoutput = pd.read_csv(url, skiprows=None)\n",
        "trainoutput=trainoutput.values\n",
        "trainoutput=trainoutput/np.max(trainoutput)\n",
        "print(trainoutput)\n",
        "\n",
        "# Importing Test Output\n",
        "url='https://raw.githubusercontent.com/GeorgePapazafeiropoulos/GeorgePapazafeiropoulos.github.io/D_Trials_1.0/annOnline/OUTPUT_TEST.csv'\n",
        "testoutput = pd.read_csv(url, skiprows=None)\n",
        "testoutput=testoutput.values\n",
        "testoutput=testoutput/np.max(testoutput)\n",
        "print(testoutput)"
      ]
    },
    {
      "cell_type": "code",
      "execution_count": 3,
      "metadata": {
        "colab": {
          "base_uri": "https://localhost:8080/"
        },
        "id": "Itm2x1h43J-j",
        "outputId": "f6b5500c-bb27-4f43-f8fe-04ef60da6603"
      },
      "outputs": [
        {
          "output_type": "execute_result",
          "data": {
            "text/plain": [
              "(119, 6)"
            ]
          },
          "metadata": {},
          "execution_count": 3
        }
      ],
      "source": [
        "#Shape of training data\n",
        "traindata.shape"
      ]
    },
    {
      "cell_type": "code",
      "execution_count": 4,
      "metadata": {
        "colab": {
          "base_uri": "https://localhost:8080/"
        },
        "id": "kSbQfNsL3WX0",
        "outputId": "24e658b8-dcea-4743-8a00-7375bf372d96"
      },
      "outputs": [
        {
          "output_type": "execute_result",
          "data": {
            "text/plain": [
              "(56, 6)"
            ]
          },
          "metadata": {},
          "execution_count": 4
        }
      ],
      "source": [
        "#Shape of test data\n",
        "testdata.shape"
      ]
    },
    {
      "cell_type": "code",
      "execution_count": 5,
      "metadata": {
        "colab": {
          "base_uri": "https://localhost:8080/"
        },
        "id": "9Eyqe1cg3w5b",
        "outputId": "4327a494-b114-4719-95f5-37b0012152aa"
      },
      "outputs": [
        {
          "output_type": "execute_result",
          "data": {
            "text/plain": [
              "(119, 1)"
            ]
          },
          "metadata": {},
          "execution_count": 5
        }
      ],
      "source": [
        "#Shape of training output\n",
        "trainoutput.shape"
      ]
    },
    {
      "cell_type": "code",
      "execution_count": 6,
      "metadata": {
        "colab": {
          "base_uri": "https://localhost:8080/"
        },
        "id": "b0Rbb0XSx2GE",
        "outputId": "b6120fb3-54b7-4d64-c4d3-86095f329a80"
      },
      "outputs": [
        {
          "output_type": "execute_result",
          "data": {
            "text/plain": [
              "(56, 1)"
            ]
          },
          "metadata": {},
          "execution_count": 6
        }
      ],
      "source": [
        "#Shape of test output\n",
        "testoutput.shape"
      ]
    },
    {
      "cell_type": "code",
      "execution_count": 7,
      "metadata": {
        "id": "7coLWNmu38MD"
      },
      "outputs": [],
      "source": [
        "#Data Preprocessing\n",
        "traindata = traindata /1.0\n",
        "testdata = testdata /1.0\n",
        "\n",
        "#print(traindata)\n",
        "#print(testdata)"
      ]
    },
    {
      "cell_type": "code",
      "execution_count": 8,
      "metadata": {
        "id": "pg9YK3PQ7Xyt"
      },
      "outputs": [],
      "source": [
        "#Building the model\n",
        "model = keras.Sequential([\n",
        "    keras.layers.Flatten(),  # input layer (1)\n",
        "    keras.layers.Dense(1024, activation='relu'),  # hidden layer (2)\n",
        "    keras.layers.Dense(1024, activation='relu'),  # hidden layer (2)\n",
        "    keras.layers.Dense(1024, activation='relu'),  # hidden layer (2)\n",
        "    keras.layers.Dense(1, activation='linear') # output layer (3)\n",
        "])\n"
      ]
    },
    {
      "cell_type": "code",
      "source": [
        "# Flatten the input data and get the output shape of the flatten() layer\n",
        "flatten_layer = model.layers[0]\n",
        "output_shape = flatten_layer(traindata).shape\n",
        "num_neurons = np.prod(output_shape)\n",
        "print(\"Number of neurons in the input layer:\", num_neurons)\n"
      ],
      "metadata": {
        "colab": {
          "base_uri": "https://localhost:8080/",
          "height": 223
        },
        "id": "_VABcUTzuHvE",
        "outputId": "5bc5b943-dcfa-4aa7-c6f5-41fbb1475684"
      },
      "execution_count": 9,
      "outputs": [
        {
          "output_type": "stream",
          "name": "stdout",
          "text": [
            "Number of neurons in the input layer: 714\n"
          ]
        },
        {
          "output_type": "error",
          "ename": "AttributeError",
          "evalue": "ignored",
          "traceback": [
            "\u001b[0;31m---------------------------------------------------------------------------\u001b[0m",
            "\u001b[0;31mAttributeError\u001b[0m                            Traceback (most recent call last)",
            "\u001b[0;32m<ipython-input-9-339d1e684628>\u001b[0m in \u001b[0;36m<cell line: 6>\u001b[0;34m()\u001b[0m\n\u001b[1;32m      4\u001b[0m \u001b[0mnum_neurons\u001b[0m \u001b[0;34m=\u001b[0m \u001b[0mnp\u001b[0m\u001b[0;34m.\u001b[0m\u001b[0mprod\u001b[0m\u001b[0;34m(\u001b[0m\u001b[0moutput_shape\u001b[0m\u001b[0;34m)\u001b[0m\u001b[0;34m\u001b[0m\u001b[0;34m\u001b[0m\u001b[0m\n\u001b[1;32m      5\u001b[0m \u001b[0mprint\u001b[0m\u001b[0;34m(\u001b[0m\u001b[0;34m\"Number of neurons in the input layer:\"\u001b[0m\u001b[0;34m,\u001b[0m \u001b[0mnum_neurons\u001b[0m\u001b[0;34m)\u001b[0m\u001b[0;34m\u001b[0m\u001b[0;34m\u001b[0m\u001b[0m\n\u001b[0;32m----> 6\u001b[0;31m \u001b[0mprint\u001b[0m\u001b[0;34m(\u001b[0m\u001b[0mflatten_layer\u001b[0m\u001b[0;34m.\u001b[0m\u001b[0msummary\u001b[0m\u001b[0;34m(\u001b[0m\u001b[0;34m)\u001b[0m\u001b[0;34m)\u001b[0m\u001b[0;34m\u001b[0m\u001b[0;34m\u001b[0m\u001b[0m\n\u001b[0m",
            "\u001b[0;31mAttributeError\u001b[0m: 'Flatten' object has no attribute 'summary'"
          ]
        }
      ]
    },
    {
      "cell_type": "code",
      "execution_count": null,
      "metadata": {
        "id": "uapx4iVn7v6s"
      },
      "outputs": [],
      "source": [
        "#Compiling the model\n",
        "model.compile(optimizer='adam',\n",
        "              loss='mean_squared_error',\n",
        "              metrics=['mean_absolute_error'])"
      ]
    },
    {
      "cell_type": "code",
      "execution_count": null,
      "metadata": {
        "id": "6STBpkg878VQ"
      },
      "outputs": [],
      "source": [
        "#Training the model\n",
        "model.fit(traindata, trainoutput, epochs=100, validation_split=0.2)  # we pass the data, labels and epochs"
      ]
    },
    {
      "cell_type": "code",
      "execution_count": null,
      "metadata": {
        "id": "8eAjL4iIzDTy"
      },
      "outputs": [],
      "source": [
        "test_loss, test_acc = model.evaluate(traindata,  trainoutput, verbose=1)\n",
        "\n",
        "print('Test loss:', test_loss)\n",
        "print('Test accuracy:', test_acc)"
      ]
    },
    {
      "cell_type": "code",
      "execution_count": null,
      "metadata": {
        "id": "Pt_DkH349XlQ"
      },
      "outputs": [],
      "source": [
        "predictions = model.predict(testdata)\n",
        "#print(testdata)\n",
        "#print(testdata.iloc[-1]) #In case that testdata is not numpy.ndarray object but dataframe object (which is the direct output of the pd.read_csv above)"
      ]
    },
    {
      "cell_type": "code",
      "execution_count": null,
      "metadata": {
        "id": "drhbG7MsX4Oh"
      },
      "outputs": [],
      "source": [
        "#print(predictions)\n"
      ]
    },
    {
      "cell_type": "code",
      "execution_count": null,
      "metadata": {
        "id": "JaQ5bO1tX8CF"
      },
      "outputs": [],
      "source": [
        "#print(testoutput)"
      ]
    },
    {
      "cell_type": "code",
      "source": [
        "# Plot both vectors on the same plot\n",
        "plt.plot(testoutput, label='testoutput')\n",
        "plt.plot(predictions, label='predictions')\n",
        "\n",
        "# Customize the plot (optional)\n",
        "plt.xlabel('Observation')\n",
        "plt.ylabel('Value')\n",
        "plt.title('Plot of Test output and prediction output')\n",
        "plt.legend()\n",
        "\n",
        "# Show the plot\n",
        "plt.show()"
      ],
      "metadata": {
        "id": "dFUlx56MYmQy"
      },
      "execution_count": null,
      "outputs": []
    }
  ],
  "metadata": {
    "colab": {
      "provenance": [],
      "include_colab_link": true
    },
    "kernelspec": {
      "display_name": "Python 3",
      "name": "python3"
    },
    "language_info": {
      "name": "python"
    }
  },
  "nbformat": 4,
  "nbformat_minor": 0
}