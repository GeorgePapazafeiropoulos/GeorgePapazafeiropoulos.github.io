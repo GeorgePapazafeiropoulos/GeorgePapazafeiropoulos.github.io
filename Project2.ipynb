{
  "cells": [
    {
      "cell_type": "markdown",
      "metadata": {
        "id": "view-in-github",
        "colab_type": "text"
      },
      "source": [
        "<a href=\"https://colab.research.google.com/github/GeorgePapazafeiropoulos/GeorgePapazafeiropoulos.github.io/blob/D_Trials_1.0/Project2.ipynb\" target=\"_parent\"><img src=\"https://colab.research.google.com/assets/colab-badge.svg\" alt=\"Open In Colab\"/></a>"
      ]
    },
    {
      "cell_type": "code",
      "execution_count": 3,
      "metadata": {
        "id": "r4ZUDp13R1vU"
      },
      "outputs": [],
      "source": [
        "# TensorFlow and tf.keras\n",
        "import tensorflow as tf\n",
        "from tensorflow import keras\n",
        "\n",
        "# Helper libraries\n",
        "import numpy as np\n",
        "import matplotlib.pyplot as plt\n",
        "import pandas as pd"
      ]
    },
    {
      "cell_type": "code",
      "execution_count": 4,
      "metadata": {
        "id": "lH5scc1CSA8p"
      },
      "outputs": [],
      "source": [
        "# Importing Train Data\n",
        "url = 'https://raw.githubusercontent.com/GeorgePapazafeiropoulos/GeorgePapazafeiropoulos.github.io/D_Trials_1.0/annOnline/DATA_TRAIN.csv'\n",
        "traindata = pd.read_csv(url, skiprows=[1])\n",
        "\n",
        "# Importing Test Data\n",
        "url='https://raw.githubusercontent.com/GeorgePapazafeiropoulos/GeorgePapazafeiropoulos.github.io/D_Trials_1.0/annOnline/DATA_TEST.csv'\n",
        "testdata = pd.read_csv(url, skiprows=[1])\n",
        "\n",
        "# Importing Train Output\n",
        "url='https://raw.githubusercontent.com/GeorgePapazafeiropoulos/GeorgePapazafeiropoulos.github.io/D_Trials_1.0/annOnline/OUTPUT_TRAIN.csv'\n",
        "trainoutput = pd.read_csv(url, skiprows=[1])\n",
        "\n",
        "# Importing Test Output\n",
        "url='https://raw.githubusercontent.com/GeorgePapazafeiropoulos/GeorgePapazafeiropoulos.github.io/D_Trials_1.0/annOnline/OUTPUT_TEST.csv'\n",
        "testoutput = pd.read_csv(url, skiprows=[1])"
      ]
    },
    {
      "cell_type": "code",
      "execution_count": 5,
      "metadata": {
        "colab": {
          "base_uri": "https://localhost:8080/"
        },
        "id": "Itm2x1h43J-j",
        "outputId": "d552f9b3-b34f-425b-caf8-8f3519ef73cd"
      },
      "outputs": [
        {
          "output_type": "execute_result",
          "data": {
            "text/plain": [
              "(118, 6)"
            ]
          },
          "metadata": {},
          "execution_count": 5
        }
      ],
      "source": [
        "#Shape of training data\n",
        "traindata.shape"
      ]
    },
    {
      "cell_type": "code",
      "execution_count": 6,
      "metadata": {
        "colab": {
          "base_uri": "https://localhost:8080/"
        },
        "id": "kSbQfNsL3WX0",
        "outputId": "46941167-2384-41d5-c898-57a70c9751a5"
      },
      "outputs": [
        {
          "output_type": "execute_result",
          "data": {
            "text/plain": [
              "(55, 6)"
            ]
          },
          "metadata": {},
          "execution_count": 6
        }
      ],
      "source": [
        "#Shape of test data\n",
        "testdata.shape"
      ]
    },
    {
      "cell_type": "code",
      "execution_count": 7,
      "metadata": {
        "colab": {
          "base_uri": "https://localhost:8080/"
        },
        "id": "9Eyqe1cg3w5b",
        "outputId": "f06641b2-48e3-49a4-afea-ab646b9a8302"
      },
      "outputs": [
        {
          "output_type": "execute_result",
          "data": {
            "text/plain": [
              "(118, 1)"
            ]
          },
          "metadata": {},
          "execution_count": 7
        }
      ],
      "source": [
        "#Shape of training output\n",
        "trainoutput.shape"
      ]
    },
    {
      "cell_type": "code",
      "execution_count": 8,
      "metadata": {
        "colab": {
          "base_uri": "https://localhost:8080/"
        },
        "id": "b0Rbb0XSx2GE",
        "outputId": "7ff1ddc2-cb84-4d65-a994-617264c44d03"
      },
      "outputs": [
        {
          "output_type": "execute_result",
          "data": {
            "text/plain": [
              "(55, 1)"
            ]
          },
          "metadata": {},
          "execution_count": 8
        }
      ],
      "source": [
        "#Shape of test output\n",
        "testoutput.shape"
      ]
    },
    {
      "cell_type": "code",
      "execution_count": 9,
      "metadata": {
        "id": "7coLWNmu38MD"
      },
      "outputs": [],
      "source": [
        "#Data Preprocessing\n",
        "traindata = traindata / 594.0\n",
        "testdata = testdata / 594.0\n",
        "\n",
        "#print(traindata)\n",
        "#print(testdata)"
      ]
    },
    {
      "cell_type": "code",
      "execution_count": 10,
      "metadata": {
        "id": "pg9YK3PQ7Xyt"
      },
      "outputs": [],
      "source": [
        "#Building the model\n",
        "model = keras.Sequential([\n",
        "    keras.layers.Flatten(),  # input layer (1)\n",
        "    keras.layers.Dense(128, activation='relu'),  # hidden layer (2)\n",
        "    keras.layers.Dense(1) # output layer (3)\n",
        "])\n"
      ]
    },
    {
      "cell_type": "code",
      "execution_count": 11,
      "metadata": {
        "id": "uapx4iVn7v6s"
      },
      "outputs": [],
      "source": [
        "#Compiling the model\n",
        "model.compile(optimizer='adam',\n",
        "              loss='mean_squared_error',\n",
        "              metrics=['mean_absolute_error'])"
      ]
    },
    {
      "cell_type": "code",
      "execution_count": 12,
      "metadata": {
        "colab": {
          "base_uri": "https://localhost:8080/"
        },
        "id": "6STBpkg878VQ",
        "outputId": "8a1359f2-3027-454e-9f5a-0accaccfa0a8"
      },
      "outputs": [
        {
          "output_type": "stream",
          "name": "stdout",
          "text": [
            "Epoch 1/100\n",
            "4/4 [==============================] - 1s 8ms/step - loss: 3.6735 - mean_absolute_error: 1.8564\n",
            "Epoch 2/100\n",
            "4/4 [==============================] - 0s 8ms/step - loss: 3.3792 - mean_absolute_error: 1.7749\n",
            "Epoch 3/100\n",
            "4/4 [==============================] - 0s 5ms/step - loss: 3.1031 - mean_absolute_error: 1.6935\n",
            "Epoch 4/100\n",
            "4/4 [==============================] - 0s 8ms/step - loss: 2.8405 - mean_absolute_error: 1.6124\n",
            "Epoch 5/100\n",
            "4/4 [==============================] - 0s 5ms/step - loss: 2.5863 - mean_absolute_error: 1.5315\n",
            "Epoch 6/100\n",
            "4/4 [==============================] - 0s 5ms/step - loss: 2.3474 - mean_absolute_error: 1.4488\n",
            "Epoch 7/100\n",
            "4/4 [==============================] - 0s 5ms/step - loss: 2.1109 - mean_absolute_error: 1.3643\n",
            "Epoch 8/100\n",
            "4/4 [==============================] - 0s 5ms/step - loss: 1.8920 - mean_absolute_error: 1.2778\n",
            "Epoch 9/100\n",
            "4/4 [==============================] - 0s 5ms/step - loss: 1.6794 - mean_absolute_error: 1.1897\n",
            "Epoch 10/100\n",
            "4/4 [==============================] - 0s 4ms/step - loss: 1.4769 - mean_absolute_error: 1.1005\n",
            "Epoch 11/100\n",
            "4/4 [==============================] - 0s 5ms/step - loss: 1.2922 - mean_absolute_error: 1.0119\n",
            "Epoch 12/100\n",
            "4/4 [==============================] - 0s 5ms/step - loss: 1.1244 - mean_absolute_error: 0.9222\n",
            "Epoch 13/100\n",
            "4/4 [==============================] - 0s 5ms/step - loss: 0.9672 - mean_absolute_error: 0.8379\n",
            "Epoch 14/100\n",
            "4/4 [==============================] - 0s 6ms/step - loss: 0.8306 - mean_absolute_error: 0.7572\n",
            "Epoch 15/100\n",
            "4/4 [==============================] - 0s 5ms/step - loss: 0.7111 - mean_absolute_error: 0.6844\n",
            "Epoch 16/100\n",
            "4/4 [==============================] - 0s 5ms/step - loss: 0.6122 - mean_absolute_error: 0.6216\n",
            "Epoch 17/100\n",
            "4/4 [==============================] - 0s 4ms/step - loss: 0.5325 - mean_absolute_error: 0.5634\n",
            "Epoch 18/100\n",
            "4/4 [==============================] - 0s 5ms/step - loss: 0.4712 - mean_absolute_error: 0.5163\n",
            "Epoch 19/100\n",
            "4/4 [==============================] - 0s 5ms/step - loss: 0.4281 - mean_absolute_error: 0.4874\n",
            "Epoch 20/100\n",
            "4/4 [==============================] - 0s 6ms/step - loss: 0.3964 - mean_absolute_error: 0.4672\n",
            "Epoch 21/100\n",
            "4/4 [==============================] - 0s 5ms/step - loss: 0.3802 - mean_absolute_error: 0.4584\n",
            "Epoch 22/100\n",
            "4/4 [==============================] - 0s 5ms/step - loss: 0.3661 - mean_absolute_error: 0.4496\n",
            "Epoch 23/100\n",
            "4/4 [==============================] - 0s 6ms/step - loss: 0.3584 - mean_absolute_error: 0.4454\n",
            "Epoch 24/100\n",
            "4/4 [==============================] - 0s 5ms/step - loss: 0.3561 - mean_absolute_error: 0.4429\n",
            "Epoch 25/100\n",
            "4/4 [==============================] - 0s 6ms/step - loss: 0.3549 - mean_absolute_error: 0.4417\n",
            "Epoch 26/100\n",
            "4/4 [==============================] - 0s 5ms/step - loss: 0.3545 - mean_absolute_error: 0.4415\n",
            "Epoch 27/100\n",
            "4/4 [==============================] - 0s 5ms/step - loss: 0.3539 - mean_absolute_error: 0.4411\n",
            "Epoch 28/100\n",
            "4/4 [==============================] - 0s 5ms/step - loss: 0.3532 - mean_absolute_error: 0.4406\n",
            "Epoch 29/100\n",
            "4/4 [==============================] - 0s 4ms/step - loss: 0.3525 - mean_absolute_error: 0.4401\n",
            "Epoch 30/100\n",
            "4/4 [==============================] - 0s 5ms/step - loss: 0.3514 - mean_absolute_error: 0.4394\n",
            "Epoch 31/100\n",
            "4/4 [==============================] - 0s 7ms/step - loss: 0.3503 - mean_absolute_error: 0.4389\n",
            "Epoch 32/100\n",
            "4/4 [==============================] - 0s 5ms/step - loss: 0.3493 - mean_absolute_error: 0.4382\n",
            "Epoch 33/100\n",
            "4/4 [==============================] - 0s 5ms/step - loss: 0.3479 - mean_absolute_error: 0.4373\n",
            "Epoch 34/100\n",
            "4/4 [==============================] - 0s 5ms/step - loss: 0.3468 - mean_absolute_error: 0.4366\n",
            "Epoch 35/100\n",
            "4/4 [==============================] - 0s 4ms/step - loss: 0.3458 - mean_absolute_error: 0.4359\n",
            "Epoch 36/100\n",
            "4/4 [==============================] - 0s 6ms/step - loss: 0.3450 - mean_absolute_error: 0.4353\n",
            "Epoch 37/100\n",
            "4/4 [==============================] - 0s 6ms/step - loss: 0.3440 - mean_absolute_error: 0.4348\n",
            "Epoch 38/100\n",
            "4/4 [==============================] - 0s 5ms/step - loss: 0.3430 - mean_absolute_error: 0.4341\n",
            "Epoch 39/100\n",
            "4/4 [==============================] - 0s 5ms/step - loss: 0.3419 - mean_absolute_error: 0.4334\n",
            "Epoch 40/100\n",
            "4/4 [==============================] - 0s 4ms/step - loss: 0.3411 - mean_absolute_error: 0.4328\n",
            "Epoch 41/100\n",
            "4/4 [==============================] - 0s 5ms/step - loss: 0.3401 - mean_absolute_error: 0.4321\n",
            "Epoch 42/100\n",
            "4/4 [==============================] - 0s 5ms/step - loss: 0.3392 - mean_absolute_error: 0.4316\n",
            "Epoch 43/100\n",
            "4/4 [==============================] - 0s 5ms/step - loss: 0.3382 - mean_absolute_error: 0.4308\n",
            "Epoch 44/100\n",
            "4/4 [==============================] - 0s 5ms/step - loss: 0.3376 - mean_absolute_error: 0.4304\n",
            "Epoch 45/100\n",
            "4/4 [==============================] - 0s 5ms/step - loss: 0.3363 - mean_absolute_error: 0.4295\n",
            "Epoch 46/100\n",
            "4/4 [==============================] - 0s 5ms/step - loss: 0.3353 - mean_absolute_error: 0.4289\n",
            "Epoch 47/100\n",
            "4/4 [==============================] - 0s 4ms/step - loss: 0.3342 - mean_absolute_error: 0.4283\n",
            "Epoch 48/100\n",
            "4/4 [==============================] - 0s 5ms/step - loss: 0.3333 - mean_absolute_error: 0.4276\n",
            "Epoch 49/100\n",
            "4/4 [==============================] - 0s 4ms/step - loss: 0.3324 - mean_absolute_error: 0.4270\n",
            "Epoch 50/100\n",
            "4/4 [==============================] - 0s 5ms/step - loss: 0.3315 - mean_absolute_error: 0.4264\n",
            "Epoch 51/100\n",
            "4/4 [==============================] - 0s 5ms/step - loss: 0.3305 - mean_absolute_error: 0.4257\n",
            "Epoch 52/100\n",
            "4/4 [==============================] - 0s 4ms/step - loss: 0.3293 - mean_absolute_error: 0.4249\n",
            "Epoch 53/100\n",
            "4/4 [==============================] - 0s 5ms/step - loss: 0.3286 - mean_absolute_error: 0.4243\n",
            "Epoch 54/100\n",
            "4/4 [==============================] - 0s 6ms/step - loss: 0.3274 - mean_absolute_error: 0.4236\n",
            "Epoch 55/100\n",
            "4/4 [==============================] - 0s 6ms/step - loss: 0.3265 - mean_absolute_error: 0.4231\n",
            "Epoch 56/100\n",
            "4/4 [==============================] - 0s 5ms/step - loss: 0.3253 - mean_absolute_error: 0.4222\n",
            "Epoch 57/100\n",
            "4/4 [==============================] - 0s 7ms/step - loss: 0.3245 - mean_absolute_error: 0.4217\n",
            "Epoch 58/100\n",
            "4/4 [==============================] - 0s 8ms/step - loss: 0.3234 - mean_absolute_error: 0.4208\n",
            "Epoch 59/100\n",
            "4/4 [==============================] - 0s 5ms/step - loss: 0.3222 - mean_absolute_error: 0.4199\n",
            "Epoch 60/100\n",
            "4/4 [==============================] - 0s 5ms/step - loss: 0.3214 - mean_absolute_error: 0.4195\n",
            "Epoch 61/100\n",
            "4/4 [==============================] - 0s 4ms/step - loss: 0.3202 - mean_absolute_error: 0.4186\n",
            "Epoch 62/100\n",
            "4/4 [==============================] - 0s 5ms/step - loss: 0.3195 - mean_absolute_error: 0.4180\n",
            "Epoch 63/100\n",
            "4/4 [==============================] - 0s 4ms/step - loss: 0.3185 - mean_absolute_error: 0.4173\n",
            "Epoch 64/100\n",
            "4/4 [==============================] - 0s 5ms/step - loss: 0.3171 - mean_absolute_error: 0.4163\n",
            "Epoch 65/100\n",
            "4/4 [==============================] - 0s 4ms/step - loss: 0.3160 - mean_absolute_error: 0.4154\n",
            "Epoch 66/100\n",
            "4/4 [==============================] - 0s 4ms/step - loss: 0.3150 - mean_absolute_error: 0.4148\n",
            "Epoch 67/100\n",
            "4/4 [==============================] - 0s 6ms/step - loss: 0.3140 - mean_absolute_error: 0.4140\n",
            "Epoch 68/100\n",
            "4/4 [==============================] - 0s 5ms/step - loss: 0.3129 - mean_absolute_error: 0.4133\n",
            "Epoch 69/100\n",
            "4/4 [==============================] - 0s 5ms/step - loss: 0.3118 - mean_absolute_error: 0.4125\n",
            "Epoch 70/100\n",
            "4/4 [==============================] - 0s 7ms/step - loss: 0.3109 - mean_absolute_error: 0.4121\n",
            "Epoch 71/100\n",
            "4/4 [==============================] - 0s 6ms/step - loss: 0.3099 - mean_absolute_error: 0.4113\n",
            "Epoch 72/100\n",
            "4/4 [==============================] - 0s 4ms/step - loss: 0.3087 - mean_absolute_error: 0.4104\n",
            "Epoch 73/100\n",
            "4/4 [==============================] - 0s 5ms/step - loss: 0.3079 - mean_absolute_error: 0.4097\n",
            "Epoch 74/100\n",
            "4/4 [==============================] - 0s 5ms/step - loss: 0.3067 - mean_absolute_error: 0.4091\n",
            "Epoch 75/100\n",
            "4/4 [==============================] - 0s 4ms/step - loss: 0.3056 - mean_absolute_error: 0.4080\n",
            "Epoch 76/100\n",
            "4/4 [==============================] - 0s 4ms/step - loss: 0.3049 - mean_absolute_error: 0.4073\n",
            "Epoch 77/100\n",
            "4/4 [==============================] - 0s 4ms/step - loss: 0.3036 - mean_absolute_error: 0.4064\n",
            "Epoch 78/100\n",
            "4/4 [==============================] - 0s 5ms/step - loss: 0.3024 - mean_absolute_error: 0.4054\n",
            "Epoch 79/100\n",
            "4/4 [==============================] - 0s 5ms/step - loss: 0.3020 - mean_absolute_error: 0.4046\n",
            "Epoch 80/100\n",
            "4/4 [==============================] - 0s 5ms/step - loss: 0.3006 - mean_absolute_error: 0.4036\n",
            "Epoch 81/100\n",
            "4/4 [==============================] - 0s 8ms/step - loss: 0.2995 - mean_absolute_error: 0.4028\n",
            "Epoch 82/100\n",
            "4/4 [==============================] - 0s 6ms/step - loss: 0.2987 - mean_absolute_error: 0.4024\n",
            "Epoch 83/100\n",
            "4/4 [==============================] - 0s 5ms/step - loss: 0.2975 - mean_absolute_error: 0.4019\n",
            "Epoch 84/100\n",
            "4/4 [==============================] - 0s 4ms/step - loss: 0.2965 - mean_absolute_error: 0.4010\n",
            "Epoch 85/100\n",
            "4/4 [==============================] - 0s 4ms/step - loss: 0.2954 - mean_absolute_error: 0.4002\n",
            "Epoch 86/100\n",
            "4/4 [==============================] - 0s 4ms/step - loss: 0.2942 - mean_absolute_error: 0.3992\n",
            "Epoch 87/100\n",
            "4/4 [==============================] - 0s 4ms/step - loss: 0.2934 - mean_absolute_error: 0.3984\n",
            "Epoch 88/100\n",
            "4/4 [==============================] - 0s 5ms/step - loss: 0.2921 - mean_absolute_error: 0.3974\n",
            "Epoch 89/100\n",
            "4/4 [==============================] - 0s 4ms/step - loss: 0.2910 - mean_absolute_error: 0.3966\n",
            "Epoch 90/100\n",
            "4/4 [==============================] - 0s 5ms/step - loss: 0.2899 - mean_absolute_error: 0.3958\n",
            "Epoch 91/100\n",
            "4/4 [==============================] - 0s 5ms/step - loss: 0.2890 - mean_absolute_error: 0.3950\n",
            "Epoch 92/100\n",
            "4/4 [==============================] - 0s 5ms/step - loss: 0.2881 - mean_absolute_error: 0.3944\n",
            "Epoch 93/100\n",
            "4/4 [==============================] - 0s 4ms/step - loss: 0.2869 - mean_absolute_error: 0.3935\n",
            "Epoch 94/100\n",
            "4/4 [==============================] - 0s 6ms/step - loss: 0.2860 - mean_absolute_error: 0.3927\n",
            "Epoch 95/100\n",
            "4/4 [==============================] - 0s 5ms/step - loss: 0.2852 - mean_absolute_error: 0.3919\n",
            "Epoch 96/100\n",
            "4/4 [==============================] - 0s 5ms/step - loss: 0.2842 - mean_absolute_error: 0.3906\n",
            "Epoch 97/100\n",
            "4/4 [==============================] - 0s 5ms/step - loss: 0.2832 - mean_absolute_error: 0.3902\n",
            "Epoch 98/100\n",
            "4/4 [==============================] - 0s 5ms/step - loss: 0.2822 - mean_absolute_error: 0.3894\n",
            "Epoch 99/100\n",
            "4/4 [==============================] - 0s 5ms/step - loss: 0.2812 - mean_absolute_error: 0.3886\n",
            "Epoch 100/100\n",
            "4/4 [==============================] - 0s 5ms/step - loss: 0.2802 - mean_absolute_error: 0.3880\n"
          ]
        },
        {
          "output_type": "execute_result",
          "data": {
            "text/plain": [
              "<keras.callbacks.History at 0x799021052bc0>"
            ]
          },
          "metadata": {},
          "execution_count": 12
        }
      ],
      "source": [
        "#Training the model\n",
        "model.fit(traindata, trainoutput, epochs=100)  # we pass the data, labels and epochs"
      ]
    },
    {
      "cell_type": "code",
      "execution_count": 13,
      "metadata": {
        "colab": {
          "base_uri": "https://localhost:8080/"
        },
        "id": "8eAjL4iIzDTy",
        "outputId": "30b8000a-28ee-42fe-86c4-09c7195286cb"
      },
      "outputs": [
        {
          "output_type": "stream",
          "name": "stdout",
          "text": [
            "4/4 [==============================] - 0s 4ms/step - loss: 0.2795 - mean_absolute_error: 0.3877\n",
            "Test accuracy: 0.38770443201065063\n"
          ]
        }
      ],
      "source": [
        "test_loss, test_acc = model.evaluate(traindata,  trainoutput, verbose=1)\n",
        "\n",
        "print('Test accuracy:', test_acc)"
      ]
    },
    {
      "cell_type": "code",
      "execution_count": 14,
      "metadata": {
        "colab": {
          "base_uri": "https://localhost:8080/"
        },
        "id": "Pt_DkH349XlQ",
        "outputId": "8ed6d437-b6fa-408d-ce81-e6568aca6c2a"
      },
      "outputs": [
        {
          "output_type": "stream",
          "name": "stdout",
          "text": [
            "2/2 [==============================] - 0s 13ms/step\n"
          ]
        }
      ],
      "source": [
        "predictions = model.predict(testdata)\n"
      ]
    },
    {
      "cell_type": "code",
      "execution_count": 18,
      "metadata": {
        "colab": {
          "base_uri": "https://localhost:8080/"
        },
        "id": "drhbG7MsX4Oh",
        "outputId": "390b7779-5ed5-4a55-ade9-130bff7678a2"
      },
      "outputs": [
        {
          "output_type": "stream",
          "name": "stdout",
          "text": [
            "[1.842256]\n"
          ]
        }
      ],
      "source": [
        "print(predictions[2])\n"
      ]
    },
    {
      "cell_type": "code",
      "execution_count": 16,
      "metadata": {
        "colab": {
          "base_uri": "https://localhost:8080/"
        },
        "id": "JaQ5bO1tX8CF",
        "outputId": "1dade511-c507-4935-f621-a1be8ec96f77"
      },
      "outputs": [
        {
          "output_type": "stream",
          "name": "stdout",
          "text": [
            "    3.13\n",
            "0   1.90\n",
            "1   1.52\n",
            "2   1.46\n",
            "3   1.33\n",
            "4   1.49\n",
            "5   1.94\n",
            "6   1.59\n",
            "7   2.11\n",
            "8   1.71\n",
            "9   1.47\n",
            "10  1.53\n",
            "11  1.57\n",
            "12  1.79\n",
            "13  1.59\n",
            "14  1.49\n",
            "15  1.54\n",
            "16  5.05\n",
            "17  4.80\n",
            "18  5.32\n",
            "19  3.80\n",
            "20  2.48\n",
            "21  2.81\n",
            "22  2.73\n",
            "23  2.27\n",
            "24  2.47\n",
            "25  2.50\n",
            "26  2.79\n",
            "27  2.33\n",
            "28  2.46\n",
            "29  1.58\n",
            "30  1.78\n",
            "31  1.83\n",
            "32  2.04\n",
            "33  2.03\n",
            "34  1.86\n",
            "35  1.71\n",
            "36  1.86\n",
            "37  1.50\n",
            "38  1.20\n",
            "39  1.39\n",
            "40  1.35\n",
            "41  1.22\n",
            "42  1.35\n",
            "43  1.40\n",
            "44  1.69\n",
            "45  1.72\n",
            "46  2.18\n",
            "47  2.00\n",
            "48  2.56\n",
            "49  2.33\n",
            "50  1.76\n",
            "51  2.56\n",
            "52  2.10\n",
            "53  2.41\n",
            "54  2.71\n"
          ]
        }
      ],
      "source": [
        "print(testoutput)"
      ]
    }
  ],
  "metadata": {
    "colab": {
      "provenance": [],
      "include_colab_link": true
    },
    "kernelspec": {
      "display_name": "Python 3",
      "name": "python3"
    },
    "language_info": {
      "name": "python"
    }
  },
  "nbformat": 4,
  "nbformat_minor": 0
}