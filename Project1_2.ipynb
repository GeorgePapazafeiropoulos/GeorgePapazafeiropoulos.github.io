{
  "cells": [
    {
      "cell_type": "markdown",
      "metadata": {
        "id": "view-in-github",
        "colab_type": "text"
      },
      "source": [
        "<a href=\"https://colab.research.google.com/github/GeorgePapazafeiropoulos/GeorgePapazafeiropoulos.github.io/blob/D_Trials_1.0/Project1_2.ipynb\" target=\"_parent\"><img src=\"https://colab.research.google.com/assets/colab-badge.svg\" alt=\"Open In Colab\"/></a>"
      ]
    },
    {
      "cell_type": "code",
      "execution_count": 1,
      "metadata": {
        "id": "r4ZUDp13R1vU"
      },
      "outputs": [],
      "source": [
        "# TensorFlow and tf.keras\n",
        "import tensorflow as tf\n",
        "from tensorflow import keras\n",
        "from keras.regularizers import l1, l2\n",
        "from keras.layers import Dense\n",
        "\n",
        "# Helper libraries\n",
        "import numpy as np\n",
        "import matplotlib.pyplot as plt\n",
        "import pandas as pd"
      ]
    },
    {
      "cell_type": "code",
      "execution_count": 2,
      "metadata": {
        "id": "lH5scc1CSA8p",
        "colab": {
          "base_uri": "https://localhost:8080/"
        },
        "outputId": "6f80536d-2f5e-4546-b749-c0e0a25c269f"
      },
      "outputs": [
        {
          "output_type": "stream",
          "name": "stdout",
          "text": [
            "[[0.80729167]\n",
            " [0.7734375 ]\n",
            " [0.78385417]\n",
            " [0.64583333]\n",
            " [0.59895833]\n",
            " [0.53385417]\n",
            " [0.46614583]\n",
            " [0.359375  ]\n",
            " [0.35416667]\n",
            " [0.45052083]\n",
            " [0.44010417]\n",
            " [0.5078125 ]\n",
            " [0.20833333]\n",
            " [0.5       ]\n",
            " [0.48177083]\n",
            " [0.50520833]\n",
            " [0.49739583]\n",
            " [0.47395833]\n",
            " [0.41666667]\n",
            " [0.51822917]\n",
            " [0.4765625 ]\n",
            " [0.4296875 ]\n",
            " [0.5234375 ]\n",
            " [0.48177083]\n",
            " [0.37239583]\n",
            " [0.390625  ]\n",
            " [0.390625  ]\n",
            " [0.33333333]\n",
            " [0.453125  ]\n",
            " [0.4140625 ]\n",
            " [0.40885417]\n",
            " [0.39322917]\n",
            " [0.38802083]\n",
            " [0.58072917]\n",
            " [0.62239583]\n",
            " [0.53645833]\n",
            " [0.453125  ]\n",
            " [0.41145833]\n",
            " [0.44791667]\n",
            " [0.4140625 ]\n",
            " [0.4765625 ]\n",
            " [0.77864583]\n",
            " [0.90885417]\n",
            " [0.48177083]\n",
            " [0.47916667]\n",
            " [0.53645833]\n",
            " [0.49479167]\n",
            " [0.59895833]\n",
            " [0.55729167]\n",
            " [0.46354167]\n",
            " [0.51302083]\n",
            " [0.50520833]\n",
            " [0.52864583]\n",
            " [0.46354167]\n",
            " [0.33854167]\n",
            " [0.46875   ]\n",
            " [0.40364583]\n",
            " [0.43229167]\n",
            " [0.4375    ]\n",
            " [0.41666667]\n",
            " [0.34895833]\n",
            " [0.3984375 ]\n",
            " [0.390625  ]\n",
            " [0.36979167]\n",
            " [0.36458333]\n",
            " [0.5703125 ]\n",
            " [0.51302083]\n",
            " [0.4921875 ]\n",
            " [0.38541667]\n",
            " [0.54166667]\n",
            " [0.44270833]\n",
            " [0.53645833]\n",
            " [0.515625  ]\n",
            " [0.54947917]\n",
            " [0.42447917]\n",
            " [0.58072917]\n",
            " [0.49739583]\n",
            " [0.44010417]\n",
            " [0.3515625 ]\n",
            " [0.52604167]\n",
            " [0.49479167]\n",
            " [0.65885417]\n",
            " [1.        ]\n",
            " [0.71354167]\n",
            " [0.546875  ]\n",
            " [0.390625  ]\n",
            " [0.48697917]\n",
            " [0.4453125 ]\n",
            " [0.453125  ]\n",
            " [0.40104167]\n",
            " [0.50260417]\n",
            " [0.40885417]\n",
            " [0.34635417]\n",
            " [0.359375  ]\n",
            " [0.47916667]\n",
            " [0.51041667]\n",
            " [0.6328125 ]\n",
            " [0.46354167]\n",
            " [0.61979167]\n",
            " [0.44791667]\n",
            " [0.453125  ]\n",
            " [0.34375   ]\n",
            " [0.61197917]\n",
            " [0.59895833]\n",
            " [0.453125  ]\n",
            " [0.453125  ]\n",
            " [0.421875  ]\n",
            " [0.5546875 ]\n",
            " [0.37760417]\n",
            " [0.421875  ]\n",
            " [0.6171875 ]\n",
            " [0.50260417]\n",
            " [0.40885417]\n",
            " [0.46875   ]\n",
            " [0.34114583]\n",
            " [0.3203125 ]\n",
            " [0.765625  ]\n",
            " [0.81510417]\n",
            " [0.796875  ]]\n",
            "[[0.38909774]\n",
            " [0.35714286]\n",
            " [0.28571429]\n",
            " [0.27443609]\n",
            " [0.25      ]\n",
            " [0.28007519]\n",
            " [0.36466165]\n",
            " [0.29887218]\n",
            " [0.39661654]\n",
            " [0.32142857]\n",
            " [0.27631579]\n",
            " [0.28759398]\n",
            " [0.29511278]\n",
            " [0.33646617]\n",
            " [0.29887218]\n",
            " [0.28007519]\n",
            " [0.28947368]\n",
            " [0.94924812]\n",
            " [0.90225564]\n",
            " [1.        ]\n",
            " [0.71428571]\n",
            " [0.46616541]\n",
            " [0.52819549]\n",
            " [0.51315789]\n",
            " [0.42669173]\n",
            " [0.46428571]\n",
            " [0.46992481]\n",
            " [0.52443609]\n",
            " [0.43796992]\n",
            " [0.46240602]\n",
            " [0.29699248]\n",
            " [0.33458647]\n",
            " [0.34398496]\n",
            " [0.38345865]\n",
            " [0.38157895]\n",
            " [0.34962406]\n",
            " [0.32142857]\n",
            " [0.34962406]\n",
            " [0.28195489]\n",
            " [0.22556391]\n",
            " [0.2612782 ]\n",
            " [0.2537594 ]\n",
            " [0.22932331]\n",
            " [0.2537594 ]\n",
            " [0.26315789]\n",
            " [0.31766917]\n",
            " [0.32330827]\n",
            " [0.40977444]\n",
            " [0.37593985]\n",
            " [0.48120301]\n",
            " [0.43796992]\n",
            " [0.33082707]\n",
            " [0.48120301]\n",
            " [0.39473684]\n",
            " [0.45300752]\n",
            " [0.5093985 ]]\n"
          ]
        }
      ],
      "source": [
        "# Importing Train Data\n",
        "url = 'https://raw.githubusercontent.com/GeorgePapazafeiropoulos/GeorgePapazafeiropoulos.github.io/D_Trials_1.0/annOnline/DATA_TRAIN.csv'\n",
        "traindata = pd.read_csv(url, skiprows=None)\n",
        "traindata = traindata.values\n",
        "#print(traindata)\n",
        "\n",
        "# Importing Test Data\n",
        "url='https://raw.githubusercontent.com/GeorgePapazafeiropoulos/GeorgePapazafeiropoulos.github.io/D_Trials_1.0/annOnline/DATA_TEST.csv'\n",
        "testdata = pd.read_csv(url, skiprows=None)\n",
        "testdata=testdata.values\n",
        "#print(testdata)\n",
        "\n",
        "# Importing Train Output\n",
        "url='https://raw.githubusercontent.com/GeorgePapazafeiropoulos/GeorgePapazafeiropoulos.github.io/D_Trials_1.0/annOnline/OUTPUT_TRAIN.csv'\n",
        "trainoutput = pd.read_csv(url, skiprows=None)\n",
        "trainoutput=trainoutput.values\n",
        "trainoutput=trainoutput/np.max(trainoutput)\n",
        "print(trainoutput)\n",
        "\n",
        "# Importing Test Output\n",
        "url='https://raw.githubusercontent.com/GeorgePapazafeiropoulos/GeorgePapazafeiropoulos.github.io/D_Trials_1.0/annOnline/OUTPUT_TEST.csv'\n",
        "testoutput = pd.read_csv(url, skiprows=None)\n",
        "testoutput=testoutput.values\n",
        "testoutput=testoutput/np.max(testoutput)\n",
        "print(testoutput)"
      ]
    },
    {
      "cell_type": "code",
      "execution_count": 3,
      "metadata": {
        "colab": {
          "base_uri": "https://localhost:8080/"
        },
        "id": "Itm2x1h43J-j",
        "outputId": "431ecc70-3854-40a9-a5a1-75ed3965d98d"
      },
      "outputs": [
        {
          "output_type": "execute_result",
          "data": {
            "text/plain": [
              "(119, 6)"
            ]
          },
          "metadata": {},
          "execution_count": 3
        }
      ],
      "source": [
        "#Shape of training data\n",
        "traindata.shape"
      ]
    },
    {
      "cell_type": "code",
      "execution_count": 4,
      "metadata": {
        "colab": {
          "base_uri": "https://localhost:8080/"
        },
        "id": "kSbQfNsL3WX0",
        "outputId": "1d4435d6-ca06-46ba-876f-9f09722d3bb3"
      },
      "outputs": [
        {
          "output_type": "execute_result",
          "data": {
            "text/plain": [
              "(56, 6)"
            ]
          },
          "metadata": {},
          "execution_count": 4
        }
      ],
      "source": [
        "#Shape of test data\n",
        "testdata.shape"
      ]
    },
    {
      "cell_type": "code",
      "execution_count": 5,
      "metadata": {
        "colab": {
          "base_uri": "https://localhost:8080/"
        },
        "id": "9Eyqe1cg3w5b",
        "outputId": "779af30c-a73d-4020-b153-054f37b0c0b5"
      },
      "outputs": [
        {
          "output_type": "execute_result",
          "data": {
            "text/plain": [
              "(119, 1)"
            ]
          },
          "metadata": {},
          "execution_count": 5
        }
      ],
      "source": [
        "#Shape of training output\n",
        "trainoutput.shape"
      ]
    },
    {
      "cell_type": "code",
      "execution_count": 6,
      "metadata": {
        "colab": {
          "base_uri": "https://localhost:8080/"
        },
        "id": "b0Rbb0XSx2GE",
        "outputId": "af8b304e-f17c-41c8-dbb0-d927b878fda1"
      },
      "outputs": [
        {
          "output_type": "execute_result",
          "data": {
            "text/plain": [
              "(56, 1)"
            ]
          },
          "metadata": {},
          "execution_count": 6
        }
      ],
      "source": [
        "#Shape of test output\n",
        "testoutput.shape"
      ]
    },
    {
      "cell_type": "code",
      "execution_count": 7,
      "metadata": {
        "id": "7coLWNmu38MD"
      },
      "outputs": [],
      "source": [
        "#Data Preprocessing\n",
        "traindata = traindata /1.0\n",
        "testdata = testdata /1.0\n",
        "\n",
        "#print(traindata)\n",
        "#print(testdata)"
      ]
    },
    {
      "cell_type": "code",
      "execution_count": 8,
      "metadata": {
        "id": "pg9YK3PQ7Xyt"
      },
      "outputs": [],
      "source": [
        "#Building the model\n",
        "model = keras.Sequential([\n",
        "    keras.layers.Flatten(),  # input layer (1)\n",
        "    keras.layers.Dense(1024, activation='relu'),  # hidden layer (2)\n",
        "    keras.layers.Dense(1024, activation='relu'),  # hidden layer (2)\n",
        "    keras.layers.Dense(1024, activation='relu'),  # hidden layer (2)\n",
        "    keras.layers.Dense(1, activation='linear') # output layer (3)\n",
        "])\n"
      ]
    },
    {
      "cell_type": "code",
      "execution_count": 9,
      "metadata": {
        "id": "uapx4iVn7v6s"
      },
      "outputs": [],
      "source": [
        "#Compiling the model\n",
        "model.compile(optimizer='adam',\n",
        "              loss='mean_squared_error',\n",
        "              metrics=['mean_absolute_error'])"
      ]
    },
    {
      "cell_type": "code",
      "execution_count": 10,
      "metadata": {
        "colab": {
          "base_uri": "https://localhost:8080/"
        },
        "id": "6STBpkg878VQ",
        "outputId": "019d83f0-5e91-413d-ad56-cb1e76edeb0b"
      },
      "outputs": [
        {
          "output_type": "stream",
          "name": "stdout",
          "text": [
            "Epoch 1/100\n",
            "3/3 [==============================] - 1s 99ms/step - loss: 11411.2285 - mean_absolute_error: 76.9927 - val_loss: 935.2188 - val_mean_absolute_error: 29.9726\n",
            "Epoch 2/100\n",
            "3/3 [==============================] - 0s 40ms/step - loss: 1355.3761 - mean_absolute_error: 34.3916 - val_loss: 695.9616 - val_mean_absolute_error: 25.8383\n",
            "Epoch 3/100\n",
            "3/3 [==============================] - 0s 38ms/step - loss: 172.6300 - mean_absolute_error: 11.1070 - val_loss: 531.0370 - val_mean_absolute_error: 22.4561\n",
            "Epoch 4/100\n",
            "3/3 [==============================] - 0s 33ms/step - loss: 253.3255 - mean_absolute_error: 15.0919 - val_loss: 52.9433 - val_mean_absolute_error: 6.9809\n",
            "Epoch 5/100\n",
            "3/3 [==============================] - 0s 40ms/step - loss: 24.2027 - mean_absolute_error: 4.3994 - val_loss: 117.0933 - val_mean_absolute_error: 10.5507\n",
            "Epoch 6/100\n",
            "3/3 [==============================] - 0s 38ms/step - loss: 47.2330 - mean_absolute_error: 6.4682 - val_loss: 1.1308 - val_mean_absolute_error: 1.0170\n",
            "Epoch 7/100\n",
            "3/3 [==============================] - 0s 37ms/step - loss: 8.8503 - mean_absolute_error: 2.5500 - val_loss: 39.4966 - val_mean_absolute_error: 6.0990\n",
            "Epoch 8/100\n",
            "3/3 [==============================] - 0s 35ms/step - loss: 12.6749 - mean_absolute_error: 3.1065 - val_loss: 1.6011 - val_mean_absolute_error: 1.2314\n",
            "Epoch 9/100\n",
            "3/3 [==============================] - 0s 34ms/step - loss: 5.8939 - mean_absolute_error: 2.1949 - val_loss: 10.8684 - val_mean_absolute_error: 3.2298\n",
            "Epoch 10/100\n",
            "3/3 [==============================] - 0s 37ms/step - loss: 2.7959 - mean_absolute_error: 1.3629 - val_loss: 5.2119 - val_mean_absolute_error: 2.1705\n",
            "Epoch 11/100\n",
            "3/3 [==============================] - 0s 32ms/step - loss: 2.7110 - mean_absolute_error: 1.5375 - val_loss: 0.5899 - val_mean_absolute_error: 0.6842\n",
            "Epoch 12/100\n",
            "3/3 [==============================] - 0s 42ms/step - loss: 0.6092 - mean_absolute_error: 0.6241 - val_loss: 1.4731 - val_mean_absolute_error: 1.1344\n",
            "Epoch 13/100\n",
            "3/3 [==============================] - 0s 31ms/step - loss: 0.5048 - mean_absolute_error: 0.5720 - val_loss: 0.4587 - val_mean_absolute_error: 0.5791\n",
            "Epoch 14/100\n",
            "3/3 [==============================] - 0s 38ms/step - loss: 0.2703 - mean_absolute_error: 0.4023 - val_loss: 0.1394 - val_mean_absolute_error: 0.2929\n",
            "Epoch 15/100\n",
            "3/3 [==============================] - 0s 41ms/step - loss: 0.1373 - mean_absolute_error: 0.2911 - val_loss: 0.1702 - val_mean_absolute_error: 0.3591\n",
            "Epoch 16/100\n",
            "3/3 [==============================] - 0s 33ms/step - loss: 0.0938 - mean_absolute_error: 0.2442 - val_loss: 0.2651 - val_mean_absolute_error: 0.4427\n",
            "Epoch 17/100\n",
            "3/3 [==============================] - 0s 32ms/step - loss: 0.1189 - mean_absolute_error: 0.2683 - val_loss: 0.0767 - val_mean_absolute_error: 0.2417\n",
            "Epoch 18/100\n",
            "3/3 [==============================] - 0s 34ms/step - loss: 0.0716 - mean_absolute_error: 0.2178 - val_loss: 0.0712 - val_mean_absolute_error: 0.2221\n",
            "Epoch 19/100\n",
            "3/3 [==============================] - 0s 36ms/step - loss: 0.0594 - mean_absolute_error: 0.1978 - val_loss: 0.1360 - val_mean_absolute_error: 0.3017\n",
            "Epoch 20/100\n",
            "3/3 [==============================] - 0s 36ms/step - loss: 0.0603 - mean_absolute_error: 0.2007 - val_loss: 0.0828 - val_mean_absolute_error: 0.2349\n",
            "Epoch 21/100\n",
            "3/3 [==============================] - 0s 33ms/step - loss: 0.0532 - mean_absolute_error: 0.1858 - val_loss: 0.0602 - val_mean_absolute_error: 0.2114\n",
            "Epoch 22/100\n",
            "3/3 [==============================] - 0s 33ms/step - loss: 0.0499 - mean_absolute_error: 0.1754 - val_loss: 0.1152 - val_mean_absolute_error: 0.2704\n",
            "Epoch 23/100\n",
            "3/3 [==============================] - 0s 30ms/step - loss: 0.0522 - mean_absolute_error: 0.1886 - val_loss: 0.0744 - val_mean_absolute_error: 0.2181\n",
            "Epoch 24/100\n",
            "3/3 [==============================] - 0s 30ms/step - loss: 0.0415 - mean_absolute_error: 0.1627 - val_loss: 0.0596 - val_mean_absolute_error: 0.2054\n",
            "Epoch 25/100\n",
            "3/3 [==============================] - 0s 39ms/step - loss: 0.0430 - mean_absolute_error: 0.1641 - val_loss: 0.0838 - val_mean_absolute_error: 0.2329\n",
            "Epoch 26/100\n",
            "3/3 [==============================] - 0s 33ms/step - loss: 0.0424 - mean_absolute_error: 0.1673 - val_loss: 0.0771 - val_mean_absolute_error: 0.2248\n",
            "Epoch 27/100\n",
            "3/3 [==============================] - 0s 32ms/step - loss: 0.0395 - mean_absolute_error: 0.1607 - val_loss: 0.0585 - val_mean_absolute_error: 0.2012\n",
            "Epoch 28/100\n",
            "3/3 [==============================] - 0s 32ms/step - loss: 0.0401 - mean_absolute_error: 0.1614 - val_loss: 0.0733 - val_mean_absolute_error: 0.2243\n",
            "Epoch 29/100\n",
            "3/3 [==============================] - 0s 39ms/step - loss: 0.0390 - mean_absolute_error: 0.1611 - val_loss: 0.0712 - val_mean_absolute_error: 0.2231\n",
            "Epoch 30/100\n",
            "3/3 [==============================] - 0s 31ms/step - loss: 0.0390 - mean_absolute_error: 0.1601 - val_loss: 0.0646 - val_mean_absolute_error: 0.2142\n",
            "Epoch 31/100\n",
            "3/3 [==============================] - 0s 37ms/step - loss: 0.0385 - mean_absolute_error: 0.1586 - val_loss: 0.0728 - val_mean_absolute_error: 0.2282\n",
            "Epoch 32/100\n",
            "3/3 [==============================] - 0s 34ms/step - loss: 0.0375 - mean_absolute_error: 0.1568 - val_loss: 0.0615 - val_mean_absolute_error: 0.2105\n",
            "Epoch 33/100\n",
            "3/3 [==============================] - 0s 38ms/step - loss: 0.0376 - mean_absolute_error: 0.1562 - val_loss: 0.0693 - val_mean_absolute_error: 0.2234\n",
            "Epoch 34/100\n",
            "3/3 [==============================] - 0s 32ms/step - loss: 0.0384 - mean_absolute_error: 0.1578 - val_loss: 0.0667 - val_mean_absolute_error: 0.2193\n",
            "Epoch 35/100\n",
            "3/3 [==============================] - 0s 34ms/step - loss: 0.0413 - mean_absolute_error: 0.1597 - val_loss: 0.0650 - val_mean_absolute_error: 0.2166\n",
            "Epoch 36/100\n",
            "3/3 [==============================] - 0s 35ms/step - loss: 0.0393 - mean_absolute_error: 0.1569 - val_loss: 0.0914 - val_mean_absolute_error: 0.2562\n",
            "Epoch 37/100\n",
            "3/3 [==============================] - 0s 31ms/step - loss: 0.0372 - mean_absolute_error: 0.1577 - val_loss: 0.0552 - val_mean_absolute_error: 0.1997\n",
            "Epoch 38/100\n",
            "3/3 [==============================] - 0s 37ms/step - loss: 0.0400 - mean_absolute_error: 0.1570 - val_loss: 0.0905 - val_mean_absolute_error: 0.2546\n",
            "Epoch 39/100\n",
            "3/3 [==============================] - 0s 35ms/step - loss: 0.0380 - mean_absolute_error: 0.1562 - val_loss: 0.0769 - val_mean_absolute_error: 0.2354\n",
            "Epoch 40/100\n",
            "3/3 [==============================] - 0s 31ms/step - loss: 0.0368 - mean_absolute_error: 0.1531 - val_loss: 0.0639 - val_mean_absolute_error: 0.2133\n",
            "Epoch 41/100\n",
            "3/3 [==============================] - 0s 36ms/step - loss: 0.0359 - mean_absolute_error: 0.1483 - val_loss: 0.0823 - val_mean_absolute_error: 0.2429\n",
            "Epoch 42/100\n",
            "3/3 [==============================] - 0s 31ms/step - loss: 0.0357 - mean_absolute_error: 0.1517 - val_loss: 0.0648 - val_mean_absolute_error: 0.2144\n",
            "Epoch 43/100\n",
            "3/3 [==============================] - 0s 34ms/step - loss: 0.0352 - mean_absolute_error: 0.1487 - val_loss: 0.0782 - val_mean_absolute_error: 0.2370\n",
            "Epoch 44/100\n",
            "3/3 [==============================] - 0s 35ms/step - loss: 0.0348 - mean_absolute_error: 0.1484 - val_loss: 0.0727 - val_mean_absolute_error: 0.2280\n",
            "Epoch 45/100\n",
            "3/3 [==============================] - 0s 32ms/step - loss: 0.0354 - mean_absolute_error: 0.1496 - val_loss: 0.0649 - val_mean_absolute_error: 0.2141\n",
            "Epoch 46/100\n",
            "3/3 [==============================] - 0s 38ms/step - loss: 0.0349 - mean_absolute_error: 0.1496 - val_loss: 0.0874 - val_mean_absolute_error: 0.2493\n",
            "Epoch 47/100\n",
            "3/3 [==============================] - 0s 40ms/step - loss: 0.0348 - mean_absolute_error: 0.1478 - val_loss: 0.0660 - val_mean_absolute_error: 0.2154\n",
            "Epoch 48/100\n",
            "3/3 [==============================] - 0s 39ms/step - loss: 0.0366 - mean_absolute_error: 0.1492 - val_loss: 0.0701 - val_mean_absolute_error: 0.2220\n",
            "Epoch 49/100\n",
            "3/3 [==============================] - 0s 32ms/step - loss: 0.0368 - mean_absolute_error: 0.1526 - val_loss: 0.0893 - val_mean_absolute_error: 0.2512\n",
            "Epoch 50/100\n",
            "3/3 [==============================] - 0s 41ms/step - loss: 0.0370 - mean_absolute_error: 0.1501 - val_loss: 0.0623 - val_mean_absolute_error: 0.2097\n",
            "Epoch 51/100\n",
            "3/3 [==============================] - 0s 36ms/step - loss: 0.0401 - mean_absolute_error: 0.1584 - val_loss: 0.0833 - val_mean_absolute_error: 0.2429\n",
            "Epoch 52/100\n",
            "3/3 [==============================] - 0s 37ms/step - loss: 0.0331 - mean_absolute_error: 0.1427 - val_loss: 0.0646 - val_mean_absolute_error: 0.2125\n",
            "Epoch 53/100\n",
            "3/3 [==============================] - 0s 39ms/step - loss: 0.0327 - mean_absolute_error: 0.1413 - val_loss: 0.0976 - val_mean_absolute_error: 0.2611\n",
            "Epoch 54/100\n",
            "3/3 [==============================] - 0s 31ms/step - loss: 0.0348 - mean_absolute_error: 0.1465 - val_loss: 0.0722 - val_mean_absolute_error: 0.2239\n",
            "Epoch 55/100\n",
            "3/3 [==============================] - 0s 31ms/step - loss: 0.0341 - mean_absolute_error: 0.1433 - val_loss: 0.0799 - val_mean_absolute_error: 0.2367\n",
            "Epoch 56/100\n",
            "3/3 [==============================] - 0s 33ms/step - loss: 0.0384 - mean_absolute_error: 0.1568 - val_loss: 0.0734 - val_mean_absolute_error: 0.2253\n",
            "Epoch 57/100\n",
            "3/3 [==============================] - 0s 29ms/step - loss: 0.0354 - mean_absolute_error: 0.1430 - val_loss: 0.0708 - val_mean_absolute_error: 0.2210\n",
            "Epoch 58/100\n",
            "3/3 [==============================] - 0s 37ms/step - loss: 0.0321 - mean_absolute_error: 0.1426 - val_loss: 0.0988 - val_mean_absolute_error: 0.2614\n",
            "Epoch 59/100\n",
            "3/3 [==============================] - 0s 34ms/step - loss: 0.0344 - mean_absolute_error: 0.1427 - val_loss: 0.0718 - val_mean_absolute_error: 0.2221\n",
            "Epoch 60/100\n",
            "3/3 [==============================] - 0s 30ms/step - loss: 0.0319 - mean_absolute_error: 0.1403 - val_loss: 0.0885 - val_mean_absolute_error: 0.2482\n",
            "Epoch 61/100\n",
            "3/3 [==============================] - 0s 33ms/step - loss: 0.0311 - mean_absolute_error: 0.1384 - val_loss: 0.0712 - val_mean_absolute_error: 0.2208\n",
            "Epoch 62/100\n",
            "3/3 [==============================] - 0s 39ms/step - loss: 0.0316 - mean_absolute_error: 0.1381 - val_loss: 0.0806 - val_mean_absolute_error: 0.2363\n",
            "Epoch 63/100\n",
            "3/3 [==============================] - 0s 34ms/step - loss: 0.0313 - mean_absolute_error: 0.1372 - val_loss: 0.0797 - val_mean_absolute_error: 0.2347\n",
            "Epoch 64/100\n",
            "3/3 [==============================] - 0s 34ms/step - loss: 0.0324 - mean_absolute_error: 0.1402 - val_loss: 0.0760 - val_mean_absolute_error: 0.2285\n",
            "Epoch 65/100\n",
            "3/3 [==============================] - 0s 31ms/step - loss: 0.0332 - mean_absolute_error: 0.1400 - val_loss: 0.0843 - val_mean_absolute_error: 0.2414\n",
            "Epoch 66/100\n",
            "3/3 [==============================] - 0s 39ms/step - loss: 0.0305 - mean_absolute_error: 0.1361 - val_loss: 0.0805 - val_mean_absolute_error: 0.2351\n",
            "Epoch 67/100\n",
            "3/3 [==============================] - 0s 32ms/step - loss: 0.0324 - mean_absolute_error: 0.1430 - val_loss: 0.0739 - val_mean_absolute_error: 0.2243\n",
            "Epoch 68/100\n",
            "3/3 [==============================] - 0s 31ms/step - loss: 0.0314 - mean_absolute_error: 0.1352 - val_loss: 0.0819 - val_mean_absolute_error: 0.2370\n",
            "Epoch 69/100\n",
            "3/3 [==============================] - 0s 39ms/step - loss: 0.0357 - mean_absolute_error: 0.1459 - val_loss: 0.0799 - val_mean_absolute_error: 0.2336\n",
            "Epoch 70/100\n",
            "3/3 [==============================] - 0s 33ms/step - loss: 0.0332 - mean_absolute_error: 0.1409 - val_loss: 0.0741 - val_mean_absolute_error: 0.2242\n",
            "Epoch 71/100\n",
            "3/3 [==============================] - 0s 41ms/step - loss: 0.0324 - mean_absolute_error: 0.1420 - val_loss: 0.0891 - val_mean_absolute_error: 0.2471\n",
            "Epoch 72/100\n",
            "3/3 [==============================] - 0s 39ms/step - loss: 0.0292 - mean_absolute_error: 0.1325 - val_loss: 0.0743 - val_mean_absolute_error: 0.2241\n",
            "Epoch 73/100\n",
            "3/3 [==============================] - 0s 32ms/step - loss: 0.0301 - mean_absolute_error: 0.1314 - val_loss: 0.0887 - val_mean_absolute_error: 0.2463\n",
            "Epoch 74/100\n",
            "3/3 [==============================] - 0s 33ms/step - loss: 0.0312 - mean_absolute_error: 0.1343 - val_loss: 0.0760 - val_mean_absolute_error: 0.2267\n",
            "Epoch 75/100\n",
            "3/3 [==============================] - 0s 32ms/step - loss: 0.0301 - mean_absolute_error: 0.1343 - val_loss: 0.0908 - val_mean_absolute_error: 0.2490\n",
            "Epoch 76/100\n",
            "3/3 [==============================] - 0s 33ms/step - loss: 0.0285 - mean_absolute_error: 0.1278 - val_loss: 0.0751 - val_mean_absolute_error: 0.2255\n",
            "Epoch 77/100\n",
            "3/3 [==============================] - 0s 36ms/step - loss: 0.0283 - mean_absolute_error: 0.1307 - val_loss: 0.0896 - val_mean_absolute_error: 0.2473\n",
            "Epoch 78/100\n",
            "3/3 [==============================] - 0s 35ms/step - loss: 0.0331 - mean_absolute_error: 0.1417 - val_loss: 0.0642 - val_mean_absolute_error: 0.2055\n",
            "Epoch 79/100\n",
            "3/3 [==============================] - 0s 30ms/step - loss: 0.0354 - mean_absolute_error: 0.1421 - val_loss: 0.0995 - val_mean_absolute_error: 0.2596\n",
            "Epoch 80/100\n",
            "3/3 [==============================] - 0s 31ms/step - loss: 0.0373 - mean_absolute_error: 0.1549 - val_loss: 0.0739 - val_mean_absolute_error: 0.2236\n",
            "Epoch 81/100\n",
            "3/3 [==============================] - 0s 34ms/step - loss: 0.0312 - mean_absolute_error: 0.1301 - val_loss: 0.0797 - val_mean_absolute_error: 0.2325\n",
            "Epoch 82/100\n",
            "3/3 [==============================] - 0s 33ms/step - loss: 0.0300 - mean_absolute_error: 0.1352 - val_loss: 0.0845 - val_mean_absolute_error: 0.2397\n",
            "Epoch 83/100\n",
            "3/3 [==============================] - 0s 32ms/step - loss: 0.0297 - mean_absolute_error: 0.1334 - val_loss: 0.0788 - val_mean_absolute_error: 0.2311\n",
            "Epoch 84/100\n",
            "3/3 [==============================] - 0s 46ms/step - loss: 0.0311 - mean_absolute_error: 0.1373 - val_loss: 0.0802 - val_mean_absolute_error: 0.2335\n",
            "Epoch 85/100\n",
            "3/3 [==============================] - 0s 46ms/step - loss: 0.0278 - mean_absolute_error: 0.1278 - val_loss: 0.0794 - val_mean_absolute_error: 0.2324\n",
            "Epoch 86/100\n",
            "3/3 [==============================] - 0s 54ms/step - loss: 0.0272 - mean_absolute_error: 0.1260 - val_loss: 0.0771 - val_mean_absolute_error: 0.2290\n",
            "Epoch 87/100\n",
            "3/3 [==============================] - 0s 56ms/step - loss: 0.0277 - mean_absolute_error: 0.1255 - val_loss: 0.0890 - val_mean_absolute_error: 0.2463\n",
            "Epoch 88/100\n",
            "3/3 [==============================] - 0s 49ms/step - loss: 0.0308 - mean_absolute_error: 0.1350 - val_loss: 0.0709 - val_mean_absolute_error: 0.2185\n",
            "Epoch 89/100\n",
            "3/3 [==============================] - 0s 47ms/step - loss: 0.0303 - mean_absolute_error: 0.1310 - val_loss: 0.0840 - val_mean_absolute_error: 0.2388\n",
            "Epoch 90/100\n",
            "3/3 [==============================] - 0s 59ms/step - loss: 0.0310 - mean_absolute_error: 0.1360 - val_loss: 0.0784 - val_mean_absolute_error: 0.2302\n",
            "Epoch 91/100\n",
            "3/3 [==============================] - 0s 44ms/step - loss: 0.0265 - mean_absolute_error: 0.1247 - val_loss: 0.0731 - val_mean_absolute_error: 0.2220\n",
            "Epoch 92/100\n",
            "3/3 [==============================] - 0s 52ms/step - loss: 0.0260 - mean_absolute_error: 0.1228 - val_loss: 0.0871 - val_mean_absolute_error: 0.2429\n",
            "Epoch 93/100\n",
            "3/3 [==============================] - 0s 50ms/step - loss: 0.0275 - mean_absolute_error: 0.1277 - val_loss: 0.0687 - val_mean_absolute_error: 0.2142\n",
            "Epoch 94/100\n",
            "3/3 [==============================] - 0s 51ms/step - loss: 0.0294 - mean_absolute_error: 0.1249 - val_loss: 0.0993 - val_mean_absolute_error: 0.2588\n",
            "Epoch 95/100\n",
            "3/3 [==============================] - 0s 55ms/step - loss: 0.0281 - mean_absolute_error: 0.1289 - val_loss: 0.0705 - val_mean_absolute_error: 0.2174\n",
            "Epoch 96/100\n",
            "3/3 [==============================] - 0s 53ms/step - loss: 0.0277 - mean_absolute_error: 0.1213 - val_loss: 0.1001 - val_mean_absolute_error: 0.2596\n",
            "Epoch 97/100\n",
            "3/3 [==============================] - 0s 43ms/step - loss: 0.0286 - mean_absolute_error: 0.1324 - val_loss: 0.0828 - val_mean_absolute_error: 0.2363\n",
            "Epoch 98/100\n",
            "3/3 [==============================] - 0s 30ms/step - loss: 0.0250 - mean_absolute_error: 0.1221 - val_loss: 0.0871 - val_mean_absolute_error: 0.2425\n",
            "Epoch 99/100\n",
            "3/3 [==============================] - 0s 31ms/step - loss: 0.0252 - mean_absolute_error: 0.1225 - val_loss: 0.0801 - val_mean_absolute_error: 0.2330\n",
            "Epoch 100/100\n",
            "3/3 [==============================] - 0s 33ms/step - loss: 0.0255 - mean_absolute_error: 0.1196 - val_loss: 0.0949 - val_mean_absolute_error: 0.2534\n"
          ]
        },
        {
          "output_type": "execute_result",
          "data": {
            "text/plain": [
              "<keras.callbacks.History at 0x7e2484569ab0>"
            ]
          },
          "metadata": {},
          "execution_count": 10
        }
      ],
      "source": [
        "#Training the model\n",
        "model.fit(traindata, trainoutput, epochs=100, validation_split=0.2)  # we pass the data, labels and epochs"
      ]
    },
    {
      "cell_type": "code",
      "execution_count": 11,
      "metadata": {
        "colab": {
          "base_uri": "https://localhost:8080/"
        },
        "id": "8eAjL4iIzDTy",
        "outputId": "4f1ae444-0344-4bcd-a832-7cd63126a8ff"
      },
      "outputs": [
        {
          "output_type": "stream",
          "name": "stdout",
          "text": [
            "4/4 [==============================] - 0s 5ms/step - loss: 0.0397 - mean_absolute_error: 0.1505\n",
            "Test loss: 0.03971802815794945\n",
            "Test accuracy: 0.15047171711921692\n"
          ]
        }
      ],
      "source": [
        "test_loss, test_acc = model.evaluate(traindata,  trainoutput, verbose=1)\n",
        "\n",
        "print('Test loss:', test_loss)\n",
        "print('Test accuracy:', test_acc)"
      ]
    },
    {
      "cell_type": "code",
      "execution_count": 12,
      "metadata": {
        "colab": {
          "base_uri": "https://localhost:8080/"
        },
        "id": "Pt_DkH349XlQ",
        "outputId": "e618d430-f7ac-41f8-8728-ae3c6caf8f05"
      },
      "outputs": [
        {
          "output_type": "stream",
          "name": "stdout",
          "text": [
            "2/2 [==============================] - 0s 9ms/step\n"
          ]
        }
      ],
      "source": [
        "predictions = model.predict(testdata)\n",
        "#print(testdata)\n",
        "#print(testdata.iloc[-1]) #In case that testdata is not numpy.ndarray object but dataframe object (which is the direct output of the pd.read_csv above)"
      ]
    },
    {
      "cell_type": "code",
      "execution_count": 13,
      "metadata": {
        "id": "drhbG7MsX4Oh"
      },
      "outputs": [],
      "source": [
        "#print(predictions)\n"
      ]
    },
    {
      "cell_type": "code",
      "execution_count": 14,
      "metadata": {
        "id": "JaQ5bO1tX8CF"
      },
      "outputs": [],
      "source": [
        "#print(testoutput)"
      ]
    },
    {
      "cell_type": "code",
      "source": [
        "# Plot both vectors on the same plot\n",
        "plt.plot(testoutput, label='testoutput')\n",
        "plt.plot(predictions, label='predictions')\n",
        "\n",
        "# Customize the plot (optional)\n",
        "plt.xlabel('Observation')\n",
        "plt.ylabel('Value')\n",
        "plt.title('Plot of Test output and prediction output')\n",
        "plt.legend()\n",
        "\n",
        "# Show the plot\n",
        "plt.show()"
      ],
      "metadata": {
        "colab": {
          "base_uri": "https://localhost:8080/",
          "height": 472
        },
        "id": "dFUlx56MYmQy",
        "outputId": "f40eae86-4385-4f37-e41e-37d3696f9ba7"
      },
      "execution_count": 15,
      "outputs": [
        {
          "output_type": "display_data",
          "data": {
            "text/plain": [
              "<Figure size 640x480 with 1 Axes>"
            ],
            "image/png": "[encoded data removed]"
          },
          "metadata": {}
        }
      ]
    }
  ],
  "metadata": {
    "colab": {
      "provenance": [],
      "include_colab_link": true
    },
    "kernelspec": {
      "display_name": "Python 3",
      "name": "python3"
    },
    "language_info": {
      "name": "python"
    }
  },
  "nbformat": 4,
  "nbformat_minor": 0
}